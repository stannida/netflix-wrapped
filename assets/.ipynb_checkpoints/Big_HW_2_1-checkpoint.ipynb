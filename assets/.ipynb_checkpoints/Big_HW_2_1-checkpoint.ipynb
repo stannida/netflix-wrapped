{
 "cells": [
  {
   "cell_type": "markdown",
   "metadata": {},
   "source": [
    "# Information Management\n",
    "## Fall 2020\n",
    "\n",
    "### Big HomeWork"
   ]
  },
  {
   "cell_type": "markdown",
   "metadata": {},
   "source": [
    "Enter your full name here"
   ]
  },
  {
   "cell_type": "markdown",
   "metadata": {},
   "source": [
    "Enter your group number here"
   ]
  },
  {
   "cell_type": "markdown",
   "metadata": {},
   "source": [
    "<img style=\"float: left; height: 5.5em;\" alt = \"Book\" src=\"https://m.media-amazon.com/images/I/51c1VrgvhVL.jpg\">\n",
    "Here, you are invited to resolve 10 Data Analysis Tasks (each of 1 point).<br>\n",
    "Please, find out helpful material, placed in the book Vanderplas, J. T. (2016). Python Data Science Handbook : Essential Tools for Working with Data; and the <a href=\"https://github.com/jakevdp/PythonDataScienceHandbook\" target=\"_blank\" rel=\"noopener noreferrer\">notebooks for each chapter</a>. <b>Criteria</b>: full answer or answer with minor mistake (that does not contradict to the task and does not affect the correctness of your results and conslusions) deserves one point, otherwise - zero points."
   ]
  },
  {
   "cell_type": "markdown",
   "metadata": {},
   "source": [
    "## Temperature Data Analysis\n",
    "Use [this dataset](https://raw.githubusercontent.com/ternikov/hse/gh-pages/hw5/temp_data.csv) with historical temperatures (in Celsius) for given city.\n",
    "\n",
    "**Useful links**: [10 minutes to pandas](https://pandas.pydata.org/pandas-docs/stable/user_guide/10min.html), [pandas Q&A](https://nbviewer.jupyter.org/github/justmarkham/pandas-videos/blob/master/pandas.ipynb), [matplotlib documentation](https://matplotlib.org/users/index.html), [matplotlib examples](https://matplotlib.org/examples/), [seaborn documentation](https://seaborn.pydata.org/#).\n",
    "\n",
    "---\n",
    "\n",
    "**Task 1**. Find out average temperatures by combinations of years and seasons (Winter, Spring, Summer, Autumn).\n",
    "\n",
    "**Task 2**. Reproduce the chart (pay attention on all details) that is given below.\n",
    "\n",
    "\n",
    "<img alt = \"chart\" src=\"https://raw.githubusercontent.com/ternikov/hse/gh-pages/hw5/plot.png\">"
   ]
  },
  {
   "cell_type": "code",
   "execution_count": 1,
   "metadata": {
    "collapsed": true
   },
   "outputs": [],
   "source": [
    "import pandas as pd"
   ]
  },
  {
   "cell_type": "code",
   "execution_count": 6,
   "metadata": {},
   "outputs": [
    {
     "data": {
      "text/plain": [
       "year    season\n",
       "1952.0  Autumn     2.747761\n",
       "        Spring     0.385463\n",
       "        Summer    14.666325\n",
       "        Winter    -2.770692\n",
       "1953.0  Autumn     6.093719\n",
       "        Spring     4.402003\n",
       "        Summer    16.406215\n",
       "        Winter    -5.116566\n",
       "1954.0  Autumn     5.507200\n",
       "        Spring     3.866045\n",
       "        Summer    15.329372\n",
       "        Winter    -6.226597\n",
       "1955.0  Autumn     5.936214\n",
       "        Spring    -0.229145\n",
       "        Summer    16.104136\n",
       "        Winter    -8.276137\n",
       "1956.0  Autumn     2.783176\n",
       "        Spring     1.294730\n",
       "        Summer    14.593398\n",
       "        Winter    -8.378568\n",
       "1957.0  Autumn     5.281822\n",
       "        Spring     0.874951\n",
       "        Summer    15.199721\n",
       "        Winter    -2.661361\n",
       "1958.0  Autumn     6.567901\n",
       "        Spring     0.554560\n",
       "        Summer    14.415173\n",
       "        Winter    -8.130867\n",
       "1959.0  Autumn     4.995564\n",
       "        Spring     4.629431\n",
       "                    ...    \n",
       "2009.0  Summer    15.772999\n",
       "        Winter    -4.772999\n",
       "2010.0  Autumn     4.950020\n",
       "        Spring     4.643369\n",
       "        Summer    18.296296\n",
       "        Winter   -10.186892\n",
       "2011.0  Autumn     8.371565\n",
       "        Spring     5.034249\n",
       "        Summer    18.328953\n",
       "        Winter    -5.068698\n",
       "2012.0  Autumn     6.953405\n",
       "        Spring     4.958383\n",
       "        Summer    15.600358\n",
       "        Winter    -6.597248\n",
       "2013.0  Autumn     7.241736\n",
       "        Spring     3.100159\n",
       "        Summer    17.622859\n",
       "        Winter    -2.372419\n",
       "2014.0  Autumn     6.646157\n",
       "        Spring     5.986260\n",
       "        Summer    16.943847\n",
       "        Winter    -3.010966\n",
       "2015.0  Autumn     7.436280\n",
       "        Spring     5.473716\n",
       "        Summer    15.438272\n",
       "        Winter     0.171104\n",
       "2016.0  Autumn     5.468751\n",
       "        Spring     6.190960\n",
       "        Summer    16.228594\n",
       "        Winter    -3.820706\n",
       "Name: temp, Length: 224, dtype: float64"
      ]
     },
     "execution_count": 6,
     "metadata": {},
     "output_type": "execute_result"
    }
   ],
   "source": [
    "#Task 1\n",
    "temp_df = pd.read_csv(\"https://raw.githubusercontent.com/ternikov/hse/gh-pages/hw5/temp_data.csv\")\n",
    "\n",
    "def get_season(month):\n",
    "    if month<=2:\n",
    "        return 'Winter'\n",
    "    elif month<=5:\n",
    "        return 'Spring'\n",
    "    elif month<=8:\n",
    "        return 'Summer'\n",
    "    elif month<=11:\n",
    "        return 'Autumn'\n",
    "    else: \n",
    "        return 'Winter'\n",
    "    \n",
    "temp_df['season'] = temp_df['month'].apply(get_season)\n",
    "temp_df.groupby(['year', 'season'])['temp'].mean()"
   ]
  },
  {
   "cell_type": "code",
   "execution_count": null,
   "metadata": {
    "collapsed": true
   },
   "outputs": [],
   "source": [
    "#Task 2\n"
   ]
  },
  {
   "cell_type": "markdown",
   "metadata": {},
   "source": [
    "## Linear Regression Analysis\n",
    "Use `train.csv` dataset from [Sberbank Russian Housing Market](https://www.kaggle.com/c/sberbank-russian-housing-market/data) competition (you need to register on Kaggle in order to have an access to its datasets).\n",
    "\n",
    "**Useful links**: [scikit-learn documentation](https://scikit-learn.org/stable/supervised_learning.html#supervised-learning), [in depth: linear regression](https://github.com/jakevdp/PythonDataScienceHandbook/blob/master/notebooks/05.06-Linear-Regression.ipynb).\n",
    "\n",
    "---\n",
    "**Task 3**. Using `train.csv` dataset, split it in two parts at random (use supporting code below) for `train_sample` (80% of observations) and `test_sample` (20% of observations). Perform two linear regression models for `price_doc` prediction for `train_sample` (use both numeric and categorical independent variables in your models).\n",
    "```python\n",
    "import pandas as pd\n",
    "import zipfile\n",
    "\n",
    "zf = zipfile.ZipFile('train.csv.zip') \n",
    "df = pd.read_csv(zf.open('train.csv'))\n",
    "\n",
    "from sklearn.model_selection import train_test_split\n",
    "train_sample, test_sample = train_test_split(df, test_size=0.2)\n",
    "```\n",
    "\n",
    "**Task 4**. Justify your choice and models' quality with supporting tests, charts and comments briefly.\n",
    "\n",
    "**Task 5**. Assess the quality of your models on `test_sample` dataset. Use RMSE metric. Briefly describe whether or not this quality is appropriate."
   ]
  },
  {
   "cell_type": "code",
   "execution_count": null,
   "metadata": {
    "collapsed": true
   },
   "outputs": [],
   "source": []
  },
  {
   "cell_type": "markdown",
   "metadata": {},
   "source": [
    "## K-Nearest Neighbors Analysis\n",
    "Use any financial ticker (except S&P500) to create the trading strategy, using KNN classifier.\n",
    "\n",
    "**Hint**. Use [this material](https://blog.quantinsti.com/machine-learning-k-nearest-neighbors-knn-algorithm-python/) to start your own calculations. [This link](https://pypi.org/project/fix-yahoo-finance/0.1.30/) with library fixes might be helpful.\n",
    "\n",
    "**Useful link**: [scikit-learn documentation](https://scikit-learn.org/stable/supervised_learning.html#supervised-learning).\n",
    "\n",
    "---\n",
    "**Task 6**. Upload data for one ticker (for the recent year) from Yahoo Finance. Make brief exploratory analysis of obtained data.\n",
    "\n",
    "**Task 7**. Apply KNN classifier to obtained data. Assess the quality of the model. Create and briefly justify the trading strategy."
   ]
  },
  {
   "cell_type": "code",
   "execution_count": null,
   "metadata": {
    "collapsed": true
   },
   "outputs": [],
   "source": []
  },
  {
   "cell_type": "markdown",
   "metadata": {},
   "source": [
    "## Decision Trees Analysis\n",
    "**Hint**. Use [this material](https://blog.quantinsti.com/decision-tree/) to start your own calculations.\n",
    "\n",
    "**Useful link**: [decision trees and random forests](https://github.com/jakevdp/PythonDataScienceHandbook/blob/8a34a4f653bdbdc01415a94dc20d4e9b97438965/notebooks/05.08-Random-Forests.ipynb).\n",
    "\n",
    "---\n",
    "**Task 8**. Upload data for one ticker (for the recent year) from Quandl. Make brief exploratory analysis of obtained data.\n",
    "\n",
    "**Task 9**. Apply Decision Tree to obtained data. Assess the quality of the model. Create and briefly justify the trading strategy."
   ]
  },
  {
   "cell_type": "code",
   "execution_count": null,
   "metadata": {
    "collapsed": true
   },
   "outputs": [],
   "source": []
  },
  {
   "cell_type": "markdown",
   "metadata": {},
   "source": [
    "## Face Detection\n",
    "**Hint**. Use [this material](https://towardsdatascience.com/simple-face-detection-in-python-1fcda0ea648e) to start your own calculations.\n",
    "\n",
    "**Useful link**: [mainfold learning](https://github.com/jakevdp/PythonDataScienceHandbook/blob/8a34a4f653bdbdc01415a94dc20d4e9b97438965/notebooks/05.10-Manifold-Learning.ipynb).\n",
    "\n",
    "---\n",
    "\n",
    "**Task 10**. Provide the face detection for your photo with rectangular border around your face (use material and examples above).\n",
    "\n",
    "*In accordance with HSE bylaws, your photo (image) will be only processed and stored in purposes of this HomeWork assessment and will not be distributed to third-parties.*"
   ]
  },
  {
   "cell_type": "code",
   "execution_count": 1,
   "metadata": {},
   "outputs": [
    {
     "name": "stdout",
     "output_type": "stream",
     "text": [
      "Collecting opencv-python\n",
      "  Downloading opencv_python-4.4.0.46-cp38-cp38-macosx_10_13_x86_64.whl (52.4 MB)\n",
      "\u001b[K     |████████████████████████████████| 52.4 MB 1.8 MB/s eta 0:00:01\n",
      "\u001b[?25hRequirement already satisfied: numpy>=1.17.3 in /Users/fedorsir/opt/anaconda3/lib/python3.8/site-packages (from opencv-python) (1.18.5)\n",
      "Installing collected packages: opencv-python\n",
      "Successfully installed opencv-python-4.4.0.46\n",
      "Note: you may need to restart the kernel to use updated packages.\n"
     ]
    }
   ],
   "source": [
    "pip install opencv-python"
   ]
  },
  {
   "cell_type": "code",
   "execution_count": 2,
   "metadata": {
    "collapsed": true
   },
   "outputs": [],
   "source": [
    "import cv2\n"
   ]
  }
 ],
 "metadata": {
  "kernelspec": {
   "display_name": "Python 3",
   "language": "python",
   "name": "python3"
  },
  "language_info": {
   "codemirror_mode": {
    "name": "ipython",
    "version": 3
   },
   "file_extension": ".py",
   "mimetype": "text/x-python",
   "name": "python",
   "nbconvert_exporter": "python",
   "pygments_lexer": "ipython3",
   "version": "3.6.3"
  }
 },
 "nbformat": 4,
 "nbformat_minor": 2
}
