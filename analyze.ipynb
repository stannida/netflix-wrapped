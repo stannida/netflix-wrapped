{
 "cells": [
  {
   "cell_type": "code",
   "execution_count": 1,
   "metadata": {
    "collapsed": true
   },
   "outputs": [],
   "source": [
    "import pandas as pd\n",
    "import plotly\n",
    "import matplotlib\n",
    "import matplotlib.pyplot as plt\n",
    "import datetime"
   ]
  },
  {
   "cell_type": "code",
   "execution_count": 2,
   "metadata": {},
   "outputs": [
    {
     "name": "stderr",
     "output_type": "stream",
     "text": [
      "Skipping line 806: unexpected end of data\n"
     ]
    }
   ],
   "source": [
    "df = pd.read_csv('viewedHistory.csv', sep=';', error_bad_lines=False, engine='python')"
   ]
  },
  {
   "cell_type": "code",
   "execution_count": 3,
   "metadata": {},
   "outputs": [
    {
     "data": {
      "text/html": [
       "<div>\n",
       "<style>\n",
       "    .dataframe thead tr:only-child th {\n",
       "        text-align: right;\n",
       "    }\n",
       "\n",
       "    .dataframe thead th {\n",
       "        text-align: left;\n",
       "    }\n",
       "\n",
       "    .dataframe tbody tr th {\n",
       "        vertical-align: top;\n",
       "    }\n",
       "</style>\n",
       "<table border=\"1\" class=\"dataframe\">\n",
       "  <thead>\n",
       "    <tr style=\"text-align: right;\">\n",
       "      <th></th>\n",
       "      <th>title</th>\n",
       "      <th>videoTitle</th>\n",
       "      <th>movieID</th>\n",
       "      <th>country</th>\n",
       "      <th>bookmark</th>\n",
       "      <th>duration</th>\n",
       "      <th>date</th>\n",
       "      <th>deviceType</th>\n",
       "      <th>dateStr</th>\n",
       "      <th>index</th>\n",
       "      <th>topNodeId</th>\n",
       "      <th>series</th>\n",
       "      <th>seriesTitle</th>\n",
       "      <th>seasonDescriptor</th>\n",
       "      <th>episodeTitle</th>\n",
       "      <th>estRating</th>\n",
       "    </tr>\n",
       "  </thead>\n",
       "  <tbody>\n",
       "    <tr>\n",
       "      <th>0</th>\n",
       "      <td>Season 2: \"Beryl\"</td>\n",
       "      <td>Beryl</td>\n",
       "      <td>80149008</td>\n",
       "      <td>DE</td>\n",
       "      <td>833</td>\n",
       "      <td>3660</td>\n",
       "      <td>1606683902538</td>\n",
       "      <td>1222</td>\n",
       "      <td>11/29/20</td>\n",
       "      <td>0</td>\n",
       "      <td>80025678</td>\n",
       "      <td>80025678.0</td>\n",
       "      <td>The Crown</td>\n",
       "      <td>Season 2</td>\n",
       "      <td>Beryl</td>\n",
       "      <td>50</td>\n",
       "    </tr>\n",
       "    <tr>\n",
       "      <th>1</th>\n",
       "      <td>Season 2: \"Lisbon\"</td>\n",
       "      <td>Lisbon</td>\n",
       "      <td>80149007</td>\n",
       "      <td>DE</td>\n",
       "      <td>3258</td>\n",
       "      <td>3384</td>\n",
       "      <td>1606595585563</td>\n",
       "      <td>1222</td>\n",
       "      <td>11/28/20</td>\n",
       "      <td>1</td>\n",
       "      <td>80025678</td>\n",
       "      <td>80025678.0</td>\n",
       "      <td>The Crown</td>\n",
       "      <td>Season 2</td>\n",
       "      <td>Lisbon</td>\n",
       "      <td>50</td>\n",
       "    </tr>\n",
       "    <tr>\n",
       "      <th>2</th>\n",
       "      <td>Season 2: \"A Company of Men\"</td>\n",
       "      <td>A Company of Men</td>\n",
       "      <td>80149006</td>\n",
       "      <td>DE</td>\n",
       "      <td>3167</td>\n",
       "      <td>3296</td>\n",
       "      <td>1606581692356</td>\n",
       "      <td>1222</td>\n",
       "      <td>11/28/20</td>\n",
       "      <td>2</td>\n",
       "      <td>80025678</td>\n",
       "      <td>80025678.0</td>\n",
       "      <td>The Crown</td>\n",
       "      <td>Season 2</td>\n",
       "      <td>A Company of Men</td>\n",
       "      <td>50</td>\n",
       "    </tr>\n",
       "    <tr>\n",
       "      <th>3</th>\n",
       "      <td>Season 2: \"Misadventure\"</td>\n",
       "      <td>Misadventure</td>\n",
       "      <td>80149005</td>\n",
       "      <td>DE</td>\n",
       "      <td>3286</td>\n",
       "      <td>3414</td>\n",
       "      <td>1606510063127</td>\n",
       "      <td>1222</td>\n",
       "      <td>11/27/20</td>\n",
       "      <td>3</td>\n",
       "      <td>80025678</td>\n",
       "      <td>80025678.0</td>\n",
       "      <td>The Crown</td>\n",
       "      <td>Season 2</td>\n",
       "      <td>Misadventure</td>\n",
       "      <td>50</td>\n",
       "    </tr>\n",
       "    <tr>\n",
       "      <th>4</th>\n",
       "      <td>Season 1: \"Gloriana\"</td>\n",
       "      <td>Gloriana</td>\n",
       "      <td>80025766</td>\n",
       "      <td>DE</td>\n",
       "      <td>3213</td>\n",
       "      <td>3310</td>\n",
       "      <td>1606509521119</td>\n",
       "      <td>1222</td>\n",
       "      <td>11/27/20</td>\n",
       "      <td>4</td>\n",
       "      <td>80025678</td>\n",
       "      <td>80025678.0</td>\n",
       "      <td>The Crown</td>\n",
       "      <td>Season 1</td>\n",
       "      <td>Gloriana</td>\n",
       "      <td>50</td>\n",
       "    </tr>\n",
       "    <tr>\n",
       "      <th>5</th>\n",
       "      <td>War Machine</td>\n",
       "      <td>War Machine</td>\n",
       "      <td>80068327</td>\n",
       "      <td>RU</td>\n",
       "      <td>6917</td>\n",
       "      <td>7366</td>\n",
       "      <td>1606502807717</td>\n",
       "      <td>1812</td>\n",
       "      <td>11/27/20</td>\n",
       "      <td>5</td>\n",
       "      <td>80068327</td>\n",
       "      <td>NaN</td>\n",
       "      <td>NaN</td>\n",
       "      <td>NaN</td>\n",
       "      <td>NaN</td>\n",
       "      <td>15</td>\n",
       "    </tr>\n",
       "    <tr>\n",
       "      <th>6</th>\n",
       "      <td>Seven</td>\n",
       "      <td>Seven</td>\n",
       "      <td>950149</td>\n",
       "      <td>DE</td>\n",
       "      <td>7211</td>\n",
       "      <td>7606</td>\n",
       "      <td>1606435371733</td>\n",
       "      <td>1222</td>\n",
       "      <td>11/27/20</td>\n",
       "      <td>6</td>\n",
       "      <td>950149</td>\n",
       "      <td>NaN</td>\n",
       "      <td>NaN</td>\n",
       "      <td>NaN</td>\n",
       "      <td>NaN</td>\n",
       "      <td>29</td>\n",
       "    </tr>\n",
       "    <tr>\n",
       "      <th>7</th>\n",
       "      <td>Season 3: \"Cri de Coeur\"</td>\n",
       "      <td>Cri de Coeur</td>\n",
       "      <td>80215740</td>\n",
       "      <td>DE</td>\n",
       "      <td>1</td>\n",
       "      <td>3532</td>\n",
       "      <td>1606338576753</td>\n",
       "      <td>1222</td>\n",
       "      <td>11/25/20</td>\n",
       "      <td>7</td>\n",
       "      <td>80025678</td>\n",
       "      <td>80025678.0</td>\n",
       "      <td>The Crown</td>\n",
       "      <td>Season 3</td>\n",
       "      <td>Cri de Coeur</td>\n",
       "      <td>50</td>\n",
       "    </tr>\n",
       "    <tr>\n",
       "      <th>8</th>\n",
       "      <td>Season 1: \"Assassins\"</td>\n",
       "      <td>Assassins</td>\n",
       "      <td>80025765</td>\n",
       "      <td>DE</td>\n",
       "      <td>3546</td>\n",
       "      <td>3640</td>\n",
       "      <td>1606335175411</td>\n",
       "      <td>1222</td>\n",
       "      <td>11/25/20</td>\n",
       "      <td>8</td>\n",
       "      <td>80025678</td>\n",
       "      <td>80025678.0</td>\n",
       "      <td>The Crown</td>\n",
       "      <td>Season 1</td>\n",
       "      <td>Assassins</td>\n",
       "      <td>50</td>\n",
       "    </tr>\n",
       "    <tr>\n",
       "      <th>9</th>\n",
       "      <td>Season 1: \"Pride &amp; Joy\"</td>\n",
       "      <td>Pride &amp; Joy</td>\n",
       "      <td>80025764</td>\n",
       "      <td>DE</td>\n",
       "      <td>3433</td>\n",
       "      <td>3528</td>\n",
       "      <td>1606255784697</td>\n",
       "      <td>1222</td>\n",
       "      <td>11/24/20</td>\n",
       "      <td>9</td>\n",
       "      <td>80025678</td>\n",
       "      <td>80025678.0</td>\n",
       "      <td>The Crown</td>\n",
       "      <td>Season 1</td>\n",
       "      <td>Pride &amp; Joy</td>\n",
       "      <td>50</td>\n",
       "    </tr>\n",
       "    <tr>\n",
       "      <th>10</th>\n",
       "      <td>Season 1: \"Scientia Potentia Est\"</td>\n",
       "      <td>Scientia Potentia Est</td>\n",
       "      <td>80025763</td>\n",
       "      <td>DE</td>\n",
       "      <td>3441</td>\n",
       "      <td>3536</td>\n",
       "      <td>1606250561568</td>\n",
       "      <td>1222</td>\n",
       "      <td>11/24/20</td>\n",
       "      <td>10</td>\n",
       "      <td>80025678</td>\n",
       "      <td>80025678.0</td>\n",
       "      <td>The Crown</td>\n",
       "      <td>Season 1</td>\n",
       "      <td>Scientia Potentia Est</td>\n",
       "      <td>50</td>\n",
       "    </tr>\n",
       "    <tr>\n",
       "      <th>11</th>\n",
       "      <td>Season 1: \"Gelignite\"</td>\n",
       "      <td>Gelignite</td>\n",
       "      <td>80025762</td>\n",
       "      <td>DE</td>\n",
       "      <td>3415</td>\n",
       "      <td>3510</td>\n",
       "      <td>1606248448535</td>\n",
       "      <td>1222</td>\n",
       "      <td>11/24/20</td>\n",
       "      <td>11</td>\n",
       "      <td>80025678</td>\n",
       "      <td>80025678.0</td>\n",
       "      <td>The Crown</td>\n",
       "      <td>Season 1</td>\n",
       "      <td>Gelignite</td>\n",
       "      <td>50</td>\n",
       "    </tr>\n",
       "    <tr>\n",
       "      <th>12</th>\n",
       "      <td>Season 1: \"Smoke and Mirrors\"</td>\n",
       "      <td>Smoke and Mirrors</td>\n",
       "      <td>80025761</td>\n",
       "      <td>DE</td>\n",
       "      <td>3241</td>\n",
       "      <td>3336</td>\n",
       "      <td>1606163822853</td>\n",
       "      <td>1222</td>\n",
       "      <td>11/23/20</td>\n",
       "      <td>12</td>\n",
       "      <td>80025678</td>\n",
       "      <td>80025678.0</td>\n",
       "      <td>The Crown</td>\n",
       "      <td>Season 1</td>\n",
       "      <td>Smoke and Mirrors</td>\n",
       "      <td>50</td>\n",
       "    </tr>\n",
       "    <tr>\n",
       "      <th>13</th>\n",
       "      <td>Season 1: \"Part 2\"</td>\n",
       "      <td>Part 2</td>\n",
       "      <td>80189026</td>\n",
       "      <td>DE</td>\n",
       "      <td>4915</td>\n",
       "      <td>4989</td>\n",
       "      <td>1606147417578</td>\n",
       "      <td>1222</td>\n",
       "      <td>11/23/20</td>\n",
       "      <td>13</td>\n",
       "      <td>80189024</td>\n",
       "      <td>80189024.0</td>\n",
       "      <td>The Story of Diana</td>\n",
       "      <td>Season 1</td>\n",
       "      <td>Part 2</td>\n",
       "      <td>33</td>\n",
       "    </tr>\n",
       "    <tr>\n",
       "      <th>14</th>\n",
       "      <td>Season 1: \"Part 1\"</td>\n",
       "      <td>Part 1</td>\n",
       "      <td>80189025</td>\n",
       "      <td>DE</td>\n",
       "      <td>4933</td>\n",
       "      <td>4995</td>\n",
       "      <td>1606078748255</td>\n",
       "      <td>1222</td>\n",
       "      <td>11/22/20</td>\n",
       "      <td>14</td>\n",
       "      <td>80189024</td>\n",
       "      <td>80189024.0</td>\n",
       "      <td>The Story of Diana</td>\n",
       "      <td>Season 1</td>\n",
       "      <td>Part 1</td>\n",
       "      <td>33</td>\n",
       "    </tr>\n",
       "    <tr>\n",
       "      <th>15</th>\n",
       "      <td>Season 1: \"Freedom\"</td>\n",
       "      <td>Freedom</td>\n",
       "      <td>81027034</td>\n",
       "      <td>DE</td>\n",
       "      <td>4149</td>\n",
       "      <td>4376</td>\n",
       "      <td>1605992183411</td>\n",
       "      <td>1222</td>\n",
       "      <td>11/21/20</td>\n",
       "      <td>15</td>\n",
       "      <td>80211686</td>\n",
       "      <td>80211686.0</td>\n",
       "      <td>Grand Army</td>\n",
       "      <td>Season 1</td>\n",
       "      <td>Freedom</td>\n",
       "      <td>34</td>\n",
       "    </tr>\n",
       "    <tr>\n",
       "      <th>16</th>\n",
       "      <td>Season 4: \"Favourites\"</td>\n",
       "      <td>Favourites</td>\n",
       "      <td>80215491</td>\n",
       "      <td>RU</td>\n",
       "      <td>3446</td>\n",
       "      <td>3624</td>\n",
       "      <td>1605983819518</td>\n",
       "      <td>1812</td>\n",
       "      <td>11/21/20</td>\n",
       "      <td>16</td>\n",
       "      <td>80025678</td>\n",
       "      <td>80025678.0</td>\n",
       "      <td>The Crown</td>\n",
       "      <td>Season 4</td>\n",
       "      <td>Favourites</td>\n",
       "      <td>50</td>\n",
       "    </tr>\n",
       "    <tr>\n",
       "      <th>17</th>\n",
       "      <td>Season 4: \"Fairytale\"</td>\n",
       "      <td>Fairytale</td>\n",
       "      <td>80215490</td>\n",
       "      <td>RU</td>\n",
       "      <td>3222</td>\n",
       "      <td>3396</td>\n",
       "      <td>1605981561535</td>\n",
       "      <td>1812</td>\n",
       "      <td>11/21/20</td>\n",
       "      <td>17</td>\n",
       "      <td>80025678</td>\n",
       "      <td>80025678.0</td>\n",
       "      <td>The Crown</td>\n",
       "      <td>Season 4</td>\n",
       "      <td>Fairytale</td>\n",
       "      <td>50</td>\n",
       "    </tr>\n",
       "    <tr>\n",
       "      <th>18</th>\n",
       "      <td>Season 4: \"The Balmoral Test\"</td>\n",
       "      <td>The Balmoral Test</td>\n",
       "      <td>80215489</td>\n",
       "      <td>RU</td>\n",
       "      <td>3252</td>\n",
       "      <td>3428</td>\n",
       "      <td>1605900154393</td>\n",
       "      <td>1812</td>\n",
       "      <td>11/20/20</td>\n",
       "      <td>18</td>\n",
       "      <td>80025678</td>\n",
       "      <td>80025678.0</td>\n",
       "      <td>The Crown</td>\n",
       "      <td>Season 4</td>\n",
       "      <td>The Balmoral Test</td>\n",
       "      <td>50</td>\n",
       "    </tr>\n",
       "    <tr>\n",
       "      <th>19</th>\n",
       "      <td>Season 4: \"Gold Stick\"</td>\n",
       "      <td>Gold Stick</td>\n",
       "      <td>80215488</td>\n",
       "      <td>RU</td>\n",
       "      <td>3074</td>\n",
       "      <td>3252</td>\n",
       "      <td>1605897075516</td>\n",
       "      <td>1812</td>\n",
       "      <td>11/20/20</td>\n",
       "      <td>19</td>\n",
       "      <td>80025678</td>\n",
       "      <td>80025678.0</td>\n",
       "      <td>The Crown</td>\n",
       "      <td>Season 4</td>\n",
       "      <td>Gold Stick</td>\n",
       "      <td>50</td>\n",
       "    </tr>\n",
       "    <tr>\n",
       "      <th>20</th>\n",
       "      <td>Season 1: \"Spirit Day\"</td>\n",
       "      <td>Spirit Day</td>\n",
       "      <td>81027033</td>\n",
       "      <td>DE</td>\n",
       "      <td>2833</td>\n",
       "      <td>3049</td>\n",
       "      <td>1605734668034</td>\n",
       "      <td>1222</td>\n",
       "      <td>11/18/20</td>\n",
       "      <td>20</td>\n",
       "      <td>80211686</td>\n",
       "      <td>80211686.0</td>\n",
       "      <td>Grand Army</td>\n",
       "      <td>Season 1</td>\n",
       "      <td>Spirit Day</td>\n",
       "      <td>34</td>\n",
       "    </tr>\n",
       "    <tr>\n",
       "      <th>21</th>\n",
       "      <td>Season 1: \"Making Moves\"</td>\n",
       "      <td>Making Moves</td>\n",
       "      <td>81027032</td>\n",
       "      <td>DE</td>\n",
       "      <td>2808</td>\n",
       "      <td>3027</td>\n",
       "      <td>1605645161833</td>\n",
       "      <td>1222</td>\n",
       "      <td>11/17/20</td>\n",
       "      <td>21</td>\n",
       "      <td>80211686</td>\n",
       "      <td>80211686.0</td>\n",
       "      <td>Grand Army</td>\n",
       "      <td>Season 1</td>\n",
       "      <td>Making Moves</td>\n",
       "      <td>34</td>\n",
       "    </tr>\n",
       "    <tr>\n",
       "      <th>22</th>\n",
       "      <td>Season 1: \"Superman This S**t\"</td>\n",
       "      <td>Superman This S**t</td>\n",
       "      <td>81027030</td>\n",
       "      <td>DE</td>\n",
       "      <td>2872</td>\n",
       "      <td>3085</td>\n",
       "      <td>1605560438442</td>\n",
       "      <td>1222</td>\n",
       "      <td>11/16/20</td>\n",
       "      <td>22</td>\n",
       "      <td>80211686</td>\n",
       "      <td>80211686.0</td>\n",
       "      <td>Grand Army</td>\n",
       "      <td>Season 1</td>\n",
       "      <td>Superman This S**t</td>\n",
       "      <td>34</td>\n",
       "    </tr>\n",
       "    <tr>\n",
       "      <th>23</th>\n",
       "      <td>Season 1: \"Valentine's Day\"</td>\n",
       "      <td>Valentine's Day</td>\n",
       "      <td>81027029</td>\n",
       "      <td>DE</td>\n",
       "      <td>2609</td>\n",
       "      <td>2843</td>\n",
       "      <td>1605382036822</td>\n",
       "      <td>1222</td>\n",
       "      <td>11/14/20</td>\n",
       "      <td>23</td>\n",
       "      <td>80211686</td>\n",
       "      <td>80211686.0</td>\n",
       "      <td>Grand Army</td>\n",
       "      <td>Season 1</td>\n",
       "      <td>Valentine's Day</td>\n",
       "      <td>34</td>\n",
       "    </tr>\n",
       "    <tr>\n",
       "      <th>24</th>\n",
       "      <td>Season 1: \"Safety On\"</td>\n",
       "      <td>Safety On</td>\n",
       "      <td>81027028</td>\n",
       "      <td>DE</td>\n",
       "      <td>3032</td>\n",
       "      <td>3265</td>\n",
       "      <td>1605217482231</td>\n",
       "      <td>1222</td>\n",
       "      <td>11/12/20</td>\n",
       "      <td>24</td>\n",
       "      <td>80211686</td>\n",
       "      <td>80211686.0</td>\n",
       "      <td>Grand Army</td>\n",
       "      <td>Season 1</td>\n",
       "      <td>Safety On</td>\n",
       "      <td>34</td>\n",
       "    </tr>\n",
       "    <tr>\n",
       "      <th>25</th>\n",
       "      <td>Season 1: \"Relationship Goals\"</td>\n",
       "      <td>Relationship Goals</td>\n",
       "      <td>81027027</td>\n",
       "      <td>DE</td>\n",
       "      <td>2972</td>\n",
       "      <td>3169</td>\n",
       "      <td>1605215257929</td>\n",
       "      <td>1222</td>\n",
       "      <td>11/12/20</td>\n",
       "      <td>25</td>\n",
       "      <td>80211686</td>\n",
       "      <td>80211686.0</td>\n",
       "      <td>Grand Army</td>\n",
       "      <td>Season 1</td>\n",
       "      <td>Relationship Goals</td>\n",
       "      <td>34</td>\n",
       "    </tr>\n",
       "    <tr>\n",
       "      <th>26</th>\n",
       "      <td>Season 1: \"See Me\"</td>\n",
       "      <td>See Me</td>\n",
       "      <td>81027026</td>\n",
       "      <td>DE</td>\n",
       "      <td>2809</td>\n",
       "      <td>3011</td>\n",
       "      <td>1605206866219</td>\n",
       "      <td>1222</td>\n",
       "      <td>11/12/20</td>\n",
       "      <td>26</td>\n",
       "      <td>80211686</td>\n",
       "      <td>80211686.0</td>\n",
       "      <td>Grand Army</td>\n",
       "      <td>Season 1</td>\n",
       "      <td>See Me</td>\n",
       "      <td>34</td>\n",
       "    </tr>\n",
       "    <tr>\n",
       "      <th>27</th>\n",
       "      <td>Season 1: \"Brooklyn, 2020\"</td>\n",
       "      <td>Brooklyn, 2020</td>\n",
       "      <td>80211780</td>\n",
       "      <td>DE</td>\n",
       "      <td>2938</td>\n",
       "      <td>3141</td>\n",
       "      <td>1605191776369</td>\n",
       "      <td>1222</td>\n",
       "      <td>11/12/20</td>\n",
       "      <td>27</td>\n",
       "      <td>80211686</td>\n",
       "      <td>80211686.0</td>\n",
       "      <td>Grand Army</td>\n",
       "      <td>Season 1</td>\n",
       "      <td>Brooklyn, 2020</td>\n",
       "      <td>34</td>\n",
       "    </tr>\n",
       "    <tr>\n",
       "      <th>28</th>\n",
       "      <td>Season 1: \"The Present, Eternity and the Actio...</td>\n",
       "      <td>The Present, Eternity and the Action Plan</td>\n",
       "      <td>81172829</td>\n",
       "      <td>DE</td>\n",
       "      <td>1871</td>\n",
       "      <td>2002</td>\n",
       "      <td>1605132471683</td>\n",
       "      <td>1222</td>\n",
       "      <td>11/11/20</td>\n",
       "      <td>28</td>\n",
       "      <td>81069541</td>\n",
       "      <td>81069541.0</td>\n",
       "      <td>Love &amp; Anarchy</td>\n",
       "      <td>Season 1</td>\n",
       "      <td>The Present, Eternity and the Action Plan</td>\n",
       "      <td>38</td>\n",
       "    </tr>\n",
       "    <tr>\n",
       "      <th>29</th>\n",
       "      <td>Season 1: \"Ayahuasca\"</td>\n",
       "      <td>Ayahuasca</td>\n",
       "      <td>81172828</td>\n",
       "      <td>DE</td>\n",
       "      <td>1491</td>\n",
       "      <td>1620</td>\n",
       "      <td>1605128945307</td>\n",
       "      <td>1222</td>\n",
       "      <td>11/11/20</td>\n",
       "      <td>29</td>\n",
       "      <td>81069541</td>\n",
       "      <td>81069541.0</td>\n",
       "      <td>Love &amp; Anarchy</td>\n",
       "      <td>Season 1</td>\n",
       "      <td>Ayahuasca</td>\n",
       "      <td>38</td>\n",
       "    </tr>\n",
       "    <tr>\n",
       "      <th>...</th>\n",
       "      <td>...</td>\n",
       "      <td>...</td>\n",
       "      <td>...</td>\n",
       "      <td>...</td>\n",
       "      <td>...</td>\n",
       "      <td>...</td>\n",
       "      <td>...</td>\n",
       "      <td>...</td>\n",
       "      <td>...</td>\n",
       "      <td>...</td>\n",
       "      <td>...</td>\n",
       "      <td>...</td>\n",
       "      <td>...</td>\n",
       "      <td>...</td>\n",
       "      <td>...</td>\n",
       "      <td>...</td>\n",
       "    </tr>\n",
       "    <tr>\n",
       "      <th>774</th>\n",
       "      <td>Season 3: \"Miracles\"</td>\n",
       "      <td>Miracles</td>\n",
       "      <td>70218544</td>\n",
       "      <td>DE</td>\n",
       "      <td>1281</td>\n",
       "      <td>1325</td>\n",
       "      <td>1547824829865</td>\n",
       "      <td>1222</td>\n",
       "      <td>1/18/19</td>\n",
       "      <td>774</td>\n",
       "      <td>70143824</td>\n",
       "      <td>70143824.0</td>\n",
       "      <td>How I Met Your Mother</td>\n",
       "      <td>Season 3</td>\n",
       "      <td>Miracles</td>\n",
       "      <td>41</td>\n",
       "    </tr>\n",
       "    <tr>\n",
       "      <th>775</th>\n",
       "      <td>Season 3: \"Everything Must Go\"</td>\n",
       "      <td>Everything Must Go</td>\n",
       "      <td>70218543</td>\n",
       "      <td>DE</td>\n",
       "      <td>1232</td>\n",
       "      <td>1281</td>\n",
       "      <td>1547734713403</td>\n",
       "      <td>1222</td>\n",
       "      <td>1/17/19</td>\n",
       "      <td>775</td>\n",
       "      <td>70143824</td>\n",
       "      <td>70143824.0</td>\n",
       "      <td>How I Met Your Mother</td>\n",
       "      <td>Season 3</td>\n",
       "      <td>Everything Must Go</td>\n",
       "      <td>41</td>\n",
       "    </tr>\n",
       "    <tr>\n",
       "      <th>776</th>\n",
       "      <td>Season 3: \"Rebound Bro\"</td>\n",
       "      <td>Rebound Bro</td>\n",
       "      <td>70218542</td>\n",
       "      <td>DE</td>\n",
       "      <td>1263</td>\n",
       "      <td>1311</td>\n",
       "      <td>1547727341879</td>\n",
       "      <td>1222</td>\n",
       "      <td>1/17/19</td>\n",
       "      <td>776</td>\n",
       "      <td>70143824</td>\n",
       "      <td>70143824.0</td>\n",
       "      <td>How I Met Your Mother</td>\n",
       "      <td>Season 3</td>\n",
       "      <td>Rebound Bro</td>\n",
       "      <td>41</td>\n",
       "    </tr>\n",
       "    <tr>\n",
       "      <th>777</th>\n",
       "      <td>Season 3: \"The Goat\"</td>\n",
       "      <td>The Goat</td>\n",
       "      <td>70218541</td>\n",
       "      <td>DE</td>\n",
       "      <td>10</td>\n",
       "      <td>1325</td>\n",
       "      <td>1547727329507</td>\n",
       "      <td>1222</td>\n",
       "      <td>1/17/19</td>\n",
       "      <td>777</td>\n",
       "      <td>70143824</td>\n",
       "      <td>70143824.0</td>\n",
       "      <td>How I Met Your Mother</td>\n",
       "      <td>Season 3</td>\n",
       "      <td>The Goat</td>\n",
       "      <td>41</td>\n",
       "    </tr>\n",
       "    <tr>\n",
       "      <th>778</th>\n",
       "      <td>Australia &amp; New Zealand: \"Joel Creasey\"</td>\n",
       "      <td>Joel Creasey</td>\n",
       "      <td>81008245</td>\n",
       "      <td>DE</td>\n",
       "      <td>1776</td>\n",
       "      <td>1825</td>\n",
       "      <td>1547672079012</td>\n",
       "      <td>1222</td>\n",
       "      <td>1/16/19</td>\n",
       "      <td>778</td>\n",
       "      <td>81008236</td>\n",
       "      <td>81008236.0</td>\n",
       "      <td>COMEDIANS of the world</td>\n",
       "      <td>Australia &amp; New Zealand</td>\n",
       "      <td>Joel Creasey</td>\n",
       "      <td>27</td>\n",
       "    </tr>\n",
       "    <tr>\n",
       "      <th>779</th>\n",
       "      <td>Australia &amp; New Zealand: \"Urzila Carlson\"</td>\n",
       "      <td>Urzila Carlson</td>\n",
       "      <td>81008246</td>\n",
       "      <td>DE</td>\n",
       "      <td>17</td>\n",
       "      <td>1823</td>\n",
       "      <td>1547669618857</td>\n",
       "      <td>1222</td>\n",
       "      <td>1/16/19</td>\n",
       "      <td>779</td>\n",
       "      <td>81008236</td>\n",
       "      <td>81008236.0</td>\n",
       "      <td>COMEDIANS of the world</td>\n",
       "      <td>Australia &amp; New Zealand</td>\n",
       "      <td>Urzila Carlson</td>\n",
       "      <td>27</td>\n",
       "    </tr>\n",
       "    <tr>\n",
       "      <th>780</th>\n",
       "      <td>Canada (EN): \"DeAnne Smith\"</td>\n",
       "      <td>DeAnne Smith</td>\n",
       "      <td>81008265</td>\n",
       "      <td>DE</td>\n",
       "      <td>1732</td>\n",
       "      <td>1773</td>\n",
       "      <td>1547668147819</td>\n",
       "      <td>1222</td>\n",
       "      <td>1/16/19</td>\n",
       "      <td>780</td>\n",
       "      <td>81008236</td>\n",
       "      <td>81008236.0</td>\n",
       "      <td>COMEDIANS of the world</td>\n",
       "      <td>Canada (EN)</td>\n",
       "      <td>DeAnne Smith</td>\n",
       "      <td>27</td>\n",
       "    </tr>\n",
       "    <tr>\n",
       "      <th>781</th>\n",
       "      <td>Season 3: \"Sandcastles in the Sand\"</td>\n",
       "      <td>Sandcastles in the Sand</td>\n",
       "      <td>70218540</td>\n",
       "      <td>DE</td>\n",
       "      <td>1277</td>\n",
       "      <td>1323</td>\n",
       "      <td>1547636910654</td>\n",
       "      <td>1222</td>\n",
       "      <td>1/16/19</td>\n",
       "      <td>781</td>\n",
       "      <td>70143824</td>\n",
       "      <td>70143824.0</td>\n",
       "      <td>How I Met Your Mother</td>\n",
       "      <td>Season 3</td>\n",
       "      <td>Sandcastles in the Sand</td>\n",
       "      <td>41</td>\n",
       "    </tr>\n",
       "    <tr>\n",
       "      <th>782</th>\n",
       "      <td>Season 3: \"The Chain of Screaming\"</td>\n",
       "      <td>The Chain of Screaming</td>\n",
       "      <td>70218539</td>\n",
       "      <td>DE</td>\n",
       "      <td>1276</td>\n",
       "      <td>1319</td>\n",
       "      <td>1547635419992</td>\n",
       "      <td>1222</td>\n",
       "      <td>1/16/19</td>\n",
       "      <td>782</td>\n",
       "      <td>70143824</td>\n",
       "      <td>70143824.0</td>\n",
       "      <td>How I Met Your Mother</td>\n",
       "      <td>Season 3</td>\n",
       "      <td>The Chain of Screaming</td>\n",
       "      <td>41</td>\n",
       "    </tr>\n",
       "    <tr>\n",
       "      <th>783</th>\n",
       "      <td>UK: \"Ellie Taylor\"</td>\n",
       "      <td>Ellie Taylor</td>\n",
       "      <td>81008347</td>\n",
       "      <td>DE</td>\n",
       "      <td>1745</td>\n",
       "      <td>1794</td>\n",
       "      <td>1547587935274</td>\n",
       "      <td>1222</td>\n",
       "      <td>1/15/19</td>\n",
       "      <td>783</td>\n",
       "      <td>81008236</td>\n",
       "      <td>81008236.0</td>\n",
       "      <td>COMEDIANS of the world</td>\n",
       "      <td>UK</td>\n",
       "      <td>Ellie Taylor</td>\n",
       "      <td>27</td>\n",
       "    </tr>\n",
       "    <tr>\n",
       "      <th>784</th>\n",
       "      <td>UK: \"Mae Martin\"</td>\n",
       "      <td>Mae Martin</td>\n",
       "      <td>81008345</td>\n",
       "      <td>DE</td>\n",
       "      <td>12</td>\n",
       "      <td>1821</td>\n",
       "      <td>1547587920620</td>\n",
       "      <td>1222</td>\n",
       "      <td>1/15/19</td>\n",
       "      <td>784</td>\n",
       "      <td>81008236</td>\n",
       "      <td>81008236.0</td>\n",
       "      <td>COMEDIANS of the world</td>\n",
       "      <td>UK</td>\n",
       "      <td>Mae Martin</td>\n",
       "      <td>27</td>\n",
       "    </tr>\n",
       "    <tr>\n",
       "      <th>785</th>\n",
       "      <td>France: \"Donel Jack'sman\"</td>\n",
       "      <td>Donel Jack'sman</td>\n",
       "      <td>81008297</td>\n",
       "      <td>DE</td>\n",
       "      <td>0</td>\n",
       "      <td>1787</td>\n",
       "      <td>1547587895792</td>\n",
       "      <td>1222</td>\n",
       "      <td>1/15/19</td>\n",
       "      <td>785</td>\n",
       "      <td>81008236</td>\n",
       "      <td>81008236.0</td>\n",
       "      <td>COMEDIANS of the world</td>\n",
       "      <td>France</td>\n",
       "      <td>Donel Jack'sman</td>\n",
       "      <td>27</td>\n",
       "    </tr>\n",
       "    <tr>\n",
       "      <th>786</th>\n",
       "      <td>France: \"Tania Dutel\"</td>\n",
       "      <td>Tania Dutel</td>\n",
       "      <td>81008296</td>\n",
       "      <td>DE</td>\n",
       "      <td>1741</td>\n",
       "      <td>1789</td>\n",
       "      <td>1547559483981</td>\n",
       "      <td>1222</td>\n",
       "      <td>1/15/19</td>\n",
       "      <td>786</td>\n",
       "      <td>81008236</td>\n",
       "      <td>81008236.0</td>\n",
       "      <td>COMEDIANS of the world</td>\n",
       "      <td>France</td>\n",
       "      <td>Tania Dutel</td>\n",
       "      <td>27</td>\n",
       "    </tr>\n",
       "    <tr>\n",
       "      <th>787</th>\n",
       "      <td>France: \"Shirley Souagnon\"</td>\n",
       "      <td>Shirley Souagnon</td>\n",
       "      <td>81008294</td>\n",
       "      <td>DE</td>\n",
       "      <td>100</td>\n",
       "      <td>1783</td>\n",
       "      <td>1547559302492</td>\n",
       "      <td>1222</td>\n",
       "      <td>1/15/19</td>\n",
       "      <td>787</td>\n",
       "      <td>81008236</td>\n",
       "      <td>81008236.0</td>\n",
       "      <td>COMEDIANS of the world</td>\n",
       "      <td>France</td>\n",
       "      <td>Shirley Souagnon</td>\n",
       "      <td>27</td>\n",
       "    </tr>\n",
       "    <tr>\n",
       "      <th>788</th>\n",
       "      <td>India: \"Aditi Mittal\"</td>\n",
       "      <td>Aditi Mittal</td>\n",
       "      <td>81008313</td>\n",
       "      <td>DE</td>\n",
       "      <td>1685</td>\n",
       "      <td>1734</td>\n",
       "      <td>1547547441921</td>\n",
       "      <td>1222</td>\n",
       "      <td>1/15/19</td>\n",
       "      <td>788</td>\n",
       "      <td>81008236</td>\n",
       "      <td>81008236.0</td>\n",
       "      <td>COMEDIANS of the world</td>\n",
       "      <td>India</td>\n",
       "      <td>Aditi Mittal</td>\n",
       "      <td>27</td>\n",
       "    </tr>\n",
       "    <tr>\n",
       "      <th>789</th>\n",
       "      <td>Germany: \"Enissa Amani\"</td>\n",
       "      <td>Enissa Amani</td>\n",
       "      <td>81008308</td>\n",
       "      <td>DE</td>\n",
       "      <td>1</td>\n",
       "      <td>1800</td>\n",
       "      <td>1547547417333</td>\n",
       "      <td>1222</td>\n",
       "      <td>1/15/19</td>\n",
       "      <td>789</td>\n",
       "      <td>81008236</td>\n",
       "      <td>81008236.0</td>\n",
       "      <td>COMEDIANS of the world</td>\n",
       "      <td>Germany</td>\n",
       "      <td>Enissa Amani</td>\n",
       "      <td>27</td>\n",
       "    </tr>\n",
       "    <tr>\n",
       "      <th>790</th>\n",
       "      <td>Season 3: \"The Bracket\"</td>\n",
       "      <td>The Bracket</td>\n",
       "      <td>70218538</td>\n",
       "      <td>DE</td>\n",
       "      <td>1215</td>\n",
       "      <td>1259</td>\n",
       "      <td>1547538472293</td>\n",
       "      <td>1222</td>\n",
       "      <td>1/15/19</td>\n",
       "      <td>790</td>\n",
       "      <td>70143824</td>\n",
       "      <td>70143824.0</td>\n",
       "      <td>How I Met Your Mother</td>\n",
       "      <td>Season 3</td>\n",
       "      <td>The Bracket</td>\n",
       "      <td>41</td>\n",
       "    </tr>\n",
       "    <tr>\n",
       "      <th>791</th>\n",
       "      <td>Season 3: \"Ten Sessions\"</td>\n",
       "      <td>Ten Sessions</td>\n",
       "      <td>70218537</td>\n",
       "      <td>DE</td>\n",
       "      <td>1281</td>\n",
       "      <td>1327</td>\n",
       "      <td>1547502533368</td>\n",
       "      <td>1222</td>\n",
       "      <td>1/14/19</td>\n",
       "      <td>791</td>\n",
       "      <td>70143824</td>\n",
       "      <td>70143824.0</td>\n",
       "      <td>How I Met Your Mother</td>\n",
       "      <td>Season 3</td>\n",
       "      <td>Ten Sessions</td>\n",
       "      <td>41</td>\n",
       "    </tr>\n",
       "    <tr>\n",
       "      <th>792</th>\n",
       "      <td>Season 4: \"Arkangel\"</td>\n",
       "      <td>Arkangel</td>\n",
       "      <td>80131566</td>\n",
       "      <td>DE</td>\n",
       "      <td>2281</td>\n",
       "      <td>3138</td>\n",
       "      <td>1547335002463</td>\n",
       "      <td>1222</td>\n",
       "      <td>1/13/19</td>\n",
       "      <td>792</td>\n",
       "      <td>70264888</td>\n",
       "      <td>70264888.0</td>\n",
       "      <td>Black Mirror</td>\n",
       "      <td>Season 4</td>\n",
       "      <td>Arkangel</td>\n",
       "      <td>48</td>\n",
       "    </tr>\n",
       "    <tr>\n",
       "      <th>793</th>\n",
       "      <td>Season 4: \"USS Callister\"</td>\n",
       "      <td>USS Callister</td>\n",
       "      <td>80131567</td>\n",
       "      <td>DE</td>\n",
       "      <td>4506</td>\n",
       "      <td>4610</td>\n",
       "      <td>1547330497381</td>\n",
       "      <td>1222</td>\n",
       "      <td>1/12/19</td>\n",
       "      <td>793</td>\n",
       "      <td>70264888</td>\n",
       "      <td>70264888.0</td>\n",
       "      <td>Black Mirror</td>\n",
       "      <td>Season 4</td>\n",
       "      <td>USS Callister</td>\n",
       "      <td>48</td>\n",
       "    </tr>\n",
       "    <tr>\n",
       "      <th>794</th>\n",
       "      <td>After Porn Ends 3</td>\n",
       "      <td>After Porn Ends 3</td>\n",
       "      <td>80220761</td>\n",
       "      <td>DE</td>\n",
       "      <td>31</td>\n",
       "      <td>5216</td>\n",
       "      <td>1547330319584</td>\n",
       "      <td>1222</td>\n",
       "      <td>1/12/19</td>\n",
       "      <td>794</td>\n",
       "      <td>80220761</td>\n",
       "      <td>NaN</td>\n",
       "      <td>NaN</td>\n",
       "      <td>NaN</td>\n",
       "      <td>NaN</td>\n",
       "      <td>18</td>\n",
       "    </tr>\n",
       "    <tr>\n",
       "      <th>795</th>\n",
       "      <td>Season 1: \"Episode 1\"</td>\n",
       "      <td>Episode 1</td>\n",
       "      <td>80210938</td>\n",
       "      <td>DE</td>\n",
       "      <td>3028</td>\n",
       "      <td>3142</td>\n",
       "      <td>1547313828399</td>\n",
       "      <td>1222</td>\n",
       "      <td>1/12/19</td>\n",
       "      <td>795</td>\n",
       "      <td>80197526</td>\n",
       "      <td>80197526.0</td>\n",
       "      <td>Sex Education</td>\n",
       "      <td>Season 1</td>\n",
       "      <td>Episode 1</td>\n",
       "      <td>26</td>\n",
       "    </tr>\n",
       "    <tr>\n",
       "      <th>796</th>\n",
       "      <td>Season 1: \"Jigsaw\"</td>\n",
       "      <td>Jigsaw</td>\n",
       "      <td>80223721</td>\n",
       "      <td>DE</td>\n",
       "      <td>2593</td>\n",
       "      <td>3596</td>\n",
       "      <td>1547208019089</td>\n",
       "      <td>1222</td>\n",
       "      <td>1/11/19</td>\n",
       "      <td>796</td>\n",
       "      <td>80223685</td>\n",
       "      <td>80223685.0</td>\n",
       "      <td>Daniel Sloss: Live Shows</td>\n",
       "      <td>Season 1</td>\n",
       "      <td>Jigsaw</td>\n",
       "      <td>37</td>\n",
       "    </tr>\n",
       "    <tr>\n",
       "      <th>797</th>\n",
       "      <td>Season 1: \"Dark\"</td>\n",
       "      <td>Dark</td>\n",
       "      <td>80223720</td>\n",
       "      <td>DE</td>\n",
       "      <td>3557</td>\n",
       "      <td>3597</td>\n",
       "      <td>1547208010565</td>\n",
       "      <td>1222</td>\n",
       "      <td>1/11/19</td>\n",
       "      <td>797</td>\n",
       "      <td>80223685</td>\n",
       "      <td>80223685.0</td>\n",
       "      <td>Daniel Sloss: Live Shows</td>\n",
       "      <td>Season 1</td>\n",
       "      <td>Dark</td>\n",
       "      <td>37</td>\n",
       "    </tr>\n",
       "    <tr>\n",
       "      <th>798</th>\n",
       "      <td>Season 3: \"No Tomorrow\"</td>\n",
       "      <td>No Tomorrow</td>\n",
       "      <td>70218536</td>\n",
       "      <td>DE</td>\n",
       "      <td>1255</td>\n",
       "      <td>1299</td>\n",
       "      <td>1547207344253</td>\n",
       "      <td>1222</td>\n",
       "      <td>1/11/19</td>\n",
       "      <td>798</td>\n",
       "      <td>70143824</td>\n",
       "      <td>70143824.0</td>\n",
       "      <td>How I Met Your Mother</td>\n",
       "      <td>Season 3</td>\n",
       "      <td>No Tomorrow</td>\n",
       "      <td>41</td>\n",
       "    </tr>\n",
       "    <tr>\n",
       "      <th>799</th>\n",
       "      <td>Season 3: \"The Platinum Rule\"</td>\n",
       "      <td>The Platinum Rule</td>\n",
       "      <td>70218535</td>\n",
       "      <td>DE</td>\n",
       "      <td>1256</td>\n",
       "      <td>1305</td>\n",
       "      <td>1547205869212</td>\n",
       "      <td>1222</td>\n",
       "      <td>1/11/19</td>\n",
       "      <td>799</td>\n",
       "      <td>70143824</td>\n",
       "      <td>70143824.0</td>\n",
       "      <td>How I Met Your Mother</td>\n",
       "      <td>Season 3</td>\n",
       "      <td>The Platinum Rule</td>\n",
       "      <td>41</td>\n",
       "    </tr>\n",
       "    <tr>\n",
       "      <th>800</th>\n",
       "      <td>Season 3: \"The Yips\"</td>\n",
       "      <td>The Yips</td>\n",
       "      <td>70218534</td>\n",
       "      <td>DE</td>\n",
       "      <td>1281</td>\n",
       "      <td>1331</td>\n",
       "      <td>1547204817450</td>\n",
       "      <td>1222</td>\n",
       "      <td>1/11/19</td>\n",
       "      <td>800</td>\n",
       "      <td>70143824</td>\n",
       "      <td>70143824.0</td>\n",
       "      <td>How I Met Your Mother</td>\n",
       "      <td>Season 3</td>\n",
       "      <td>The Yips</td>\n",
       "      <td>41</td>\n",
       "    </tr>\n",
       "    <tr>\n",
       "      <th>801</th>\n",
       "      <td>Season 3: \"Slapsgiving\"</td>\n",
       "      <td>Slapsgiving</td>\n",
       "      <td>70218533</td>\n",
       "      <td>DE</td>\n",
       "      <td>1287</td>\n",
       "      <td>1319</td>\n",
       "      <td>1547193485718</td>\n",
       "      <td>1222</td>\n",
       "      <td>1/11/19</td>\n",
       "      <td>801</td>\n",
       "      <td>70143824</td>\n",
       "      <td>70143824.0</td>\n",
       "      <td>How I Met Your Mother</td>\n",
       "      <td>Season 3</td>\n",
       "      <td>Slapsgiving</td>\n",
       "      <td>41</td>\n",
       "    </tr>\n",
       "    <tr>\n",
       "      <th>802</th>\n",
       "      <td>Black Mirror: Bandersnatch</td>\n",
       "      <td>Black Mirror: Bandersnatch</td>\n",
       "      <td>80988062</td>\n",
       "      <td>DE</td>\n",
       "      <td>18529</td>\n",
       "      <td>18760</td>\n",
       "      <td>1547150531087</td>\n",
       "      <td>1109</td>\n",
       "      <td>1/10/19</td>\n",
       "      <td>802</td>\n",
       "      <td>80988062</td>\n",
       "      <td>NaN</td>\n",
       "      <td>NaN</td>\n",
       "      <td>NaN</td>\n",
       "      <td>NaN</td>\n",
       "      <td>27</td>\n",
       "    </tr>\n",
       "    <tr>\n",
       "      <th>803</th>\n",
       "      <td>Season 1: \"Rixty Minutes\"</td>\n",
       "      <td>Rixty Minutes</td>\n",
       "      <td>80098740</td>\n",
       "      <td>DE</td>\n",
       "      <td>1270</td>\n",
       "      <td>1353</td>\n",
       "      <td>1547149077026</td>\n",
       "      <td>1109</td>\n",
       "      <td>1/10/19</td>\n",
       "      <td>803</td>\n",
       "      <td>80014749</td>\n",
       "      <td>80014749.0</td>\n",
       "      <td>Rick and Morty</td>\n",
       "      <td>Season 1</td>\n",
       "      <td>Rixty Minutes</td>\n",
       "      <td>49</td>\n",
       "    </tr>\n",
       "  </tbody>\n",
       "</table>\n",
       "<p>804 rows × 16 columns</p>\n",
       "</div>"
      ],
      "text/plain": [
       "                                                 title  \\\n",
       "0                                    Season 2: \"Beryl\"   \n",
       "1                                   Season 2: \"Lisbon\"   \n",
       "2                         Season 2: \"A Company of Men\"   \n",
       "3                             Season 2: \"Misadventure\"   \n",
       "4                                 Season 1: \"Gloriana\"   \n",
       "5                                          War Machine   \n",
       "6                                                Seven   \n",
       "7                             Season 3: \"Cri de Coeur\"   \n",
       "8                                Season 1: \"Assassins\"   \n",
       "9                              Season 1: \"Pride & Joy\"   \n",
       "10                   Season 1: \"Scientia Potentia Est\"   \n",
       "11                               Season 1: \"Gelignite\"   \n",
       "12                       Season 1: \"Smoke and Mirrors\"   \n",
       "13                                  Season 1: \"Part 2\"   \n",
       "14                                  Season 1: \"Part 1\"   \n",
       "15                                 Season 1: \"Freedom\"   \n",
       "16                              Season 4: \"Favourites\"   \n",
       "17                               Season 4: \"Fairytale\"   \n",
       "18                       Season 4: \"The Balmoral Test\"   \n",
       "19                              Season 4: \"Gold Stick\"   \n",
       "20                              Season 1: \"Spirit Day\"   \n",
       "21                            Season 1: \"Making Moves\"   \n",
       "22                      Season 1: \"Superman This S**t\"   \n",
       "23                         Season 1: \"Valentine's Day\"   \n",
       "24                               Season 1: \"Safety On\"   \n",
       "25                      Season 1: \"Relationship Goals\"   \n",
       "26                                  Season 1: \"See Me\"   \n",
       "27                          Season 1: \"Brooklyn, 2020\"   \n",
       "28   Season 1: \"The Present, Eternity and the Actio...   \n",
       "29                               Season 1: \"Ayahuasca\"   \n",
       "..                                                 ...   \n",
       "774                               Season 3: \"Miracles\"   \n",
       "775                     Season 3: \"Everything Must Go\"   \n",
       "776                            Season 3: \"Rebound Bro\"   \n",
       "777                               Season 3: \"The Goat\"   \n",
       "778            Australia & New Zealand: \"Joel Creasey\"   \n",
       "779          Australia & New Zealand: \"Urzila Carlson\"   \n",
       "780                        Canada (EN): \"DeAnne Smith\"   \n",
       "781                Season 3: \"Sandcastles in the Sand\"   \n",
       "782                 Season 3: \"The Chain of Screaming\"   \n",
       "783                                 UK: \"Ellie Taylor\"   \n",
       "784                                   UK: \"Mae Martin\"   \n",
       "785                          France: \"Donel Jack'sman\"   \n",
       "786                              France: \"Tania Dutel\"   \n",
       "787                         France: \"Shirley Souagnon\"   \n",
       "788                              India: \"Aditi Mittal\"   \n",
       "789                            Germany: \"Enissa Amani\"   \n",
       "790                            Season 3: \"The Bracket\"   \n",
       "791                           Season 3: \"Ten Sessions\"   \n",
       "792                               Season 4: \"Arkangel\"   \n",
       "793                          Season 4: \"USS Callister\"   \n",
       "794                                  After Porn Ends 3   \n",
       "795                              Season 1: \"Episode 1\"   \n",
       "796                                 Season 1: \"Jigsaw\"   \n",
       "797                                   Season 1: \"Dark\"   \n",
       "798                            Season 3: \"No Tomorrow\"   \n",
       "799                      Season 3: \"The Platinum Rule\"   \n",
       "800                               Season 3: \"The Yips\"   \n",
       "801                            Season 3: \"Slapsgiving\"   \n",
       "802                         Black Mirror: Bandersnatch   \n",
       "803                          Season 1: \"Rixty Minutes\"   \n",
       "\n",
       "                                    videoTitle   movieID country  bookmark  \\\n",
       "0                                        Beryl  80149008      DE       833   \n",
       "1                                       Lisbon  80149007      DE      3258   \n",
       "2                             A Company of Men  80149006      DE      3167   \n",
       "3                                 Misadventure  80149005      DE      3286   \n",
       "4                                     Gloriana  80025766      DE      3213   \n",
       "5                                  War Machine  80068327      RU      6917   \n",
       "6                                        Seven    950149      DE      7211   \n",
       "7                                 Cri de Coeur  80215740      DE         1   \n",
       "8                                    Assassins  80025765      DE      3546   \n",
       "9                                  Pride & Joy  80025764      DE      3433   \n",
       "10                       Scientia Potentia Est  80025763      DE      3441   \n",
       "11                                   Gelignite  80025762      DE      3415   \n",
       "12                           Smoke and Mirrors  80025761      DE      3241   \n",
       "13                                      Part 2  80189026      DE      4915   \n",
       "14                                      Part 1  80189025      DE      4933   \n",
       "15                                     Freedom  81027034      DE      4149   \n",
       "16                                  Favourites  80215491      RU      3446   \n",
       "17                                   Fairytale  80215490      RU      3222   \n",
       "18                           The Balmoral Test  80215489      RU      3252   \n",
       "19                                  Gold Stick  80215488      RU      3074   \n",
       "20                                  Spirit Day  81027033      DE      2833   \n",
       "21                                Making Moves  81027032      DE      2808   \n",
       "22                          Superman This S**t  81027030      DE      2872   \n",
       "23                             Valentine's Day  81027029      DE      2609   \n",
       "24                                   Safety On  81027028      DE      3032   \n",
       "25                          Relationship Goals  81027027      DE      2972   \n",
       "26                                      See Me  81027026      DE      2809   \n",
       "27                              Brooklyn, 2020  80211780      DE      2938   \n",
       "28   The Present, Eternity and the Action Plan  81172829      DE      1871   \n",
       "29                                   Ayahuasca  81172828      DE      1491   \n",
       "..                                         ...       ...     ...       ...   \n",
       "774                                   Miracles  70218544      DE      1281   \n",
       "775                         Everything Must Go  70218543      DE      1232   \n",
       "776                                Rebound Bro  70218542      DE      1263   \n",
       "777                                   The Goat  70218541      DE        10   \n",
       "778                               Joel Creasey  81008245      DE      1776   \n",
       "779                             Urzila Carlson  81008246      DE        17   \n",
       "780                               DeAnne Smith  81008265      DE      1732   \n",
       "781                    Sandcastles in the Sand  70218540      DE      1277   \n",
       "782                     The Chain of Screaming  70218539      DE      1276   \n",
       "783                               Ellie Taylor  81008347      DE      1745   \n",
       "784                                 Mae Martin  81008345      DE        12   \n",
       "785                            Donel Jack'sman  81008297      DE         0   \n",
       "786                                Tania Dutel  81008296      DE      1741   \n",
       "787                           Shirley Souagnon  81008294      DE       100   \n",
       "788                               Aditi Mittal  81008313      DE      1685   \n",
       "789                               Enissa Amani  81008308      DE         1   \n",
       "790                                The Bracket  70218538      DE      1215   \n",
       "791                               Ten Sessions  70218537      DE      1281   \n",
       "792                                   Arkangel  80131566      DE      2281   \n",
       "793                              USS Callister  80131567      DE      4506   \n",
       "794                          After Porn Ends 3  80220761      DE        31   \n",
       "795                                  Episode 1  80210938      DE      3028   \n",
       "796                                     Jigsaw  80223721      DE      2593   \n",
       "797                                       Dark  80223720      DE      3557   \n",
       "798                                No Tomorrow  70218536      DE      1255   \n",
       "799                          The Platinum Rule  70218535      DE      1256   \n",
       "800                                   The Yips  70218534      DE      1281   \n",
       "801                                Slapsgiving  70218533      DE      1287   \n",
       "802                 Black Mirror: Bandersnatch  80988062      DE     18529   \n",
       "803                              Rixty Minutes  80098740      DE      1270   \n",
       "\n",
       "     duration           date  deviceType   dateStr  index  topNodeId  \\\n",
       "0        3660  1606683902538        1222  11/29/20      0   80025678   \n",
       "1        3384  1606595585563        1222  11/28/20      1   80025678   \n",
       "2        3296  1606581692356        1222  11/28/20      2   80025678   \n",
       "3        3414  1606510063127        1222  11/27/20      3   80025678   \n",
       "4        3310  1606509521119        1222  11/27/20      4   80025678   \n",
       "5        7366  1606502807717        1812  11/27/20      5   80068327   \n",
       "6        7606  1606435371733        1222  11/27/20      6     950149   \n",
       "7        3532  1606338576753        1222  11/25/20      7   80025678   \n",
       "8        3640  1606335175411        1222  11/25/20      8   80025678   \n",
       "9        3528  1606255784697        1222  11/24/20      9   80025678   \n",
       "10       3536  1606250561568        1222  11/24/20     10   80025678   \n",
       "11       3510  1606248448535        1222  11/24/20     11   80025678   \n",
       "12       3336  1606163822853        1222  11/23/20     12   80025678   \n",
       "13       4989  1606147417578        1222  11/23/20     13   80189024   \n",
       "14       4995  1606078748255        1222  11/22/20     14   80189024   \n",
       "15       4376  1605992183411        1222  11/21/20     15   80211686   \n",
       "16       3624  1605983819518        1812  11/21/20     16   80025678   \n",
       "17       3396  1605981561535        1812  11/21/20     17   80025678   \n",
       "18       3428  1605900154393        1812  11/20/20     18   80025678   \n",
       "19       3252  1605897075516        1812  11/20/20     19   80025678   \n",
       "20       3049  1605734668034        1222  11/18/20     20   80211686   \n",
       "21       3027  1605645161833        1222  11/17/20     21   80211686   \n",
       "22       3085  1605560438442        1222  11/16/20     22   80211686   \n",
       "23       2843  1605382036822        1222  11/14/20     23   80211686   \n",
       "24       3265  1605217482231        1222  11/12/20     24   80211686   \n",
       "25       3169  1605215257929        1222  11/12/20     25   80211686   \n",
       "26       3011  1605206866219        1222  11/12/20     26   80211686   \n",
       "27       3141  1605191776369        1222  11/12/20     27   80211686   \n",
       "28       2002  1605132471683        1222  11/11/20     28   81069541   \n",
       "29       1620  1605128945307        1222  11/11/20     29   81069541   \n",
       "..        ...            ...         ...       ...    ...        ...   \n",
       "774      1325  1547824829865        1222   1/18/19    774   70143824   \n",
       "775      1281  1547734713403        1222   1/17/19    775   70143824   \n",
       "776      1311  1547727341879        1222   1/17/19    776   70143824   \n",
       "777      1325  1547727329507        1222   1/17/19    777   70143824   \n",
       "778      1825  1547672079012        1222   1/16/19    778   81008236   \n",
       "779      1823  1547669618857        1222   1/16/19    779   81008236   \n",
       "780      1773  1547668147819        1222   1/16/19    780   81008236   \n",
       "781      1323  1547636910654        1222   1/16/19    781   70143824   \n",
       "782      1319  1547635419992        1222   1/16/19    782   70143824   \n",
       "783      1794  1547587935274        1222   1/15/19    783   81008236   \n",
       "784      1821  1547587920620        1222   1/15/19    784   81008236   \n",
       "785      1787  1547587895792        1222   1/15/19    785   81008236   \n",
       "786      1789  1547559483981        1222   1/15/19    786   81008236   \n",
       "787      1783  1547559302492        1222   1/15/19    787   81008236   \n",
       "788      1734  1547547441921        1222   1/15/19    788   81008236   \n",
       "789      1800  1547547417333        1222   1/15/19    789   81008236   \n",
       "790      1259  1547538472293        1222   1/15/19    790   70143824   \n",
       "791      1327  1547502533368        1222   1/14/19    791   70143824   \n",
       "792      3138  1547335002463        1222   1/13/19    792   70264888   \n",
       "793      4610  1547330497381        1222   1/12/19    793   70264888   \n",
       "794      5216  1547330319584        1222   1/12/19    794   80220761   \n",
       "795      3142  1547313828399        1222   1/12/19    795   80197526   \n",
       "796      3596  1547208019089        1222   1/11/19    796   80223685   \n",
       "797      3597  1547208010565        1222   1/11/19    797   80223685   \n",
       "798      1299  1547207344253        1222   1/11/19    798   70143824   \n",
       "799      1305  1547205869212        1222   1/11/19    799   70143824   \n",
       "800      1331  1547204817450        1222   1/11/19    800   70143824   \n",
       "801      1319  1547193485718        1222   1/11/19    801   70143824   \n",
       "802     18760  1547150531087        1109   1/10/19    802   80988062   \n",
       "803      1353  1547149077026        1109   1/10/19    803   80014749   \n",
       "\n",
       "         series               seriesTitle         seasonDescriptor  \\\n",
       "0    80025678.0                 The Crown                 Season 2   \n",
       "1    80025678.0                 The Crown                 Season 2   \n",
       "2    80025678.0                 The Crown                 Season 2   \n",
       "3    80025678.0                 The Crown                 Season 2   \n",
       "4    80025678.0                 The Crown                 Season 1   \n",
       "5           NaN                       NaN                      NaN   \n",
       "6           NaN                       NaN                      NaN   \n",
       "7    80025678.0                 The Crown                 Season 3   \n",
       "8    80025678.0                 The Crown                 Season 1   \n",
       "9    80025678.0                 The Crown                 Season 1   \n",
       "10   80025678.0                 The Crown                 Season 1   \n",
       "11   80025678.0                 The Crown                 Season 1   \n",
       "12   80025678.0                 The Crown                 Season 1   \n",
       "13   80189024.0        The Story of Diana                 Season 1   \n",
       "14   80189024.0        The Story of Diana                 Season 1   \n",
       "15   80211686.0                Grand Army                 Season 1   \n",
       "16   80025678.0                 The Crown                 Season 4   \n",
       "17   80025678.0                 The Crown                 Season 4   \n",
       "18   80025678.0                 The Crown                 Season 4   \n",
       "19   80025678.0                 The Crown                 Season 4   \n",
       "20   80211686.0                Grand Army                 Season 1   \n",
       "21   80211686.0                Grand Army                 Season 1   \n",
       "22   80211686.0                Grand Army                 Season 1   \n",
       "23   80211686.0                Grand Army                 Season 1   \n",
       "24   80211686.0                Grand Army                 Season 1   \n",
       "25   80211686.0                Grand Army                 Season 1   \n",
       "26   80211686.0                Grand Army                 Season 1   \n",
       "27   80211686.0                Grand Army                 Season 1   \n",
       "28   81069541.0            Love & Anarchy                 Season 1   \n",
       "29   81069541.0            Love & Anarchy                 Season 1   \n",
       "..          ...                       ...                      ...   \n",
       "774  70143824.0     How I Met Your Mother                 Season 3   \n",
       "775  70143824.0     How I Met Your Mother                 Season 3   \n",
       "776  70143824.0     How I Met Your Mother                 Season 3   \n",
       "777  70143824.0     How I Met Your Mother                 Season 3   \n",
       "778  81008236.0    COMEDIANS of the world  Australia & New Zealand   \n",
       "779  81008236.0    COMEDIANS of the world  Australia & New Zealand   \n",
       "780  81008236.0    COMEDIANS of the world              Canada (EN)   \n",
       "781  70143824.0     How I Met Your Mother                 Season 3   \n",
       "782  70143824.0     How I Met Your Mother                 Season 3   \n",
       "783  81008236.0    COMEDIANS of the world                       UK   \n",
       "784  81008236.0    COMEDIANS of the world                       UK   \n",
       "785  81008236.0    COMEDIANS of the world                   France   \n",
       "786  81008236.0    COMEDIANS of the world                   France   \n",
       "787  81008236.0    COMEDIANS of the world                   France   \n",
       "788  81008236.0    COMEDIANS of the world                    India   \n",
       "789  81008236.0    COMEDIANS of the world                  Germany   \n",
       "790  70143824.0     How I Met Your Mother                 Season 3   \n",
       "791  70143824.0     How I Met Your Mother                 Season 3   \n",
       "792  70264888.0              Black Mirror                 Season 4   \n",
       "793  70264888.0              Black Mirror                 Season 4   \n",
       "794         NaN                       NaN                      NaN   \n",
       "795  80197526.0             Sex Education                 Season 1   \n",
       "796  80223685.0  Daniel Sloss: Live Shows                 Season 1   \n",
       "797  80223685.0  Daniel Sloss: Live Shows                 Season 1   \n",
       "798  70143824.0     How I Met Your Mother                 Season 3   \n",
       "799  70143824.0     How I Met Your Mother                 Season 3   \n",
       "800  70143824.0     How I Met Your Mother                 Season 3   \n",
       "801  70143824.0     How I Met Your Mother                 Season 3   \n",
       "802         NaN                       NaN                      NaN   \n",
       "803  80014749.0            Rick and Morty                 Season 1   \n",
       "\n",
       "                                  episodeTitle  estRating  \n",
       "0                                        Beryl         50  \n",
       "1                                       Lisbon         50  \n",
       "2                             A Company of Men         50  \n",
       "3                                 Misadventure         50  \n",
       "4                                     Gloriana         50  \n",
       "5                                          NaN         15  \n",
       "6                                          NaN         29  \n",
       "7                                 Cri de Coeur         50  \n",
       "8                                    Assassins         50  \n",
       "9                                  Pride & Joy         50  \n",
       "10                       Scientia Potentia Est         50  \n",
       "11                                   Gelignite         50  \n",
       "12                           Smoke and Mirrors         50  \n",
       "13                                      Part 2         33  \n",
       "14                                      Part 1         33  \n",
       "15                                     Freedom         34  \n",
       "16                                  Favourites         50  \n",
       "17                                   Fairytale         50  \n",
       "18                           The Balmoral Test         50  \n",
       "19                                  Gold Stick         50  \n",
       "20                                  Spirit Day         34  \n",
       "21                                Making Moves         34  \n",
       "22                          Superman This S**t         34  \n",
       "23                             Valentine's Day         34  \n",
       "24                                   Safety On         34  \n",
       "25                          Relationship Goals         34  \n",
       "26                                      See Me         34  \n",
       "27                              Brooklyn, 2020         34  \n",
       "28   The Present, Eternity and the Action Plan         38  \n",
       "29                                   Ayahuasca         38  \n",
       "..                                         ...        ...  \n",
       "774                                   Miracles         41  \n",
       "775                         Everything Must Go         41  \n",
       "776                                Rebound Bro         41  \n",
       "777                                   The Goat         41  \n",
       "778                               Joel Creasey         27  \n",
       "779                             Urzila Carlson         27  \n",
       "780                               DeAnne Smith         27  \n",
       "781                    Sandcastles in the Sand         41  \n",
       "782                     The Chain of Screaming         41  \n",
       "783                               Ellie Taylor         27  \n",
       "784                                 Mae Martin         27  \n",
       "785                            Donel Jack'sman         27  \n",
       "786                                Tania Dutel         27  \n",
       "787                           Shirley Souagnon         27  \n",
       "788                               Aditi Mittal         27  \n",
       "789                               Enissa Amani         27  \n",
       "790                                The Bracket         41  \n",
       "791                               Ten Sessions         41  \n",
       "792                                   Arkangel         48  \n",
       "793                              USS Callister         48  \n",
       "794                                        NaN         18  \n",
       "795                                  Episode 1         26  \n",
       "796                                     Jigsaw         37  \n",
       "797                                       Dark         37  \n",
       "798                                No Tomorrow         41  \n",
       "799                          The Platinum Rule         41  \n",
       "800                                   The Yips         41  \n",
       "801                                Slapsgiving         41  \n",
       "802                                        NaN         27  \n",
       "803                              Rixty Minutes         49  \n",
       "\n",
       "[804 rows x 16 columns]"
      ]
     },
     "execution_count": 3,
     "metadata": {},
     "output_type": "execute_result"
    }
   ],
   "source": [
    "df"
   ]
  },
  {
   "cell_type": "code",
   "execution_count": 4,
   "metadata": {},
   "outputs": [
    {
     "data": {
      "text/plain": [
       "DE    719\n",
       "RU     52\n",
       "ES     12\n",
       "CH      9\n",
       "DK      5\n",
       "GE      4\n",
       "PL      2\n",
       "FR      1\n",
       "Name: country, dtype: int64"
      ]
     },
     "execution_count": 4,
     "metadata": {},
     "output_type": "execute_result"
    }
   ],
   "source": [
    "df['country'].value_counts()"
   ]
  },
  {
   "cell_type": "code",
   "execution_count": 5,
   "metadata": {
    "collapsed": true
   },
   "outputs": [],
   "source": [
    "df['dateStr'] = pd.to_datetime(df['dateStr'], utc=True)"
   ]
  },
  {
   "cell_type": "code",
   "execution_count": 6,
   "metadata": {
    "collapsed": true
   },
   "outputs": [],
   "source": [
    "df_2020 = df[df['dateStr']>'2019-12-31']\n",
    "df_2019 = df[df['dateStr']<'2020-01-01']"
   ]
  },
  {
   "cell_type": "code",
   "execution_count": 7,
   "metadata": {},
   "outputs": [
    {
     "name": "stdout",
     "output_type": "stream",
     "text": [
      "Total time spent watching netflix in 2020: 348.62916666666666 hours or 14.526215277777778 days\n"
     ]
    }
   ],
   "source": [
    "hours_2020 = df_2020.duration.sum()/3600\n",
    "days_2020 = hours_2020/24\n",
    "print(f'Total time spent watching netflix in 2020: {hours_2020} hours or {days_2020} days')"
   ]
  },
  {
   "cell_type": "code",
   "execution_count": 8,
   "metadata": {},
   "outputs": [
    {
     "data": {
      "image/png": "[encoded data removed]",
      "text/plain": [
       "<Figure size 432x288 with 1 Axes>"
      ]
     },
     "metadata": {},
     "output_type": "display_data"
    },
    {
     "data": {
      "image/png": "[encoded data removed]",
      "text/plain": [
       "<Figure size 432x288 with 1 Axes>"
      ]
     },
     "metadata": {},
     "output_type": "display_data"
    }
   ],
   "source": [
    "hours_2019 = df_2019.duration.sum()/3600\n",
    "days_2019 = hours_2019/24\n",
    "\n",
    "days = pd.DataFrame({'Year':['2019','2020'], 'Hours':[hours_2019, hours_2020], 'Days':[days_2019, days_2020]})\n",
    "fig = plt.figure()\n",
    "ax = fig.add_axes([0,0,1,1])\n",
    "ax.bar(days['Year'],days['Hours'])\n",
    "ax.set_title('Hours')\n",
    "\n",
    "fig_1 = plt.figure()\n",
    "ax_1 = fig_1.add_axes([0,0,1,1])\n",
    "ax_1.bar(days['Year'],days['Days'], color='r')\n",
    "ax_1.set_title('Days')\n",
    "plt.show()"
   ]
  },
  {
   "cell_type": "code",
   "execution_count": 9,
   "metadata": {},
   "outputs": [],
   "source": [
    "tv_series_2020 = df_2020[~df_2020['seriesTitle'].isnull()]\n",
    "tv_series_2020 = tv_series_2020[['seriesTitle', 'duration']].groupby('seriesTitle').sum().sort_values('duration', ascending=False).reset_index()"
   ]
  },
  {
   "cell_type": "code",
   "execution_count": 10,
   "metadata": {},
   "outputs": [
    {
     "data": {
      "text/html": [
       "<div>\n",
       "<style>\n",
       "    .dataframe thead tr:only-child th {\n",
       "        text-align: right;\n",
       "    }\n",
       "\n",
       "    .dataframe thead th {\n",
       "        text-align: left;\n",
       "    }\n",
       "\n",
       "    .dataframe tbody tr th {\n",
       "        vertical-align: top;\n",
       "    }\n",
       "</style>\n",
       "<table border=\"1\" class=\"dataframe\">\n",
       "  <thead>\n",
       "    <tr style=\"text-align: right;\">\n",
       "      <th></th>\n",
       "      <th>seriesTitle</th>\n",
       "      <th>duration</th>\n",
       "    </tr>\n",
       "  </thead>\n",
       "  <tbody>\n",
       "    <tr>\n",
       "      <th>0</th>\n",
       "      <td>Narcos</td>\n",
       "      <td>93753</td>\n",
       "    </tr>\n",
       "    <tr>\n",
       "      <th>1</th>\n",
       "      <td>Community</td>\n",
       "      <td>81805</td>\n",
       "    </tr>\n",
       "    <tr>\n",
       "      <th>2</th>\n",
       "      <td>The Crown</td>\n",
       "      <td>51846</td>\n",
       "    </tr>\n",
       "    <tr>\n",
       "      <th>3</th>\n",
       "      <td>Better Call Saul</td>\n",
       "      <td>31715</td>\n",
       "    </tr>\n",
       "    <tr>\n",
       "      <th>4</th>\n",
       "      <td>Grand Army</td>\n",
       "      <td>28966</td>\n",
       "    </tr>\n",
       "    <tr>\n",
       "      <th>5</th>\n",
       "      <td>Snowpiercer</td>\n",
       "      <td>28360</td>\n",
       "    </tr>\n",
       "    <tr>\n",
       "      <th>6</th>\n",
       "      <td>How I Met Your Mother</td>\n",
       "      <td>26196</td>\n",
       "    </tr>\n",
       "    <tr>\n",
       "      <th>7</th>\n",
       "      <td>Ratched</td>\n",
       "      <td>26161</td>\n",
       "    </tr>\n",
       "    <tr>\n",
       "      <th>8</th>\n",
       "      <td>Sex Education</td>\n",
       "      <td>25166</td>\n",
       "    </tr>\n",
       "    <tr>\n",
       "      <th>9</th>\n",
       "      <td>To the Lake</td>\n",
       "      <td>24482</td>\n",
       "    </tr>\n",
       "  </tbody>\n",
       "</table>\n",
       "</div>"
      ],
      "text/plain": [
       "             seriesTitle  duration\n",
       "0                 Narcos     93753\n",
       "1              Community     81805\n",
       "2              The Crown     51846\n",
       "3       Better Call Saul     31715\n",
       "4             Grand Army     28966\n",
       "5            Snowpiercer     28360\n",
       "6  How I Met Your Mother     26196\n",
       "7                Ratched     26161\n",
       "8          Sex Education     25166\n",
       "9            To the Lake     24482"
      ]
     },
     "execution_count": 10,
     "metadata": {},
     "output_type": "execute_result"
    }
   ],
   "source": [
    "tv_series_2020[:10]"
   ]
  },
  {
   "cell_type": "code",
   "execution_count": 11,
   "metadata": {},
   "outputs": [
    {
     "data": {
      "text/plain": [
       "seriesTitle\n",
       "How I Met Your Mother                               56557\n",
       "Good Girls                                          56190\n",
       "Orange Is the New Black                             49600\n",
       "13 Reasons Why                                      44714\n",
       "Pose                                                36115\n",
       "You                                                 33246\n",
       "MINDHUNTER                                          31486\n",
       "COMEDIANS of the world                              26812\n",
       "Sex Education                                       24134\n",
       "Black Mirror                                        22858\n",
       "The Politician                                      22575\n",
       "The Witcher                                         22194\n",
       "Bodyguard                                           21950\n",
       "GLOW                                                21612\n",
       "The Spy                                             19382\n",
       "Stranger Things                                     17530\n",
       "Easy                                                17060\n",
       "Peaky Blinders                                      16882\n",
       "Disenchantment                                      15590\n",
       "BoJack Horseman                                     14183\n",
       "Hot Girls Wanted: Turned On                         14178\n",
       "Love, Death & Robots                                13866\n",
       "The End of the F***ing World                        10654\n",
       "How to Sell Drugs Online (Fast)                     10440\n",
       "Suits                                               10158\n",
       "Living with Yourself                                10055\n",
       "Dark                                                 9910\n",
       "Ugly Delicious                                       8997\n",
       "Queer Eye                                            8539\n",
       "Money Heist                                          8500\n",
       "Dope                                                 7983\n",
       "Happy!                                               7735\n",
       "Osmosis                                              7718\n",
       "Daniel Sloss: Live Shows                             7193\n",
       "BONDING                                              6573\n",
       "House of Cards                                       6342\n",
       "Breakfast, Lunch & Dinner                            5190\n",
       "Dave Chappelle: Equanimity & The Bird Revelation     3830\n",
       "The Bridge                                           3600\n",
       "The Umbrella Academy                                 3580\n",
       "Unbelievable                                         3532\n",
       "The Society                                          3507\n",
       "Better Call Saul                                     3205\n",
       "The Family                                           2973\n",
       "We Are the Wave                                      2863\n",
       "Trinkets                                             1622\n",
       "Big Mouth                                            1565\n",
       "Russian Doll                                         1499\n",
       "Crashing                                             1435\n",
       "Rick and Morty                                       1353\n",
       "Special                                               857\n",
       "Name: duration, dtype: int64"
      ]
     },
     "execution_count": 11,
     "metadata": {},
     "output_type": "execute_result"
    }
   ],
   "source": [
    "tv_series_2019 = df_2019[~df_2019['seriesTitle'].isnull()]\n",
    "tv_series_2019.groupby('seriesTitle')['duration'].sum().sort_values(ascending=False)"
   ]
  },
  {
   "cell_type": "code",
   "execution_count": 12,
   "metadata": {},
   "outputs": [
    {
     "data": {
      "text/plain": [
       "50"
      ]
     },
     "execution_count": 12,
     "metadata": {},
     "output_type": "execute_result"
    }
   ],
   "source": [
    "movies_2020 = df_2020[df_2020['seriesTitle'].isnull()]\n",
    "len(movies_2020)"
   ]
  },
  {
   "cell_type": "code",
   "execution_count": 13,
   "metadata": {},
   "outputs": [
    {
     "name": "stderr",
     "output_type": "stream",
     "text": [
      "/Users/user/anaconda3/lib/python3.6/site-packages/ipykernel_launcher.py:1: SettingWithCopyWarning:\n",
      "\n",
      "\n",
      "A value is trying to be set on a copy of a slice from a DataFrame.\n",
      "Try using .loc[row_indexer,col_indexer] = value instead\n",
      "\n",
      "See the caveats in the documentation: http://pandas.pydata.org/pandas-docs/stable/indexing.html#indexing-view-versus-copy\n",
      "\n"
     ]
    }
   ],
   "source": [
    "movies_2020['genres'] = None"
   ]
  },
  {
   "cell_type": "code",
   "execution_count": 14,
   "metadata": {},
   "outputs": [
    {
     "data": {
      "text/plain": [
       "<Movie id:4758646[http] title:_War Machine (2017)_>"
      ]
     },
     "metadata": {},
     "output_type": "display_data"
    },
    {
     "data": {
      "text/plain": [
       "<Movie id:0114369[http] title:_Se7en (1995)_>"
      ]
     },
     "metadata": {},
     "output_type": "display_data"
    },
    {
     "data": {
      "text/plain": [
       "<Movie id:0443453[http] title:_Borat: Cultural Learnings of America for Make Benefit Glorious Nation of Kazakhstan (2006)_>"
      ]
     },
     "metadata": {},
     "output_type": "display_data"
    },
    {
     "data": {
      "text/plain": [
       "<Movie id:2235695[http] title:_Rebecca (2020)_>"
      ]
     },
     "metadata": {},
     "output_type": "display_data"
    },
    {
     "data": {
      "text/plain": [
       "<Movie id:1070874[http] title:_The Trial of the Chicago 7 (2020)_>"
      ]
     },
     "metadata": {},
     "output_type": "display_data"
    },
    {
     "data": {
      "text/plain": [
       "<Movie id:7395114[http] title:_The Devil All the Time (2020)_>"
      ]
     },
     "metadata": {},
     "output_type": "display_data"
    },
    {
     "data": {
      "text/plain": [
       "<Movie id:7846844[http] title:_Enola Holmes (2020)_>"
      ]
     },
     "metadata": {},
     "output_type": "display_data"
    },
    {
     "data": {
      "text/plain": [
       "<Movie id:7939766[http] title:_I'm Thinking of Ending Things (2020)_>"
      ]
     },
     "metadata": {},
     "output_type": "display_data"
    },
    {
     "data": {
      "text/plain": [
       "<Movie id:7550000[http] title:_Project Power (2020)_>"
      ]
     },
     "metadata": {},
     "output_type": "display_data"
    },
    {
     "data": {
      "text/plain": [
       "<Movie id:11464826[http] title:_The Social Dilemma (2020)_>"
      ]
     },
     "metadata": {},
     "output_type": "display_data"
    },
    {
     "data": {
      "text/plain": [
       "<Movie id:9777644[http] title:_Da 5 Bloods (2020)_>"
      ]
     },
     "metadata": {},
     "output_type": "display_data"
    },
    {
     "data": {
      "text/plain": [
       "<Movie id:7668870[http] title:_Searching (2018)_>"
      ]
     },
     "metadata": {},
     "output_type": "display_data"
    },
    {
     "data": {
      "text/plain": [
       "<Movie id:10276470[http] title:_Work It (2020)_>"
      ]
     },
     "metadata": {},
     "output_type": "display_data"
    },
    {
     "data": {
      "text/plain": [
       "<Movie id:10438648[http] title:_Katherine Ryan: Glitter Room (2019)_>"
      ]
     },
     "metadata": {},
     "output_type": "display_data"
    },
    {
     "data": {
      "text/plain": [
       "<Movie id:9784456[http] title:_The Kissing Booth 2 (2020)_>"
      ]
     },
     "metadata": {},
     "output_type": "display_data"
    },
    {
     "data": {
      "text/plain": [
       "<Movie id:0362227[http] title:_The Terminal (2004)_>"
      ]
     },
     "metadata": {},
     "output_type": "display_data"
    },
    {
     "data": {
      "text/plain": [
       "<Movie id:8851668[http] title:_The Lovebirds (2020)_>"
      ]
     },
     "metadata": {},
     "output_type": "display_data"
    },
    {
     "data": {
      "text/plain": [
       "<Movie id:8580274[http] title:_Eurovision Song Contest: The Story of Fire Saga (2020)_>"
      ]
     },
     "metadata": {},
     "output_type": "display_data"
    },
    {
     "data": {
      "text/plain": [
       "<Movie id:11905462[http] title:_Athlete A (2020)_>"
      ]
     },
     "metadata": {},
     "output_type": "display_data"
    },
    {
     "data": {
      "text/plain": [
       "<Movie id:0106246[http] title:_Alive (1993)_>"
      ]
     },
     "metadata": {},
     "output_type": "display_data"
    },
    {
     "data": {
      "text/plain": [
       "<Movie id:8465676[http] title:_Hannah Gadsby: Nanette (2018)_>"
      ]
     },
     "metadata": {},
     "output_type": "display_data"
    },
    {
     "data": {
      "text/plain": [
       "<Movie id:0443706[http] title:_Zodiac (2007)_>"
      ]
     },
     "metadata": {},
     "output_type": "display_data"
    },
    {
     "data": {
      "text/plain": [
       "<Movie id:1210166[http] title:_Moneyball (2011)_>"
      ]
     },
     "metadata": {},
     "output_type": "display_data"
    },
    {
     "data": {
      "text/plain": [
       "<Movie id:1632708[http] title:_Friends with Benefits (2011)_>"
      ]
     },
     "metadata": {},
     "output_type": "display_data"
    },
    {
     "data": {
      "text/plain": [
       "<Movie id:2573372[http] title:_Becoming (2020)_>"
      ]
     },
     "metadata": {},
     "output_type": "display_data"
    },
    {
     "data": {
      "text/plain": [
       "<Movie id:8727582[http] title:_Circus of Books (2019)_>"
      ]
     },
     "metadata": {},
     "output_type": "display_data"
    },
    {
     "data": {
      "text/plain": [
       "<Movie id:11987296[http] title:_Chris D'Elia: No Pain (2020)_>"
      ]
     },
     "metadata": {},
     "output_type": "display_data"
    },
    {
     "data": {
      "text/plain": [
       "<Movie id:0347149[http] title:_Howl's Moving Castle (2004)_>"
      ]
     },
     "metadata": {},
     "output_type": "display_data"
    },
    {
     "data": {
      "text/plain": [
       "<Movie id:11388406[http] title:_Horse Girl (2020)_>"
      ]
     },
     "metadata": {},
     "output_type": "display_data"
    },
    {
     "data": {
      "text/plain": [
       "<Movie id:4970632[http] title:_Tom Segura: Mostly Stories (2016)_>"
      ]
     },
     "metadata": {},
     "output_type": "display_data"
    },
    {
     "data": {
      "text/plain": [
       "<Movie id:7379330[http] title:_Tom Segura: Disgraceful (2018)_>"
      ]
     },
     "metadata": {},
     "output_type": "display_data"
    },
    {
     "data": {
      "text/plain": [
       "<Movie id:11861072[http] title:_Tom Segura: Ball Hog (2020)_>"
      ]
     },
     "metadata": {},
     "output_type": "display_data"
    },
    {
     "data": {
      "text/plain": [
       "<Movie id:0082869[http] title:_Outland (1981)_>"
      ]
     },
     "metadata": {},
     "output_type": "display_data"
    },
    {
     "data": {
      "text/plain": [
       "<Movie id:6020164[http] title:_Pedal the World (2015)_>"
      ]
     },
     "metadata": {},
     "output_type": "display_data"
    },
    {
     "data": {
      "text/plain": [
       "<Movie id:8228288[http] title:_The Platform (2019)_>"
      ]
     },
     "metadata": {},
     "output_type": "display_data"
    },
    {
     "data": {
      "text/plain": [
       "<Movie id:11738792[http] title:_Taylor Tomlinson: Quarter-Life Crisis (2020)_>"
      ]
     },
     "metadata": {},
     "output_type": "display_data"
    },
    {
     "data": {
      "text/plain": [
       "<Movie id:8629748[http] title:_Spenser Confidential (2020)_>"
      ]
     },
     "metadata": {},
     "output_type": "display_data"
    },
    {
     "data": {
      "text/plain": [
       "<Movie id:3907584[http] title:_All the Bright Places (2020)_>"
      ]
     },
     "metadata": {},
     "output_type": "display_data"
    },
    {
     "data": {
      "text/plain": [
       "<Movie id:0446029[http] title:_Scott Pilgrim vs. the World (2010)_>"
      ]
     },
     "metadata": {},
     "output_type": "display_data"
    },
    {
     "data": {
      "text/plain": [
       "<Movie id:0780536[http] title:_In Bruges (2008)_>"
      ]
     },
     "metadata": {},
     "output_type": "display_data"
    },
    {
     "data": {
      "text/plain": [
       "<Movie id:11474156[http] title:_Pete Davidson: Alive from New York (2020)_>"
      ]
     },
     "metadata": {},
     "output_type": "display_data"
    },
    {
     "data": {
      "text/plain": [
       "<Movie id:9398640[http] title:_Between Two Ferns: The Movie (2019)_>"
      ]
     },
     "metadata": {},
     "output_type": "display_data"
    },
    {
     "data": {
      "text/plain": [
       "<Movie id:6156584[http] title:_\"Snowpiercer\" (2020)_>"
      ]
     },
     "metadata": {},
     "output_type": "display_data"
    },
    {
     "data": {
      "text/plain": [
       "<Movie id:9354842[http] title:_To All the Boys: P.S. I Still Love You (2020)_>"
      ]
     },
     "metadata": {},
     "output_type": "display_data"
    },
    {
     "data": {
      "text/plain": [
       "<Movie id:1981128[http] title:_Geostorm (2017)_>"
      ]
     },
     "metadata": {},
     "output_type": "display_data"
    },
    {
     "data": {
      "text/plain": [
       "<Movie id:0463854[http] title:_28 Weeks Later (2007)_>"
      ]
     },
     "metadata": {},
     "output_type": "display_data"
    },
    {
     "data": {
      "text/plain": [
       "<Movie id:0289043[http] title:_28 Days Later... (2002)_>"
      ]
     },
     "metadata": {},
     "output_type": "display_data"
    },
    {
     "data": {
      "text/plain": [
       "<Movie id:5727208[http] title:_Uncut Gems (2019)_>"
      ]
     },
     "metadata": {},
     "output_type": "display_data"
    },
    {
     "data": {
      "text/plain": [
       "<Movie id:1850458[http] title:_\"Whitney\" (2011)_>"
      ]
     },
     "metadata": {},
     "output_type": "display_data"
    },
    {
     "data": {
      "text/plain": [
       "<Movie id:9806192[http] title:_I Lost My Body (2019)_>"
      ]
     },
     "metadata": {},
     "output_type": "display_data"
    },
    {
     "name": "stderr",
     "output_type": "stream",
     "text": [
      "/Users/user/anaconda3/lib/python3.6/site-packages/ipykernel_launcher.py:3: SettingWithCopyWarning:\n",
      "\n",
      "\n",
      "A value is trying to be set on a copy of a slice from a DataFrame.\n",
      "Try using .loc[row_indexer,col_indexer] = value instead\n",
      "\n",
      "See the caveats in the documentation: http://pandas.pydata.org/pandas-docs/stable/indexing.html#indexing-view-versus-copy\n",
      "\n"
     ]
    }
   ],
   "source": [
    "from search import get_genres\n",
    "\n",
    "movies_2020['genres'] = movies_2020['title'].apply(get_genres)"
   ]
  },
  {
   "cell_type": "code",
   "execution_count": 15,
   "metadata": {},
   "outputs": [
    {
     "data": {
      "text/html": [
       "<div>\n",
       "<style>\n",
       "    .dataframe thead tr:only-child th {\n",
       "        text-align: right;\n",
       "    }\n",
       "\n",
       "    .dataframe thead th {\n",
       "        text-align: left;\n",
       "    }\n",
       "\n",
       "    .dataframe tbody tr th {\n",
       "        vertical-align: top;\n",
       "    }\n",
       "</style>\n",
       "<table border=\"1\" class=\"dataframe\">\n",
       "  <thead>\n",
       "    <tr style=\"text-align: right;\">\n",
       "      <th></th>\n",
       "      <th>title</th>\n",
       "      <th>videoTitle</th>\n",
       "      <th>movieID</th>\n",
       "      <th>country</th>\n",
       "      <th>bookmark</th>\n",
       "      <th>duration</th>\n",
       "      <th>date</th>\n",
       "      <th>deviceType</th>\n",
       "      <th>dateStr</th>\n",
       "      <th>index</th>\n",
       "      <th>topNodeId</th>\n",
       "      <th>series</th>\n",
       "      <th>seriesTitle</th>\n",
       "      <th>seasonDescriptor</th>\n",
       "      <th>episodeTitle</th>\n",
       "      <th>estRating</th>\n",
       "      <th>genres</th>\n",
       "    </tr>\n",
       "  </thead>\n",
       "  <tbody>\n",
       "    <tr>\n",
       "      <th>5</th>\n",
       "      <td>War Machine</td>\n",
       "      <td>War Machine</td>\n",
       "      <td>80068327</td>\n",
       "      <td>RU</td>\n",
       "      <td>6917</td>\n",
       "      <td>7366</td>\n",
       "      <td>1606502807717</td>\n",
       "      <td>1812</td>\n",
       "      <td>2020-11-27</td>\n",
       "      <td>5</td>\n",
       "      <td>80068327</td>\n",
       "      <td>NaN</td>\n",
       "      <td>NaN</td>\n",
       "      <td>NaN</td>\n",
       "      <td>NaN</td>\n",
       "      <td>15</td>\n",
       "      <td>[Comedy, Drama, War]</td>\n",
       "    </tr>\n",
       "    <tr>\n",
       "      <th>6</th>\n",
       "      <td>Seven</td>\n",
       "      <td>Seven</td>\n",
       "      <td>950149</td>\n",
       "      <td>DE</td>\n",
       "      <td>7211</td>\n",
       "      <td>7606</td>\n",
       "      <td>1606435371733</td>\n",
       "      <td>1222</td>\n",
       "      <td>2020-11-27</td>\n",
       "      <td>6</td>\n",
       "      <td>950149</td>\n",
       "      <td>NaN</td>\n",
       "      <td>NaN</td>\n",
       "      <td>NaN</td>\n",
       "      <td>NaN</td>\n",
       "      <td>29</td>\n",
       "      <td>[Crime, Drama, Mystery, Thriller]</td>\n",
       "    </tr>\n",
       "    <tr>\n",
       "      <th>40</th>\n",
       "      <td>Borat</td>\n",
       "      <td>Borat</td>\n",
       "      <td>70050506</td>\n",
       "      <td>DE</td>\n",
       "      <td>4570</td>\n",
       "      <td>5022</td>\n",
       "      <td>1604090699825</td>\n",
       "      <td>1222</td>\n",
       "      <td>2020-10-30</td>\n",
       "      <td>40</td>\n",
       "      <td>70050506</td>\n",
       "      <td>NaN</td>\n",
       "      <td>NaN</td>\n",
       "      <td>NaN</td>\n",
       "      <td>NaN</td>\n",
       "      <td>27</td>\n",
       "      <td>[Comedy]</td>\n",
       "    </tr>\n",
       "    <tr>\n",
       "      <th>42</th>\n",
       "      <td>Rebecca</td>\n",
       "      <td>Rebecca</td>\n",
       "      <td>81002196</td>\n",
       "      <td>DE</td>\n",
       "      <td>6911</td>\n",
       "      <td>7382</td>\n",
       "      <td>1603978360467</td>\n",
       "      <td>1222</td>\n",
       "      <td>2020-10-29</td>\n",
       "      <td>42</td>\n",
       "      <td>81002196</td>\n",
       "      <td>NaN</td>\n",
       "      <td>NaN</td>\n",
       "      <td>NaN</td>\n",
       "      <td>NaN</td>\n",
       "      <td>28</td>\n",
       "      <td>[Drama, Mystery, Romance, Thriller]</td>\n",
       "    </tr>\n",
       "    <tr>\n",
       "      <th>49</th>\n",
       "      <td>The Trial of the Chicago 7</td>\n",
       "      <td>The Trial of the Chicago 7</td>\n",
       "      <td>81043755</td>\n",
       "      <td>DE</td>\n",
       "      <td>7324</td>\n",
       "      <td>7810</td>\n",
       "      <td>1603402234586</td>\n",
       "      <td>1222</td>\n",
       "      <td>2020-10-22</td>\n",
       "      <td>49</td>\n",
       "      <td>81043755</td>\n",
       "      <td>NaN</td>\n",
       "      <td>NaN</td>\n",
       "      <td>NaN</td>\n",
       "      <td>NaN</td>\n",
       "      <td>29</td>\n",
       "      <td>[Drama, History, Thriller]</td>\n",
       "    </tr>\n",
       "    <tr>\n",
       "      <th>70</th>\n",
       "      <td>The Devil All The Time</td>\n",
       "      <td>The Devil All The Time</td>\n",
       "      <td>81028870</td>\n",
       "      <td>DE</td>\n",
       "      <td>4215</td>\n",
       "      <td>8332</td>\n",
       "      <td>1602528581684</td>\n",
       "      <td>1222</td>\n",
       "      <td>2020-10-12</td>\n",
       "      <td>70</td>\n",
       "      <td>81028870</td>\n",
       "      <td>NaN</td>\n",
       "      <td>NaN</td>\n",
       "      <td>NaN</td>\n",
       "      <td>NaN</td>\n",
       "      <td>22</td>\n",
       "      <td>[Crime, Drama, Thriller]</td>\n",
       "    </tr>\n",
       "    <tr>\n",
       "      <th>77</th>\n",
       "      <td>Enola Holmes</td>\n",
       "      <td>Enola Holmes</td>\n",
       "      <td>81277950</td>\n",
       "      <td>DE</td>\n",
       "      <td>7028</td>\n",
       "      <td>7434</td>\n",
       "      <td>1601929857006</td>\n",
       "      <td>1222</td>\n",
       "      <td>2020-10-05</td>\n",
       "      <td>77</td>\n",
       "      <td>81277950</td>\n",
       "      <td>NaN</td>\n",
       "      <td>NaN</td>\n",
       "      <td>NaN</td>\n",
       "      <td>NaN</td>\n",
       "      <td>42</td>\n",
       "      <td>[Action, Adventure, Crime, Drama, Mystery]</td>\n",
       "    </tr>\n",
       "    <tr>\n",
       "      <th>99</th>\n",
       "      <td>I'm Thinking of Ending Things</td>\n",
       "      <td>I'm Thinking of Ending Things</td>\n",
       "      <td>80211559</td>\n",
       "      <td>RU</td>\n",
       "      <td>1312</td>\n",
       "      <td>8086</td>\n",
       "      <td>1600304117473</td>\n",
       "      <td>1222</td>\n",
       "      <td>2020-09-17</td>\n",
       "      <td>99</td>\n",
       "      <td>80211559</td>\n",
       "      <td>NaN</td>\n",
       "      <td>NaN</td>\n",
       "      <td>NaN</td>\n",
       "      <td>NaN</td>\n",
       "      <td>16</td>\n",
       "      <td>[Drama, Thriller]</td>\n",
       "    </tr>\n",
       "    <tr>\n",
       "      <th>101</th>\n",
       "      <td>Project Power</td>\n",
       "      <td>Project Power</td>\n",
       "      <td>80204465</td>\n",
       "      <td>RU</td>\n",
       "      <td>2845</td>\n",
       "      <td>6796</td>\n",
       "      <td>1599850364263</td>\n",
       "      <td>1222</td>\n",
       "      <td>2020-09-11</td>\n",
       "      <td>101</td>\n",
       "      <td>80204465</td>\n",
       "      <td>NaN</td>\n",
       "      <td>NaN</td>\n",
       "      <td>NaN</td>\n",
       "      <td>NaN</td>\n",
       "      <td>16</td>\n",
       "      <td>[Action, Crime, Sci-Fi, Thriller]</td>\n",
       "    </tr>\n",
       "    <tr>\n",
       "      <th>102</th>\n",
       "      <td>The Social Dilemma</td>\n",
       "      <td>The Social Dilemma</td>\n",
       "      <td>81254224</td>\n",
       "      <td>DE</td>\n",
       "      <td>5598</td>\n",
       "      <td>5676</td>\n",
       "      <td>1599653741573</td>\n",
       "      <td>1222</td>\n",
       "      <td>2020-09-09</td>\n",
       "      <td>102</td>\n",
       "      <td>81254224</td>\n",
       "      <td>NaN</td>\n",
       "      <td>NaN</td>\n",
       "      <td>NaN</td>\n",
       "      <td>NaN</td>\n",
       "      <td>38</td>\n",
       "      <td>[Documentary, Drama]</td>\n",
       "    </tr>\n",
       "    <tr>\n",
       "      <th>118</th>\n",
       "      <td>Da 5 Bloods</td>\n",
       "      <td>Da 5 Bloods</td>\n",
       "      <td>81045635</td>\n",
       "      <td>DE</td>\n",
       "      <td>1461</td>\n",
       "      <td>9352</td>\n",
       "      <td>1598903621834</td>\n",
       "      <td>1222</td>\n",
       "      <td>2020-08-31</td>\n",
       "      <td>118</td>\n",
       "      <td>81045635</td>\n",
       "      <td>NaN</td>\n",
       "      <td>NaN</td>\n",
       "      <td>NaN</td>\n",
       "      <td>NaN</td>\n",
       "      <td>30</td>\n",
       "      <td>[Adventure, Drama, War]</td>\n",
       "    </tr>\n",
       "    <tr>\n",
       "      <th>132</th>\n",
       "      <td>Searching</td>\n",
       "      <td>Searching</td>\n",
       "      <td>81053209</td>\n",
       "      <td>DE</td>\n",
       "      <td>5881</td>\n",
       "      <td>6141</td>\n",
       "      <td>1598045718259</td>\n",
       "      <td>1222</td>\n",
       "      <td>2020-08-21</td>\n",
       "      <td>132</td>\n",
       "      <td>81053209</td>\n",
       "      <td>NaN</td>\n",
       "      <td>NaN</td>\n",
       "      <td>NaN</td>\n",
       "      <td>NaN</td>\n",
       "      <td>22</td>\n",
       "      <td>[Drama, Mystery, Thriller]</td>\n",
       "    </tr>\n",
       "    <tr>\n",
       "      <th>133</th>\n",
       "      <td>Work It</td>\n",
       "      <td>Work It</td>\n",
       "      <td>81132038</td>\n",
       "      <td>DE</td>\n",
       "      <td>5265</td>\n",
       "      <td>5626</td>\n",
       "      <td>1597931481706</td>\n",
       "      <td>1222</td>\n",
       "      <td>2020-08-20</td>\n",
       "      <td>133</td>\n",
       "      <td>81132038</td>\n",
       "      <td>NaN</td>\n",
       "      <td>NaN</td>\n",
       "      <td>NaN</td>\n",
       "      <td>NaN</td>\n",
       "      <td>31</td>\n",
       "      <td>[Comedy, Music]</td>\n",
       "    </tr>\n",
       "    <tr>\n",
       "      <th>138</th>\n",
       "      <td>Katherine Ryan: Glitter Room</td>\n",
       "      <td>Katherine Ryan: Glitter Room</td>\n",
       "      <td>80238020</td>\n",
       "      <td>DE</td>\n",
       "      <td>3879</td>\n",
       "      <td>3931</td>\n",
       "      <td>1597090169769</td>\n",
       "      <td>1222</td>\n",
       "      <td>2020-08-10</td>\n",
       "      <td>138</td>\n",
       "      <td>80238020</td>\n",
       "      <td>NaN</td>\n",
       "      <td>NaN</td>\n",
       "      <td>NaN</td>\n",
       "      <td>NaN</td>\n",
       "      <td>30</td>\n",
       "      <td>[Comedy]</td>\n",
       "    </tr>\n",
       "    <tr>\n",
       "      <th>140</th>\n",
       "      <td>The Kissing Booth 2</td>\n",
       "      <td>The Kissing Booth 2</td>\n",
       "      <td>81026818</td>\n",
       "      <td>DE</td>\n",
       "      <td>7561</td>\n",
       "      <td>7964</td>\n",
       "      <td>1596373502444</td>\n",
       "      <td>1222</td>\n",
       "      <td>2020-08-02</td>\n",
       "      <td>140</td>\n",
       "      <td>81026818</td>\n",
       "      <td>NaN</td>\n",
       "      <td>NaN</td>\n",
       "      <td>NaN</td>\n",
       "      <td>NaN</td>\n",
       "      <td>42</td>\n",
       "      <td>[Comedy, Romance]</td>\n",
       "    </tr>\n",
       "    <tr>\n",
       "      <th>161</th>\n",
       "      <td>The Terminal</td>\n",
       "      <td>The Terminal</td>\n",
       "      <td>60034584</td>\n",
       "      <td>DE</td>\n",
       "      <td>7315</td>\n",
       "      <td>7778</td>\n",
       "      <td>1595189746924</td>\n",
       "      <td>1222</td>\n",
       "      <td>2020-07-19</td>\n",
       "      <td>161</td>\n",
       "      <td>60034584</td>\n",
       "      <td>NaN</td>\n",
       "      <td>NaN</td>\n",
       "      <td>NaN</td>\n",
       "      <td>NaN</td>\n",
       "      <td>28</td>\n",
       "      <td>[Comedy, Drama, Romance]</td>\n",
       "    </tr>\n",
       "    <tr>\n",
       "      <th>169</th>\n",
       "      <td>The Lovebirds</td>\n",
       "      <td>The Lovebirds</td>\n",
       "      <td>81248748</td>\n",
       "      <td>DE</td>\n",
       "      <td>4883</td>\n",
       "      <td>5233</td>\n",
       "      <td>1594050004205</td>\n",
       "      <td>1222</td>\n",
       "      <td>2020-07-06</td>\n",
       "      <td>169</td>\n",
       "      <td>81248748</td>\n",
       "      <td>NaN</td>\n",
       "      <td>NaN</td>\n",
       "      <td>NaN</td>\n",
       "      <td>NaN</td>\n",
       "      <td>30</td>\n",
       "      <td>[Action, Comedy, Crime, Mystery, Romance, Thri...</td>\n",
       "    </tr>\n",
       "    <tr>\n",
       "      <th>170</th>\n",
       "      <td>Eurovision Song Contest: The Story of Fire Saga</td>\n",
       "      <td>Eurovision Song Contest: The Story of Fire Saga</td>\n",
       "      <td>80244088</td>\n",
       "      <td>DE</td>\n",
       "      <td>6873</td>\n",
       "      <td>7414</td>\n",
       "      <td>1593722459228</td>\n",
       "      <td>1222</td>\n",
       "      <td>2020-07-02</td>\n",
       "      <td>170</td>\n",
       "      <td>80244088</td>\n",
       "      <td>NaN</td>\n",
       "      <td>NaN</td>\n",
       "      <td>NaN</td>\n",
       "      <td>NaN</td>\n",
       "      <td>24</td>\n",
       "      <td>[Comedy, Music]</td>\n",
       "    </tr>\n",
       "    <tr>\n",
       "      <th>172</th>\n",
       "      <td>Athlete A</td>\n",
       "      <td>Athlete A</td>\n",
       "      <td>81034185</td>\n",
       "      <td>DE</td>\n",
       "      <td>6042</td>\n",
       "      <td>6244</td>\n",
       "      <td>1593436928462</td>\n",
       "      <td>1222</td>\n",
       "      <td>2020-06-29</td>\n",
       "      <td>172</td>\n",
       "      <td>81034185</td>\n",
       "      <td>NaN</td>\n",
       "      <td>NaN</td>\n",
       "      <td>NaN</td>\n",
       "      <td>NaN</td>\n",
       "      <td>20</td>\n",
       "      <td>[Documentary, Crime, Sport]</td>\n",
       "    </tr>\n",
       "    <tr>\n",
       "      <th>183</th>\n",
       "      <td>Alive</td>\n",
       "      <td>Alive</td>\n",
       "      <td>60031365</td>\n",
       "      <td>DE</td>\n",
       "      <td>1</td>\n",
       "      <td>7560</td>\n",
       "      <td>1592773834152</td>\n",
       "      <td>1222</td>\n",
       "      <td>2020-06-21</td>\n",
       "      <td>183</td>\n",
       "      <td>60031365</td>\n",
       "      <td>NaN</td>\n",
       "      <td>NaN</td>\n",
       "      <td>NaN</td>\n",
       "      <td>NaN</td>\n",
       "      <td>30</td>\n",
       "      <td>[Biography, Drama, Thriller]</td>\n",
       "    </tr>\n",
       "    <tr>\n",
       "      <th>195</th>\n",
       "      <td>Hannah Gadsby: Nanette</td>\n",
       "      <td>Hannah Gadsby: Nanette</td>\n",
       "      <td>80233611</td>\n",
       "      <td>DE</td>\n",
       "      <td>891</td>\n",
       "      <td>4186</td>\n",
       "      <td>1592081696509</td>\n",
       "      <td>1222</td>\n",
       "      <td>2020-06-13</td>\n",
       "      <td>195</td>\n",
       "      <td>80233611</td>\n",
       "      <td>NaN</td>\n",
       "      <td>NaN</td>\n",
       "      <td>NaN</td>\n",
       "      <td>NaN</td>\n",
       "      <td>40</td>\n",
       "      <td>[Documentary, Comedy]</td>\n",
       "    </tr>\n",
       "    <tr>\n",
       "      <th>206</th>\n",
       "      <td>Zodiac</td>\n",
       "      <td>Zodiac</td>\n",
       "      <td>70044686</td>\n",
       "      <td>DE</td>\n",
       "      <td>9283</td>\n",
       "      <td>9456</td>\n",
       "      <td>1591560914875</td>\n",
       "      <td>1222</td>\n",
       "      <td>2020-06-07</td>\n",
       "      <td>206</td>\n",
       "      <td>70044686</td>\n",
       "      <td>NaN</td>\n",
       "      <td>NaN</td>\n",
       "      <td>NaN</td>\n",
       "      <td>NaN</td>\n",
       "      <td>30</td>\n",
       "      <td>[Crime, Drama, Mystery, Thriller]</td>\n",
       "    </tr>\n",
       "    <tr>\n",
       "      <th>231</th>\n",
       "      <td>Moneyball</td>\n",
       "      <td>Moneyball</td>\n",
       "      <td>70201437</td>\n",
       "      <td>DE</td>\n",
       "      <td>7646</td>\n",
       "      <td>8000</td>\n",
       "      <td>1590181966144</td>\n",
       "      <td>1222</td>\n",
       "      <td>2020-05-22</td>\n",
       "      <td>231</td>\n",
       "      <td>70201437</td>\n",
       "      <td>NaN</td>\n",
       "      <td>NaN</td>\n",
       "      <td>NaN</td>\n",
       "      <td>NaN</td>\n",
       "      <td>14</td>\n",
       "      <td>[Biography, Drama, Sport]</td>\n",
       "    </tr>\n",
       "    <tr>\n",
       "      <th>249</th>\n",
       "      <td>Friends with Benefits</td>\n",
       "      <td>Friends with Benefits</td>\n",
       "      <td>70167075</td>\n",
       "      <td>DE</td>\n",
       "      <td>6178</td>\n",
       "      <td>6566</td>\n",
       "      <td>1589574149385</td>\n",
       "      <td>1222</td>\n",
       "      <td>2020-05-15</td>\n",
       "      <td>249</td>\n",
       "      <td>70167075</td>\n",
       "      <td>NaN</td>\n",
       "      <td>NaN</td>\n",
       "      <td>NaN</td>\n",
       "      <td>NaN</td>\n",
       "      <td>30</td>\n",
       "      <td>[Comedy, Romance]</td>\n",
       "    </tr>\n",
       "    <tr>\n",
       "      <th>250</th>\n",
       "      <td>Becoming</td>\n",
       "      <td>Becoming</td>\n",
       "      <td>81122487</td>\n",
       "      <td>DE</td>\n",
       "      <td>4984</td>\n",
       "      <td>5395</td>\n",
       "      <td>1589144719816</td>\n",
       "      <td>1222</td>\n",
       "      <td>2020-05-10</td>\n",
       "      <td>250</td>\n",
       "      <td>81122487</td>\n",
       "      <td>NaN</td>\n",
       "      <td>NaN</td>\n",
       "      <td>NaN</td>\n",
       "      <td>NaN</td>\n",
       "      <td>28</td>\n",
       "      <td>[Drama, Horror, Sci-Fi, Thriller]</td>\n",
       "    </tr>\n",
       "    <tr>\n",
       "      <th>261</th>\n",
       "      <td>Circus of Books</td>\n",
       "      <td>Circus of Books</td>\n",
       "      <td>81011569</td>\n",
       "      <td>DE</td>\n",
       "      <td>3954</td>\n",
       "      <td>5191</td>\n",
       "      <td>1587760106213</td>\n",
       "      <td>1222</td>\n",
       "      <td>2020-04-24</td>\n",
       "      <td>261</td>\n",
       "      <td>81011569</td>\n",
       "      <td>NaN</td>\n",
       "      <td>NaN</td>\n",
       "      <td>NaN</td>\n",
       "      <td>NaN</td>\n",
       "      <td>30</td>\n",
       "      <td>[Documentary, Biography]</td>\n",
       "    </tr>\n",
       "    <tr>\n",
       "      <th>289</th>\n",
       "      <td>Chris D'Elia: No Pain</td>\n",
       "      <td>Chris D'Elia: No Pain</td>\n",
       "      <td>81036229</td>\n",
       "      <td>DE</td>\n",
       "      <td>191</td>\n",
       "      <td>3312</td>\n",
       "      <td>1586981158694</td>\n",
       "      <td>1222</td>\n",
       "      <td>2020-04-15</td>\n",
       "      <td>289</td>\n",
       "      <td>81036229</td>\n",
       "      <td>NaN</td>\n",
       "      <td>NaN</td>\n",
       "      <td>NaN</td>\n",
       "      <td>NaN</td>\n",
       "      <td>18</td>\n",
       "      <td>[Comedy]</td>\n",
       "    </tr>\n",
       "    <tr>\n",
       "      <th>299</th>\n",
       "      <td>Howl’s Moving Castle</td>\n",
       "      <td>Howl’s Moving Castle</td>\n",
       "      <td>70028883</td>\n",
       "      <td>DE</td>\n",
       "      <td>6916</td>\n",
       "      <td>7193</td>\n",
       "      <td>1586547370087</td>\n",
       "      <td>1222</td>\n",
       "      <td>2020-04-10</td>\n",
       "      <td>299</td>\n",
       "      <td>70028883</td>\n",
       "      <td>NaN</td>\n",
       "      <td>NaN</td>\n",
       "      <td>NaN</td>\n",
       "      <td>NaN</td>\n",
       "      <td>41</td>\n",
       "      <td>[Animation, Adventure, Family, Fantasy]</td>\n",
       "    </tr>\n",
       "    <tr>\n",
       "      <th>300</th>\n",
       "      <td>Horse Girl</td>\n",
       "      <td>Horse Girl</td>\n",
       "      <td>81060149</td>\n",
       "      <td>DE</td>\n",
       "      <td>744</td>\n",
       "      <td>6248</td>\n",
       "      <td>1586544558996</td>\n",
       "      <td>1222</td>\n",
       "      <td>2020-04-10</td>\n",
       "      <td>300</td>\n",
       "      <td>81060149</td>\n",
       "      <td>NaN</td>\n",
       "      <td>NaN</td>\n",
       "      <td>NaN</td>\n",
       "      <td>NaN</td>\n",
       "      <td>24</td>\n",
       "      <td>[Drama, Mystery, Thriller]</td>\n",
       "    </tr>\n",
       "    <tr>\n",
       "      <th>304</th>\n",
       "      <td>Tom Segura: Mostly Stories</td>\n",
       "      <td>Tom Segura: Mostly Stories</td>\n",
       "      <td>80077923</td>\n",
       "      <td>DE</td>\n",
       "      <td>4367</td>\n",
       "      <td>4435</td>\n",
       "      <td>1586457636961</td>\n",
       "      <td>1222</td>\n",
       "      <td>2020-04-09</td>\n",
       "      <td>304</td>\n",
       "      <td>80077923</td>\n",
       "      <td>NaN</td>\n",
       "      <td>NaN</td>\n",
       "      <td>NaN</td>\n",
       "      <td>NaN</td>\n",
       "      <td>30</td>\n",
       "      <td>[Comedy]</td>\n",
       "    </tr>\n",
       "    <tr>\n",
       "      <th>314</th>\n",
       "      <td>Tom Segura: Disgraceful</td>\n",
       "      <td>Tom Segura: Disgraceful</td>\n",
       "      <td>80187307</td>\n",
       "      <td>DE</td>\n",
       "      <td>4197</td>\n",
       "      <td>4268</td>\n",
       "      <td>1586033661773</td>\n",
       "      <td>1222</td>\n",
       "      <td>2020-04-04</td>\n",
       "      <td>314</td>\n",
       "      <td>80187307</td>\n",
       "      <td>NaN</td>\n",
       "      <td>NaN</td>\n",
       "      <td>NaN</td>\n",
       "      <td>NaN</td>\n",
       "      <td>30</td>\n",
       "      <td>[Documentary, Comedy]</td>\n",
       "    </tr>\n",
       "    <tr>\n",
       "      <th>315</th>\n",
       "      <td>Tom Segura: Ball Hog</td>\n",
       "      <td>Tom Segura: Ball Hog</td>\n",
       "      <td>81143584</td>\n",
       "      <td>DE</td>\n",
       "      <td>2748</td>\n",
       "      <td>4215</td>\n",
       "      <td>1586026717924</td>\n",
       "      <td>1222</td>\n",
       "      <td>2020-04-04</td>\n",
       "      <td>315</td>\n",
       "      <td>81143584</td>\n",
       "      <td>NaN</td>\n",
       "      <td>NaN</td>\n",
       "      <td>NaN</td>\n",
       "      <td>NaN</td>\n",
       "      <td>30</td>\n",
       "      <td>[Comedy]</td>\n",
       "    </tr>\n",
       "    <tr>\n",
       "      <th>321</th>\n",
       "      <td>IO</td>\n",
       "      <td>IO</td>\n",
       "      <td>80134721</td>\n",
       "      <td>DE</td>\n",
       "      <td>5402</td>\n",
       "      <td>5762</td>\n",
       "      <td>1585602706079</td>\n",
       "      <td>1222</td>\n",
       "      <td>2020-03-30</td>\n",
       "      <td>321</td>\n",
       "      <td>80134721</td>\n",
       "      <td>NaN</td>\n",
       "      <td>NaN</td>\n",
       "      <td>NaN</td>\n",
       "      <td>NaN</td>\n",
       "      <td>19</td>\n",
       "      <td>[Action, Crime, Sci-Fi, Thriller, Western]</td>\n",
       "    </tr>\n",
       "    <tr>\n",
       "      <th>322</th>\n",
       "      <td>Pedal the World</td>\n",
       "      <td>Pedal the World</td>\n",
       "      <td>80245626</td>\n",
       "      <td>DE</td>\n",
       "      <td>789</td>\n",
       "      <td>5090</td>\n",
       "      <td>1585518269739</td>\n",
       "      <td>1222</td>\n",
       "      <td>2020-03-29</td>\n",
       "      <td>322</td>\n",
       "      <td>80245626</td>\n",
       "      <td>NaN</td>\n",
       "      <td>NaN</td>\n",
       "      <td>NaN</td>\n",
       "      <td>NaN</td>\n",
       "      <td>30</td>\n",
       "      <td>[Documentary]</td>\n",
       "    </tr>\n",
       "    <tr>\n",
       "      <th>330</th>\n",
       "      <td>The Platform</td>\n",
       "      <td>The Platform</td>\n",
       "      <td>81128579</td>\n",
       "      <td>DE</td>\n",
       "      <td>1</td>\n",
       "      <td>5690</td>\n",
       "      <td>1585087332201</td>\n",
       "      <td>1222</td>\n",
       "      <td>2020-03-24</td>\n",
       "      <td>330</td>\n",
       "      <td>81128579</td>\n",
       "      <td>NaN</td>\n",
       "      <td>NaN</td>\n",
       "      <td>NaN</td>\n",
       "      <td>NaN</td>\n",
       "      <td>31</td>\n",
       "      <td>[Horror, Sci-Fi, Thriller]</td>\n",
       "    </tr>\n",
       "    <tr>\n",
       "      <th>332</th>\n",
       "      <td>Taylor Tomlinson: Quarter-Life Crisis</td>\n",
       "      <td>Taylor Tomlinson: Quarter-Life Crisis</td>\n",
       "      <td>81157965</td>\n",
       "      <td>DE</td>\n",
       "      <td>3610</td>\n",
       "      <td>3667</td>\n",
       "      <td>1584740918707</td>\n",
       "      <td>1222</td>\n",
       "      <td>2020-03-20</td>\n",
       "      <td>332</td>\n",
       "      <td>81157965</td>\n",
       "      <td>NaN</td>\n",
       "      <td>NaN</td>\n",
       "      <td>NaN</td>\n",
       "      <td>NaN</td>\n",
       "      <td>30</td>\n",
       "      <td>[Comedy]</td>\n",
       "    </tr>\n",
       "    <tr>\n",
       "      <th>336</th>\n",
       "      <td>Spenser Confidential</td>\n",
       "      <td>Spenser Confidential</td>\n",
       "      <td>81005492</td>\n",
       "      <td>DE</td>\n",
       "      <td>6269</td>\n",
       "      <td>6670</td>\n",
       "      <td>1584300252952</td>\n",
       "      <td>1222</td>\n",
       "      <td>2020-03-15</td>\n",
       "      <td>336</td>\n",
       "      <td>81005492</td>\n",
       "      <td>NaN</td>\n",
       "      <td>NaN</td>\n",
       "      <td>NaN</td>\n",
       "      <td>NaN</td>\n",
       "      <td>45</td>\n",
       "      <td>[Action, Comedy, Crime, Drama, Mystery, Thriller]</td>\n",
       "    </tr>\n",
       "    <tr>\n",
       "      <th>340</th>\n",
       "      <td>All The Bright Places</td>\n",
       "      <td>All The Bright Places</td>\n",
       "      <td>80208802</td>\n",
       "      <td>DE</td>\n",
       "      <td>606</td>\n",
       "      <td>6514</td>\n",
       "      <td>1583937431344</td>\n",
       "      <td>1222</td>\n",
       "      <td>2020-03-11</td>\n",
       "      <td>340</td>\n",
       "      <td>80208802</td>\n",
       "      <td>NaN</td>\n",
       "      <td>NaN</td>\n",
       "      <td>NaN</td>\n",
       "      <td>NaN</td>\n",
       "      <td>28</td>\n",
       "      <td>[Drama, Romance]</td>\n",
       "    </tr>\n",
       "    <tr>\n",
       "      <th>341</th>\n",
       "      <td>Scott Pilgrim vs. the World</td>\n",
       "      <td>Scott Pilgrim vs. the World</td>\n",
       "      <td>70117312</td>\n",
       "      <td>DE</td>\n",
       "      <td>40</td>\n",
       "      <td>6730</td>\n",
       "      <td>1583708416813</td>\n",
       "      <td>1222</td>\n",
       "      <td>2020-03-09</td>\n",
       "      <td>341</td>\n",
       "      <td>70117312</td>\n",
       "      <td>NaN</td>\n",
       "      <td>NaN</td>\n",
       "      <td>NaN</td>\n",
       "      <td>NaN</td>\n",
       "      <td>41</td>\n",
       "      <td>[Action, Comedy, Fantasy, Romance]</td>\n",
       "    </tr>\n",
       "    <tr>\n",
       "      <th>342</th>\n",
       "      <td>In Bruges</td>\n",
       "      <td>In Bruges</td>\n",
       "      <td>70083111</td>\n",
       "      <td>DE</td>\n",
       "      <td>16</td>\n",
       "      <td>6150</td>\n",
       "      <td>1583708265746</td>\n",
       "      <td>1222</td>\n",
       "      <td>2020-03-08</td>\n",
       "      <td>342</td>\n",
       "      <td>70083111</td>\n",
       "      <td>NaN</td>\n",
       "      <td>NaN</td>\n",
       "      <td>NaN</td>\n",
       "      <td>NaN</td>\n",
       "      <td>33</td>\n",
       "      <td>[Comedy, Crime, Drama, Thriller]</td>\n",
       "    </tr>\n",
       "    <tr>\n",
       "      <th>349</th>\n",
       "      <td>Pete Davidson: Alive From New York</td>\n",
       "      <td>Pete Davidson: Alive From New York</td>\n",
       "      <td>81073637</td>\n",
       "      <td>GE</td>\n",
       "      <td>2942</td>\n",
       "      <td>2976</td>\n",
       "      <td>1582977379281</td>\n",
       "      <td>1803</td>\n",
       "      <td>2020-02-29</td>\n",
       "      <td>349</td>\n",
       "      <td>81073637</td>\n",
       "      <td>NaN</td>\n",
       "      <td>NaN</td>\n",
       "      <td>NaN</td>\n",
       "      <td>NaN</td>\n",
       "      <td>30</td>\n",
       "      <td>[Comedy]</td>\n",
       "    </tr>\n",
       "    <tr>\n",
       "      <th>355</th>\n",
       "      <td>Between Two Ferns: The Movie</td>\n",
       "      <td>Between Two Ferns: The Movie</td>\n",
       "      <td>80243600</td>\n",
       "      <td>DE</td>\n",
       "      <td>4542</td>\n",
       "      <td>4966</td>\n",
       "      <td>1582466552075</td>\n",
       "      <td>1222</td>\n",
       "      <td>2020-02-23</td>\n",
       "      <td>355</td>\n",
       "      <td>80243600</td>\n",
       "      <td>NaN</td>\n",
       "      <td>NaN</td>\n",
       "      <td>NaN</td>\n",
       "      <td>NaN</td>\n",
       "      <td>30</td>\n",
       "      <td>[Comedy]</td>\n",
       "    </tr>\n",
       "    <tr>\n",
       "      <th>359</th>\n",
       "      <td>Snowpiercer</td>\n",
       "      <td>Snowpiercer</td>\n",
       "      <td>70270364</td>\n",
       "      <td>DE</td>\n",
       "      <td>7251</td>\n",
       "      <td>7570</td>\n",
       "      <td>1582234668787</td>\n",
       "      <td>1222</td>\n",
       "      <td>2020-02-20</td>\n",
       "      <td>359</td>\n",
       "      <td>70270364</td>\n",
       "      <td>NaN</td>\n",
       "      <td>NaN</td>\n",
       "      <td>NaN</td>\n",
       "      <td>NaN</td>\n",
       "      <td>20</td>\n",
       "      <td>[Action, Drama, Sci-Fi, Thriller]</td>\n",
       "    </tr>\n",
       "    <tr>\n",
       "      <th>362</th>\n",
       "      <td>To All the Boys: P.S. I Still Love You</td>\n",
       "      <td>To All the Boys: P.S. I Still Love You</td>\n",
       "      <td>81030842</td>\n",
       "      <td>DE</td>\n",
       "      <td>5770</td>\n",
       "      <td>6128</td>\n",
       "      <td>1581763665520</td>\n",
       "      <td>1222</td>\n",
       "      <td>2020-02-15</td>\n",
       "      <td>362</td>\n",
       "      <td>81030842</td>\n",
       "      <td>NaN</td>\n",
       "      <td>NaN</td>\n",
       "      <td>NaN</td>\n",
       "      <td>NaN</td>\n",
       "      <td>31</td>\n",
       "      <td>[Comedy, Drama, Romance]</td>\n",
       "    </tr>\n",
       "    <tr>\n",
       "      <th>363</th>\n",
       "      <td>Geostorm</td>\n",
       "      <td>Geostorm</td>\n",
       "      <td>80185871</td>\n",
       "      <td>DE</td>\n",
       "      <td>6137</td>\n",
       "      <td>6543</td>\n",
       "      <td>1581455392948</td>\n",
       "      <td>1222</td>\n",
       "      <td>2020-02-11</td>\n",
       "      <td>363</td>\n",
       "      <td>80185871</td>\n",
       "      <td>NaN</td>\n",
       "      <td>NaN</td>\n",
       "      <td>NaN</td>\n",
       "      <td>NaN</td>\n",
       "      <td>30</td>\n",
       "      <td>[Action, Sci-Fi, Thriller]</td>\n",
       "    </tr>\n",
       "    <tr>\n",
       "      <th>388</th>\n",
       "      <td>28 Weeks Later</td>\n",
       "      <td>28 Weeks Later</td>\n",
       "      <td>70058018</td>\n",
       "      <td>DE</td>\n",
       "      <td>5628</td>\n",
       "      <td>6005</td>\n",
       "      <td>1580851558113</td>\n",
       "      <td>1222</td>\n",
       "      <td>2020-02-04</td>\n",
       "      <td>388</td>\n",
       "      <td>70058018</td>\n",
       "      <td>NaN</td>\n",
       "      <td>NaN</td>\n",
       "      <td>NaN</td>\n",
       "      <td>NaN</td>\n",
       "      <td>24</td>\n",
       "      <td>[Action, Horror, Sci-Fi]</td>\n",
       "    </tr>\n",
       "    <tr>\n",
       "      <th>394</th>\n",
       "      <td>28 Days Later</td>\n",
       "      <td>28 Days Later</td>\n",
       "      <td>60027998</td>\n",
       "      <td>DE</td>\n",
       "      <td>6508</td>\n",
       "      <td>6792</td>\n",
       "      <td>1580765130102</td>\n",
       "      <td>1222</td>\n",
       "      <td>2020-02-03</td>\n",
       "      <td>394</td>\n",
       "      <td>60027998</td>\n",
       "      <td>NaN</td>\n",
       "      <td>NaN</td>\n",
       "      <td>NaN</td>\n",
       "      <td>NaN</td>\n",
       "      <td>25</td>\n",
       "      <td>[Drama, Horror, Sci-Fi, Thriller]</td>\n",
       "    </tr>\n",
       "    <tr>\n",
       "      <th>403</th>\n",
       "      <td>Uncut Gems</td>\n",
       "      <td>Uncut Gems</td>\n",
       "      <td>80990663</td>\n",
       "      <td>DE</td>\n",
       "      <td>7790</td>\n",
       "      <td>8148</td>\n",
       "      <td>1580573814978</td>\n",
       "      <td>1222</td>\n",
       "      <td>2020-02-01</td>\n",
       "      <td>403</td>\n",
       "      <td>80990663</td>\n",
       "      <td>NaN</td>\n",
       "      <td>NaN</td>\n",
       "      <td>NaN</td>\n",
       "      <td>NaN</td>\n",
       "      <td>22</td>\n",
       "      <td>[Crime, Drama, Thriller]</td>\n",
       "    </tr>\n",
       "    <tr>\n",
       "      <th>423</th>\n",
       "      <td>Whitney</td>\n",
       "      <td>Whitney</td>\n",
       "      <td>80987652</td>\n",
       "      <td>DE</td>\n",
       "      <td>924</td>\n",
       "      <td>7140</td>\n",
       "      <td>1579211299324</td>\n",
       "      <td>1222</td>\n",
       "      <td>2020-01-16</td>\n",
       "      <td>423</td>\n",
       "      <td>80987652</td>\n",
       "      <td>NaN</td>\n",
       "      <td>NaN</td>\n",
       "      <td>NaN</td>\n",
       "      <td>NaN</td>\n",
       "      <td>30</td>\n",
       "      <td>[Comedy]</td>\n",
       "    </tr>\n",
       "    <tr>\n",
       "      <th>430</th>\n",
       "      <td>I Lost My Body</td>\n",
       "      <td>I Lost My Body</td>\n",
       "      <td>81120982</td>\n",
       "      <td>DE</td>\n",
       "      <td>4650</td>\n",
       "      <td>4874</td>\n",
       "      <td>1578690425937</td>\n",
       "      <td>1222</td>\n",
       "      <td>2020-01-10</td>\n",
       "      <td>430</td>\n",
       "      <td>81120982</td>\n",
       "      <td>NaN</td>\n",
       "      <td>NaN</td>\n",
       "      <td>NaN</td>\n",
       "      <td>NaN</td>\n",
       "      <td>30</td>\n",
       "      <td>[Animation, Drama, Fantasy, Romance]</td>\n",
       "    </tr>\n",
       "  </tbody>\n",
       "</table>\n",
       "</div>"
      ],
      "text/plain": [
       "                                               title  \\\n",
       "5                                        War Machine   \n",
       "6                                              Seven   \n",
       "40                                             Borat   \n",
       "42                                           Rebecca   \n",
       "49                        The Trial of the Chicago 7   \n",
       "70                            The Devil All The Time   \n",
       "77                                      Enola Holmes   \n",
       "99                     I'm Thinking of Ending Things   \n",
       "101                                    Project Power   \n",
       "102                               The Social Dilemma   \n",
       "118                                      Da 5 Bloods   \n",
       "132                                        Searching   \n",
       "133                                          Work It   \n",
       "138                     Katherine Ryan: Glitter Room   \n",
       "140                              The Kissing Booth 2   \n",
       "161                                     The Terminal   \n",
       "169                                    The Lovebirds   \n",
       "170  Eurovision Song Contest: The Story of Fire Saga   \n",
       "172                                        Athlete A   \n",
       "183                                            Alive   \n",
       "195                           Hannah Gadsby: Nanette   \n",
       "206                                           Zodiac   \n",
       "231                                        Moneyball   \n",
       "249                            Friends with Benefits   \n",
       "250                                         Becoming   \n",
       "261                                  Circus of Books   \n",
       "289                            Chris D'Elia: No Pain   \n",
       "299                             Howl’s Moving Castle   \n",
       "300                                       Horse Girl   \n",
       "304                       Tom Segura: Mostly Stories   \n",
       "314                          Tom Segura: Disgraceful   \n",
       "315                             Tom Segura: Ball Hog   \n",
       "321                                               IO   \n",
       "322                                  Pedal the World   \n",
       "330                                     The Platform   \n",
       "332            Taylor Tomlinson: Quarter-Life Crisis   \n",
       "336                             Spenser Confidential   \n",
       "340                            All The Bright Places   \n",
       "341                      Scott Pilgrim vs. the World   \n",
       "342                                        In Bruges   \n",
       "349               Pete Davidson: Alive From New York   \n",
       "355                     Between Two Ferns: The Movie   \n",
       "359                                      Snowpiercer   \n",
       "362           To All the Boys: P.S. I Still Love You   \n",
       "363                                         Geostorm   \n",
       "388                                   28 Weeks Later   \n",
       "394                                    28 Days Later   \n",
       "403                                       Uncut Gems   \n",
       "423                                          Whitney   \n",
       "430                                   I Lost My Body   \n",
       "\n",
       "                                          videoTitle   movieID country  \\\n",
       "5                                        War Machine  80068327      RU   \n",
       "6                                              Seven    950149      DE   \n",
       "40                                             Borat  70050506      DE   \n",
       "42                                           Rebecca  81002196      DE   \n",
       "49                        The Trial of the Chicago 7  81043755      DE   \n",
       "70                            The Devil All The Time  81028870      DE   \n",
       "77                                      Enola Holmes  81277950      DE   \n",
       "99                     I'm Thinking of Ending Things  80211559      RU   \n",
       "101                                    Project Power  80204465      RU   \n",
       "102                               The Social Dilemma  81254224      DE   \n",
       "118                                      Da 5 Bloods  81045635      DE   \n",
       "132                                        Searching  81053209      DE   \n",
       "133                                          Work It  81132038      DE   \n",
       "138                     Katherine Ryan: Glitter Room  80238020      DE   \n",
       "140                              The Kissing Booth 2  81026818      DE   \n",
       "161                                     The Terminal  60034584      DE   \n",
       "169                                    The Lovebirds  81248748      DE   \n",
       "170  Eurovision Song Contest: The Story of Fire Saga  80244088      DE   \n",
       "172                                        Athlete A  81034185      DE   \n",
       "183                                            Alive  60031365      DE   \n",
       "195                           Hannah Gadsby: Nanette  80233611      DE   \n",
       "206                                           Zodiac  70044686      DE   \n",
       "231                                        Moneyball  70201437      DE   \n",
       "249                            Friends with Benefits  70167075      DE   \n",
       "250                                         Becoming  81122487      DE   \n",
       "261                                  Circus of Books  81011569      DE   \n",
       "289                            Chris D'Elia: No Pain  81036229      DE   \n",
       "299                             Howl’s Moving Castle  70028883      DE   \n",
       "300                                       Horse Girl  81060149      DE   \n",
       "304                       Tom Segura: Mostly Stories  80077923      DE   \n",
       "314                          Tom Segura: Disgraceful  80187307      DE   \n",
       "315                             Tom Segura: Ball Hog  81143584      DE   \n",
       "321                                               IO  80134721      DE   \n",
       "322                                  Pedal the World  80245626      DE   \n",
       "330                                     The Platform  81128579      DE   \n",
       "332            Taylor Tomlinson: Quarter-Life Crisis  81157965      DE   \n",
       "336                             Spenser Confidential  81005492      DE   \n",
       "340                            All The Bright Places  80208802      DE   \n",
       "341                      Scott Pilgrim vs. the World  70117312      DE   \n",
       "342                                        In Bruges  70083111      DE   \n",
       "349               Pete Davidson: Alive From New York  81073637      GE   \n",
       "355                     Between Two Ferns: The Movie  80243600      DE   \n",
       "359                                      Snowpiercer  70270364      DE   \n",
       "362           To All the Boys: P.S. I Still Love You  81030842      DE   \n",
       "363                                         Geostorm  80185871      DE   \n",
       "388                                   28 Weeks Later  70058018      DE   \n",
       "394                                    28 Days Later  60027998      DE   \n",
       "403                                       Uncut Gems  80990663      DE   \n",
       "423                                          Whitney  80987652      DE   \n",
       "430                                   I Lost My Body  81120982      DE   \n",
       "\n",
       "     bookmark  duration           date  deviceType    dateStr  index  \\\n",
       "5        6917      7366  1606502807717        1812 2020-11-27      5   \n",
       "6        7211      7606  1606435371733        1222 2020-11-27      6   \n",
       "40       4570      5022  1604090699825        1222 2020-10-30     40   \n",
       "42       6911      7382  1603978360467        1222 2020-10-29     42   \n",
       "49       7324      7810  1603402234586        1222 2020-10-22     49   \n",
       "70       4215      8332  1602528581684        1222 2020-10-12     70   \n",
       "77       7028      7434  1601929857006        1222 2020-10-05     77   \n",
       "99       1312      8086  1600304117473        1222 2020-09-17     99   \n",
       "101      2845      6796  1599850364263        1222 2020-09-11    101   \n",
       "102      5598      5676  1599653741573        1222 2020-09-09    102   \n",
       "118      1461      9352  1598903621834        1222 2020-08-31    118   \n",
       "132      5881      6141  1598045718259        1222 2020-08-21    132   \n",
       "133      5265      5626  1597931481706        1222 2020-08-20    133   \n",
       "138      3879      3931  1597090169769        1222 2020-08-10    138   \n",
       "140      7561      7964  1596373502444        1222 2020-08-02    140   \n",
       "161      7315      7778  1595189746924        1222 2020-07-19    161   \n",
       "169      4883      5233  1594050004205        1222 2020-07-06    169   \n",
       "170      6873      7414  1593722459228        1222 2020-07-02    170   \n",
       "172      6042      6244  1593436928462        1222 2020-06-29    172   \n",
       "183         1      7560  1592773834152        1222 2020-06-21    183   \n",
       "195       891      4186  1592081696509        1222 2020-06-13    195   \n",
       "206      9283      9456  1591560914875        1222 2020-06-07    206   \n",
       "231      7646      8000  1590181966144        1222 2020-05-22    231   \n",
       "249      6178      6566  1589574149385        1222 2020-05-15    249   \n",
       "250      4984      5395  1589144719816        1222 2020-05-10    250   \n",
       "261      3954      5191  1587760106213        1222 2020-04-24    261   \n",
       "289       191      3312  1586981158694        1222 2020-04-15    289   \n",
       "299      6916      7193  1586547370087        1222 2020-04-10    299   \n",
       "300       744      6248  1586544558996        1222 2020-04-10    300   \n",
       "304      4367      4435  1586457636961        1222 2020-04-09    304   \n",
       "314      4197      4268  1586033661773        1222 2020-04-04    314   \n",
       "315      2748      4215  1586026717924        1222 2020-04-04    315   \n",
       "321      5402      5762  1585602706079        1222 2020-03-30    321   \n",
       "322       789      5090  1585518269739        1222 2020-03-29    322   \n",
       "330         1      5690  1585087332201        1222 2020-03-24    330   \n",
       "332      3610      3667  1584740918707        1222 2020-03-20    332   \n",
       "336      6269      6670  1584300252952        1222 2020-03-15    336   \n",
       "340       606      6514  1583937431344        1222 2020-03-11    340   \n",
       "341        40      6730  1583708416813        1222 2020-03-09    341   \n",
       "342        16      6150  1583708265746        1222 2020-03-08    342   \n",
       "349      2942      2976  1582977379281        1803 2020-02-29    349   \n",
       "355      4542      4966  1582466552075        1222 2020-02-23    355   \n",
       "359      7251      7570  1582234668787        1222 2020-02-20    359   \n",
       "362      5770      6128  1581763665520        1222 2020-02-15    362   \n",
       "363      6137      6543  1581455392948        1222 2020-02-11    363   \n",
       "388      5628      6005  1580851558113        1222 2020-02-04    388   \n",
       "394      6508      6792  1580765130102        1222 2020-02-03    394   \n",
       "403      7790      8148  1580573814978        1222 2020-02-01    403   \n",
       "423       924      7140  1579211299324        1222 2020-01-16    423   \n",
       "430      4650      4874  1578690425937        1222 2020-01-10    430   \n",
       "\n",
       "     topNodeId  series seriesTitle seasonDescriptor episodeTitle  estRating  \\\n",
       "5     80068327     NaN         NaN              NaN          NaN         15   \n",
       "6       950149     NaN         NaN              NaN          NaN         29   \n",
       "40    70050506     NaN         NaN              NaN          NaN         27   \n",
       "42    81002196     NaN         NaN              NaN          NaN         28   \n",
       "49    81043755     NaN         NaN              NaN          NaN         29   \n",
       "70    81028870     NaN         NaN              NaN          NaN         22   \n",
       "77    81277950     NaN         NaN              NaN          NaN         42   \n",
       "99    80211559     NaN         NaN              NaN          NaN         16   \n",
       "101   80204465     NaN         NaN              NaN          NaN         16   \n",
       "102   81254224     NaN         NaN              NaN          NaN         38   \n",
       "118   81045635     NaN         NaN              NaN          NaN         30   \n",
       "132   81053209     NaN         NaN              NaN          NaN         22   \n",
       "133   81132038     NaN         NaN              NaN          NaN         31   \n",
       "138   80238020     NaN         NaN              NaN          NaN         30   \n",
       "140   81026818     NaN         NaN              NaN          NaN         42   \n",
       "161   60034584     NaN         NaN              NaN          NaN         28   \n",
       "169   81248748     NaN         NaN              NaN          NaN         30   \n",
       "170   80244088     NaN         NaN              NaN          NaN         24   \n",
       "172   81034185     NaN         NaN              NaN          NaN         20   \n",
       "183   60031365     NaN         NaN              NaN          NaN         30   \n",
       "195   80233611     NaN         NaN              NaN          NaN         40   \n",
       "206   70044686     NaN         NaN              NaN          NaN         30   \n",
       "231   70201437     NaN         NaN              NaN          NaN         14   \n",
       "249   70167075     NaN         NaN              NaN          NaN         30   \n",
       "250   81122487     NaN         NaN              NaN          NaN         28   \n",
       "261   81011569     NaN         NaN              NaN          NaN         30   \n",
       "289   81036229     NaN         NaN              NaN          NaN         18   \n",
       "299   70028883     NaN         NaN              NaN          NaN         41   \n",
       "300   81060149     NaN         NaN              NaN          NaN         24   \n",
       "304   80077923     NaN         NaN              NaN          NaN         30   \n",
       "314   80187307     NaN         NaN              NaN          NaN         30   \n",
       "315   81143584     NaN         NaN              NaN          NaN         30   \n",
       "321   80134721     NaN         NaN              NaN          NaN         19   \n",
       "322   80245626     NaN         NaN              NaN          NaN         30   \n",
       "330   81128579     NaN         NaN              NaN          NaN         31   \n",
       "332   81157965     NaN         NaN              NaN          NaN         30   \n",
       "336   81005492     NaN         NaN              NaN          NaN         45   \n",
       "340   80208802     NaN         NaN              NaN          NaN         28   \n",
       "341   70117312     NaN         NaN              NaN          NaN         41   \n",
       "342   70083111     NaN         NaN              NaN          NaN         33   \n",
       "349   81073637     NaN         NaN              NaN          NaN         30   \n",
       "355   80243600     NaN         NaN              NaN          NaN         30   \n",
       "359   70270364     NaN         NaN              NaN          NaN         20   \n",
       "362   81030842     NaN         NaN              NaN          NaN         31   \n",
       "363   80185871     NaN         NaN              NaN          NaN         30   \n",
       "388   70058018     NaN         NaN              NaN          NaN         24   \n",
       "394   60027998     NaN         NaN              NaN          NaN         25   \n",
       "403   80990663     NaN         NaN              NaN          NaN         22   \n",
       "423   80987652     NaN         NaN              NaN          NaN         30   \n",
       "430   81120982     NaN         NaN              NaN          NaN         30   \n",
       "\n",
       "                                                genres  \n",
       "5                                 [Comedy, Drama, War]  \n",
       "6                    [Crime, Drama, Mystery, Thriller]  \n",
       "40                                            [Comedy]  \n",
       "42                 [Drama, Mystery, Romance, Thriller]  \n",
       "49                          [Drama, History, Thriller]  \n",
       "70                            [Crime, Drama, Thriller]  \n",
       "77          [Action, Adventure, Crime, Drama, Mystery]  \n",
       "99                                   [Drama, Thriller]  \n",
       "101                  [Action, Crime, Sci-Fi, Thriller]  \n",
       "102                               [Documentary, Drama]  \n",
       "118                            [Adventure, Drama, War]  \n",
       "132                         [Drama, Mystery, Thriller]  \n",
       "133                                    [Comedy, Music]  \n",
       "138                                           [Comedy]  \n",
       "140                                  [Comedy, Romance]  \n",
       "161                           [Comedy, Drama, Romance]  \n",
       "169  [Action, Comedy, Crime, Mystery, Romance, Thri...  \n",
       "170                                    [Comedy, Music]  \n",
       "172                        [Documentary, Crime, Sport]  \n",
       "183                       [Biography, Drama, Thriller]  \n",
       "195                              [Documentary, Comedy]  \n",
       "206                  [Crime, Drama, Mystery, Thriller]  \n",
       "231                          [Biography, Drama, Sport]  \n",
       "249                                  [Comedy, Romance]  \n",
       "250                  [Drama, Horror, Sci-Fi, Thriller]  \n",
       "261                           [Documentary, Biography]  \n",
       "289                                           [Comedy]  \n",
       "299            [Animation, Adventure, Family, Fantasy]  \n",
       "300                         [Drama, Mystery, Thriller]  \n",
       "304                                           [Comedy]  \n",
       "314                              [Documentary, Comedy]  \n",
       "315                                           [Comedy]  \n",
       "321         [Action, Crime, Sci-Fi, Thriller, Western]  \n",
       "322                                      [Documentary]  \n",
       "330                         [Horror, Sci-Fi, Thriller]  \n",
       "332                                           [Comedy]  \n",
       "336  [Action, Comedy, Crime, Drama, Mystery, Thriller]  \n",
       "340                                   [Drama, Romance]  \n",
       "341                 [Action, Comedy, Fantasy, Romance]  \n",
       "342                   [Comedy, Crime, Drama, Thriller]  \n",
       "349                                           [Comedy]  \n",
       "355                                           [Comedy]  \n",
       "359                  [Action, Drama, Sci-Fi, Thriller]  \n",
       "362                           [Comedy, Drama, Romance]  \n",
       "363                         [Action, Sci-Fi, Thriller]  \n",
       "388                           [Action, Horror, Sci-Fi]  \n",
       "394                  [Drama, Horror, Sci-Fi, Thriller]  \n",
       "403                           [Crime, Drama, Thriller]  \n",
       "423                                           [Comedy]  \n",
       "430               [Animation, Drama, Fantasy, Romance]  "
      ]
     },
     "execution_count": 15,
     "metadata": {},
     "output_type": "execute_result"
    }
   ],
   "source": [
    "movies_2020"
   ]
  },
  {
   "cell_type": "code",
   "execution_count": 16,
   "metadata": {},
   "outputs": [
    {
     "data": {
      "text/plain": [
       "['Animation', 'Drama', 'Fantasy', 'Romance']"
      ]
     },
     "execution_count": 16,
     "metadata": {},
     "output_type": "execute_result"
    }
   ],
   "source": [
    "import imdb\n",
    "ia = imdb.IMDb()\n",
    "movies = ia.search_movie('I Lost My Body')\n",
    "_id = movies[0].movieID\n",
    "movie = ia.get_movie(_id)\n",
    "movie['genres']"
   ]
  },
  {
   "cell_type": "code",
   "execution_count": 17,
   "metadata": {},
   "outputs": [
    {
     "data": {
      "text/plain": [
       "{'Action': 9,\n",
       " 'Adventure': 3,\n",
       " 'Animation': 2,\n",
       " 'Biography': 3,\n",
       " 'Comedy': 22,\n",
       " 'Crime': 11,\n",
       " 'Documentary': 6,\n",
       " 'Drama': 24,\n",
       " 'Family': 1,\n",
       " 'Fantasy': 3,\n",
       " 'History': 1,\n",
       " 'Horror': 4,\n",
       " 'Music': 2,\n",
       " 'Mystery': 8,\n",
       " 'Romance': 9,\n",
       " 'Sci-Fi': 8,\n",
       " 'Sport': 2,\n",
       " 'Thriller': 20,\n",
       " 'War': 2,\n",
       " 'Western': 1}"
      ]
     },
     "execution_count": 17,
     "metadata": {},
     "output_type": "execute_result"
    }
   ],
   "source": [
    "genres = {}\n",
    "for row in movies_2020['genres']:\n",
    "    for genre in row:\n",
    "        if genre in genres.keys():\n",
    "            genres[genre] += 1\n",
    "        else:\n",
    "            genres[genre] = 1\n",
    "            \n",
    "genres"
   ]
  },
  {
   "cell_type": "code",
   "execution_count": 18,
   "metadata": {
    "scrolled": true
   },
   "outputs": [
    {
     "data": {
      "text/plain": [
       "<Movie id:2707408[http] title:_\"Narcos\" (2015)_>"
      ]
     },
     "metadata": {},
     "output_type": "display_data"
    },
    {
     "data": {
      "text/plain": [
       "<Movie id:1439629[http] title:_\"Community\" (2009)_>"
      ]
     },
     "metadata": {},
     "output_type": "display_data"
    },
    {
     "data": {
      "text/plain": [
       "<Movie id:4786824[http] title:_\"The Crown\" (2016)_>"
      ]
     },
     "metadata": {},
     "output_type": "display_data"
    },
    {
     "data": {
      "text/plain": [
       "<Movie id:3032476[http] title:_\"Better Call Saul\" (2015)_>"
      ]
     },
     "metadata": {},
     "output_type": "display_data"
    },
    {
     "data": {
      "text/plain": [
       "<Movie id:10473150[http] title:_\"Grand Army\" (2020)_>"
      ]
     },
     "metadata": {},
     "output_type": "display_data"
    },
    {
     "data": {
      "text/plain": [
       "<Movie id:6156584[http] title:_\"Snowpiercer\" (2020)_>"
      ]
     },
     "metadata": {},
     "output_type": "display_data"
    },
    {
     "data": {
      "text/plain": [
       "<Movie id:0460649[http] title:_\"How I Met Your Mother\" (2005)_>"
      ]
     },
     "metadata": {},
     "output_type": "display_data"
    },
    {
     "data": {
      "text/plain": [
       "<Movie id:7423538[http] title:_\"Ratched\" (2020)_>"
      ]
     },
     "metadata": {},
     "output_type": "display_data"
    },
    {
     "data": {
      "text/plain": [
       "<Movie id:7767422[http] title:_\"Sex Education\" (2019)_>"
      ]
     },
     "metadata": {},
     "output_type": "display_data"
    },
    {
     "data": {
      "text/plain": [
       "<Movie id:9151230[http] title:_\"To the Lake\" (2019)_>"
      ]
     },
     "metadata": {},
     "output_type": "display_data"
    },
    {
     "data": {
      "text/plain": [
       "<Movie id:10048342[http] title:_\"The Queen's Gambit\" (2020) (mini)_>"
      ]
     },
     "metadata": {},
     "output_type": "display_data"
    },
    {
     "data": {
      "text/plain": [
       "<Movie id:7335184[http] title:_\"You\" (2018)_>"
      ]
     },
     "metadata": {},
     "output_type": "display_data"
    },
    {
     "data": {
      "text/plain": [
       "<Movie id:9827854[http] title:_\"Hollywood\" (2020) (mini)_>"
      ]
     },
     "metadata": {},
     "output_type": "display_data"
    },
    {
     "data": {
      "text/plain": [
       "<Movie id:11823076[http] title:_\"Tiger King\" (2020) (mini)_>"
      ]
     },
     "metadata": {},
     "output_type": "display_data"
    },
    {
     "data": {
      "text/plain": [
       "<Movie id:8787802[http] title:_\"Away\" (2020)_>"
      ]
     },
     "metadata": {},
     "output_type": "display_data"
    },
    {
     "data": {
      "text/plain": [
       "<Movie id:9612516[http] title:_\"Space Force\" (2020)_>"
      ]
     },
     "metadata": {},
     "output_type": "display_data"
    },
    {
     "data": {
      "text/plain": [
       "<Movie id:6315640[http] title:_\"Atypical\" (2017)_>"
      ]
     },
     "metadata": {},
     "output_type": "display_data"
    },
    {
     "data": {
      "text/plain": [
       "<Movie id:2261227[http] title:_\"Altered Carbon\" (2018)_>"
      ]
     },
     "metadata": {},
     "output_type": "display_data"
    },
    {
     "data": {
      "text/plain": [
       "<Movie id:9348692[http] title:_\"Criminal: UK\" (2019)_>"
      ]
     },
     "metadata": {},
     "output_type": "display_data"
    },
    {
     "data": {
      "text/plain": [
       "<Movie id:5618256[http] title:_\"Manhunt\" (2017)_>"
      ]
     },
     "metadata": {},
     "output_type": "display_data"
    },
    {
     "data": {
      "text/plain": [
       "<Movie id:7971476[http] title:_\"The Politician\" (2019)_>"
      ]
     },
     "metadata": {},
     "output_type": "display_data"
    },
    {
     "data": {
      "text/plain": [
       "<Movie id:7120662[http] title:_\"Derry Girls\" (2018)_>"
      ]
     },
     "metadata": {},
     "output_type": "display_data"
    },
    {
     "data": {
      "text/plain": [
       "<Movie id:12759384[http] title:_\"(Un)Well\" (2020)_>"
      ]
     },
     "metadata": {},
     "output_type": "display_data"
    },
    {
     "data": {
      "text/plain": [
       "<Movie id:12588416[http] title:_\"The Business of Drugs\" (2020) (mini)_>"
      ]
     },
     "metadata": {},
     "output_type": "display_data"
    },
    {
     "data": {
      "text/plain": [
       "<Movie id:10888876[http] title:_\"Love & Anarchy\" (2020)_>"
      ]
     },
     "metadata": {},
     "output_type": "display_data"
    },
    {
     "data": {
      "text/plain": [
       "<Movie id:10919486[http] title:_\"Into the Night\" (2020)_>"
      ]
     },
     "metadata": {},
     "output_type": "display_data"
    },
    {
     "data": {
      "text/plain": [
       "<Movie id:12312250[http] title:_\"Jeffrey Epstein: Filthy Rich\" (2020) (mini)_>"
      ]
     },
     "metadata": {},
     "output_type": "display_data"
    },
    {
     "data": {
      "text/plain": [
       "<Movie id:9849210[http] title:_\"Biohackers\" (2020)_>"
      ]
     },
     "metadata": {},
     "output_type": "display_data"
    },
    {
     "data": {
      "text/plain": [
       "<Movie id:11600174[http] title:_\"The Pharmacist\" (2020) (mini)_>"
      ]
     },
     "metadata": {},
     "output_type": "display_data"
    },
    {
     "data": {
      "text/plain": [
       "<Movie id:9815454[http] title:_\"Unorthodox\" (2020) (mini)_>"
      ]
     },
     "metadata": {},
     "output_type": "display_data"
    },
    {
     "data": {
      "text/plain": [
       "<Movie id:3398228[http] title:_\"BoJack Horseman\" (2014)_>"
      ]
     },
     "metadata": {},
     "output_type": "display_data"
    },
    {
     "data": {
      "text/plain": [
       "<Movie id:11958942[http] title:_\"How to Fix a Drug Scandal\" (2020) (mini)_>"
      ]
     },
     "metadata": {},
     "output_type": "display_data"
    },
    {
     "data": {
      "text/plain": [
       "<Movie id:9184994[http] title:_\"How to Sell Drugs Online (Fast)\" (2019)_>"
      ]
     },
     "metadata": {},
     "output_type": "display_data"
    },
    {
     "data": {
      "text/plain": [
       "<Movie id:11318602[http] title:_\"Don't F**k with Cats: Hunting an Internet Killer\" (2019) (mini)_>"
      ]
     },
     "metadata": {},
     "output_type": "display_data"
    },
    {
     "data": {
      "text/plain": [
       "<Movie id:7271684[http] title:_The Story of Diana (2017) (TV)_>"
      ]
     },
     "metadata": {},
     "output_type": "display_data"
    },
    {
     "data": {
      "text/plain": [
       "<Movie id:9073958[http] title:_\"White Lines\" (2020)_>"
      ]
     },
     "metadata": {},
     "output_type": "display_data"
    },
    {
     "data": {
      "text/plain": [
       "<Movie id:9446688[http] title:_\"I Am Not Okay with This\" (2020)_>"
      ]
     },
     "metadata": {},
     "output_type": "display_data"
    },
    {
     "data": {
      "text/plain": [
       "<Movie id:12759400[http] title:_\"High Score\" (2020) (mini)_>"
      ]
     },
     "metadata": {},
     "output_type": "display_data"
    },
    {
     "data": {
      "text/plain": [
       "<Movie id:11639414[http] title:_\"The Midnight Gospel\" (2020)_>"
      ]
     },
     "metadata": {},
     "output_type": "display_data"
    },
    {
     "data": {
      "text/plain": [
       "<Movie id:11390530[http] title:_\"Sex, Explained\" (2020)_>"
      ]
     },
     "metadata": {},
     "output_type": "display_data"
    },
    {
     "data": {
      "text/plain": [
       "<Movie id:5180504[http] title:_\"The Witcher\" (2019)_>"
      ]
     },
     "metadata": {},
     "output_type": "display_data"
    },
    {
     "data": {
      "text/plain": [
       "<Movie id:10810430[http] title:_\"The Mind, Explained\" (2019) (mini)_>"
      ]
     },
     "metadata": {},
     "output_type": "display_data"
    },
    {
     "data": {
      "text/plain": [
       "<Movie id:7259746[http] title:_\"Queer Eye\" (2018)_>"
      ]
     },
     "metadata": {},
     "output_type": "display_data"
    },
    {
     "data": {
      "text/plain": [
       "<Movie id:5863126[http] title:_\"Last Chance U\" (2016)_>"
      ]
     },
     "metadata": {},
     "output_type": "display_data"
    },
    {
     "data": {
      "text/plain": [
       "<Movie id:5347906[http] title:_\"Cooked\" (2016) (mini)_>"
      ]
     },
     "metadata": {},
     "output_type": "display_data"
    },
    {
     "data": {
      "text/plain": [
       "<Movie id:1441940[http] title:_Broken (2012)_>"
      ]
     },
     "metadata": {},
     "output_type": "display_data"
    },
    {
     "data": {
      "text/plain": [
       "<Movie id:5924572[http] title:_\"Deadly Class\" (2018)_>"
      ]
     },
     "metadata": {},
     "output_type": "display_data"
    },
    {
     "data": {
      "text/plain": [
       "<Movie id:11497904[http] title:_\"Pandemic: How to Prevent an Outbreak\" (2020)_>"
      ]
     },
     "metadata": {},
     "output_type": "display_data"
    },
    {
     "data": {
      "text/plain": [
       "<Movie id:12027034[http] title:_\"Middleditch & Schwartz\" (2020)_>"
      ]
     },
     "metadata": {},
     "output_type": "display_data"
    },
    {
     "data": {
      "text/plain": [
       "<Movie id:7907916[http] title:_\"Ugly Delicious\" (2018)_>"
      ]
     },
     "metadata": {},
     "output_type": "display_data"
    },
    {
     "data": {
      "text/plain": [
       "<Movie id:4604612[http] title:_\"The Alienist: Angel of Darkness\" (2018)_>"
      ]
     },
     "metadata": {},
     "output_type": "display_data"
    },
    {
     "data": {
      "text/plain": [
       "<Movie id:12588372[http] title:_\"Fear City: New York vs the Mafia\" (2020) (mini)_>"
      ]
     },
     "metadata": {},
     "output_type": "display_data"
    },
    {
     "data": {
      "text/plain": [
       "<Movie id:4939064[http] title:_\"Mars\" (2016)_>"
      ]
     },
     "metadata": {},
     "output_type": "display_data"
    },
    {
     "data": {
      "text/plain": [
       "<Movie id:6474378[http] title:_\"Good Girls\" (2018)_>"
      ]
     },
     "metadata": {},
     "output_type": "display_data"
    },
    {
     "data": {
      "text/plain": [
       "<Movie id:7979580[http] title:_Connected (2021)_>"
      ]
     },
     "metadata": {},
     "output_type": "display_data"
    },
    {
     "data": {
      "text/plain": [
       "<Movie id:12930534[http] title:_\"Challenger: The Final Flight\" (2020) (mini)_>"
      ]
     },
     "metadata": {},
     "output_type": "display_data"
    },
    {
     "data": {
      "text/plain": [
       "<Movie id:10986050[http] title:_\"Criminal: Spain\" (2019)_>"
      ]
     },
     "metadata": {},
     "output_type": "display_data"
    },
    {
     "data": {
      "text/plain": [
       "<Movie id:12580168[http] title:_\"Indian Matchmaking\" (2020)_>"
      ]
     },
     "metadata": {},
     "output_type": "display_data"
    },
    {
     "data": {
      "text/plain": [
       "<Movie id:12429046[http] title:_\"Home Game\" (2020)_>"
      ]
     },
     "metadata": {},
     "output_type": "display_data"
    },
    {
     "data": {
      "text/plain": [
       "<Movie id:8962124[http] title:_\"Emily in Paris\" (2020)_>"
      ]
     },
     "metadata": {},
     "output_type": "display_data"
    },
    {
     "data": {
      "text/plain": [
       "<Movie id:8005374[http] title:_\"Explained\" (2018)_>"
      ]
     },
     "metadata": {},
     "output_type": "display_data"
    },
    {
     "data": {
      "text/plain": [
       "<Movie id:11092086[http] title:_\"The Iliza Shlesinger Sketch Show\" (2020)_>"
      ]
     },
     "metadata": {},
     "output_type": "display_data"
    },
    {
     "data": {
      "text/plain": [
       "<Movie id:12574336[http] title:_\"Homemade\" (2020)_>"
      ]
     },
     "metadata": {},
     "output_type": "display_data"
    }
   ],
   "source": [
    "tv_series_2020['genres'] = None\n",
    "tv_series_2020['genres'] = tv_series_2020['seriesTitle'].apply(get_genres)"
   ]
  },
  {
   "cell_type": "code",
   "execution_count": 19,
   "metadata": {},
   "outputs": [
    {
     "data": {
      "text/plain": [
       "{'Action': 13,\n",
       " 'Adventure': 8,\n",
       " 'Animation': 5,\n",
       " 'Biography': 7,\n",
       " 'Comedy': 40,\n",
       " 'Crime': 30,\n",
       " 'Documentary': 25,\n",
       " 'Drama': 56,\n",
       " 'Family': 2,\n",
       " 'Fantasy': 5,\n",
       " 'History': 4,\n",
       " 'Horror': 4,\n",
       " 'Music': 2,\n",
       " 'Mystery': 13,\n",
       " 'Reality-TV': 2,\n",
       " 'Romance': 17,\n",
       " 'Sci-Fi': 18,\n",
       " 'Sport': 4,\n",
       " 'Thriller': 32,\n",
       " 'War': 2,\n",
       " 'Western': 1}"
      ]
     },
     "execution_count": 19,
     "metadata": {},
     "output_type": "execute_result"
    }
   ],
   "source": [
    "for row in tv_series_2020['genres']:\n",
    "    for genre in row:\n",
    "        if genre in genres.keys():\n",
    "            genres[genre] += 1\n",
    "        else:\n",
    "            genres[genre] = 1\n",
    "            \n",
    "genres"
   ]
  },
  {
   "cell_type": "code",
   "execution_count": 20,
   "metadata": {
    "collapsed": true
   },
   "outputs": [],
   "source": [
    "import json\n",
    "\n",
    "with open('genres.json', 'w') as fp:\n",
    "    json.dump(genres, fp)"
   ]
  },
  {
   "cell_type": "code",
   "execution_count": 45,
   "metadata": {},
   "outputs": [],
   "source": [
    "import plotly.express as px\n",
    "with open('genres.json') as json_file: \n",
    "    data = json.load(json_file)\n",
    "data_df = pd.DataFrame({\"Genre\":list(data.keys()), \"Quantity\":list(data.values())})"
   ]
  },
  {
   "cell_type": "code",
   "execution_count": 46,
   "metadata": {},
   "outputs": [
    {
     "name": "stderr",
     "output_type": "stream",
     "text": [
      "IOPub data rate exceeded.\n",
      "The notebook server will temporarily stop sending output\n",
      "to the client in order to avoid crashing it.\n",
      "To change this limit, set the config variable\n",
      "`--NotebookApp.iopub_data_rate_limit`.\n"
     ]
    },
    {
     "data": {
      "application/vnd.plotly.v1+json": {
       "config": {
        "plotlyServerURL": "https://plot.ly"
       },
       "data": [
        {
         "alignmentgroup": "True",
         "hovertemplate": "Quantity=%{x}<br>Genre=%{y}<extra></extra>",
         "legendgroup": "",
         "marker": {
          "color": "#636efa"
         },
         "name": "",
         "offsetgroup": "",
         "orientation": "h",
         "showlegend": false,
         "textposition": "auto",
         "type": "bar",
         "x": [
          40,
          56,
          2,
          30,
          13,
          32,
          17,
          4,
          13,
          8,
          18,
          25,
          2,
          4,
          7,
          4,
          5,
          2,
          5,
          1,
          2
         ],
         "xaxis": "x",
         "y": [
          "Comedy",
          "Drama",
          "War",
          "Crime",
          "Mystery",
          "Thriller",
          "Romance",
          "History",
          "Action",
          "Adventure",
          "Sci-Fi",
          "Documentary",
          "Music",
          "Sport",
          "Biography",
          "Horror",
          "Animation",
          "Family",
          "Fantasy",
          "Western",
          "Reality-TV"
         ],
         "yaxis": "y"
        }
       ],
       "layout": {
        "barmode": "relative",
        "legend": {
         "tracegroupgap": 0
        },
        "margin": {
         "t": 60
        },
        "template": {
         "data": {
          "bar": [
           {
            "error_x": {
             "color": "#2a3f5f"
            },
            "error_y": {
             "color": "#2a3f5f"
            },
            "marker": {
             "line": {
              "color": "#E5ECF6",
              "width": 0.5
             }
            },
            "type": "bar"
           }
          ],
          "barpolar": [
           {
            "marker": {
             "line": {
              "color": "#E5ECF6",
              "width": 0.5
             }
            },
            "type": "barpolar"
           }
          ],
          "carpet": [
           {
            "aaxis": {
             "endlinecolor": "#2a3f5f",
             "gridcolor": "white",
             "linecolor": "white",
             "minorgridcolor": "white",
             "startlinecolor": "#2a3f5f"
            },
            "baxis": {
             "endlinecolor": "#2a3f5f",
             "gridcolor": "white",
             "linecolor": "white",
             "minorgridcolor": "white",
             "startlinecolor": "#2a3f5f"
            },
            "type": "carpet"
           }
          ],
          "choropleth": [
           {
            "colorbar": {
             "outlinewidth": 0,
             "ticks": ""
            },
            "type": "choropleth"
           }
          ],
          "contour": [
           {
            "colorbar": {
             "outlinewidth": 0,
             "ticks": ""
            },
            "colorscale": [
             [
              0,
              "#0d0887"
             ],
             [
              0.1111111111111111,
              "#46039f"
             ],
             [
              0.2222222222222222,
              "#7201a8"
             ],
             [
              0.3333333333333333,
              "#9c179e"
             ],
             [
              0.4444444444444444,
              "#bd3786"
             ],
             [
              0.5555555555555556,
              "#d8576b"
             ],
             [
              0.6666666666666666,
              "#ed7953"
             ],
             [
              0.7777777777777778,
              "#fb9f3a"
             ],
             [
              0.8888888888888888,
              "#fdca26"
             ],
             [
              1,
              "#f0f921"
             ]
            ],
            "type": "contour"
           }
          ],
          "contourcarpet": [
           {
            "colorbar": {
             "outlinewidth": 0,
             "ticks": ""
            },
            "type": "contourcarpet"
           }
          ],
          "heatmap": [
           {
            "colorbar": {
             "outlinewidth": 0,
             "ticks": ""
            },
            "colorscale": [
             [
              0,
              "#0d0887"
             ],
             [
              0.1111111111111111,
              "#46039f"
             ],
             [
              0.2222222222222222,
              "#7201a8"
             ],
             [
              0.3333333333333333,
              "#9c179e"
             ],
             [
              0.4444444444444444,
              "#bd3786"
             ],
             [
              0.5555555555555556,
              "#d8576b"
             ],
             [
              0.6666666666666666,
              "#ed7953"
             ],
             [
              0.7777777777777778,
              "#fb9f3a"
             ],
             [
              0.8888888888888888,
              "#fdca26"
             ],
             [
              1,
              "#f0f921"
             ]
            ],
            "type": "heatmap"
           }
          ],
          "heatmapgl": [
           {
            "colorbar": {
             "outlinewidth": 0,
             "ticks": ""
            },
            "colorscale": [
             [
              0,
              "#0d0887"
             ],
             [
              0.1111111111111111,
              "#46039f"
             ],
             [
              0.2222222222222222,
              "#7201a8"
             ],
             [
              0.3333333333333333,
              "#9c179e"
             ],
             [
              0.4444444444444444,
              "#bd3786"
             ],
             [
              0.5555555555555556,
              "#d8576b"
             ],
             [
              0.6666666666666666,
              "#ed7953"
             ],
             [
              0.7777777777777778,
              "#fb9f3a"
             ],
             [
              0.8888888888888888,
              "#fdca26"
             ],
             [
              1,
              "#f0f921"
             ]
            ],
            "type": "heatmapgl"
           }
          ],
          "histogram": [
           {
            "marker": {
             "colorbar": {
              "outlinewidth": 0,
              "ticks": ""
             }
            },
            "type": "histogram"
           }
          ],
          "histogram2d": [
           {
            "colorbar": {
             "outlinewidth": 0,
             "ticks": ""
            },
            "colorscale": [
             [
              0,
              "#0d0887"
             ],
             [
              0.1111111111111111,
              "#46039f"
             ],
             [
              0.2222222222222222,
              "#7201a8"
             ],
             [
              0.3333333333333333,
              "#9c179e"
             ],
             [
              0.4444444444444444,
              "#bd3786"
             ],
             [
              0.5555555555555556,
              "#d8576b"
             ],
             [
              0.6666666666666666,
              "#ed7953"
             ],
             [
              0.7777777777777778,
              "#fb9f3a"
             ],
             [
              0.8888888888888888,
              "#fdca26"
             ],
             [
              1,
              "#f0f921"
             ]
            ],
            "type": "histogram2d"
           }
          ],
          "histogram2dcontour": [
           {
            "colorbar": {
             "outlinewidth": 0,
             "ticks": ""
            },
            "colorscale": [
             [
              0,
              "#0d0887"
             ],
             [
              0.1111111111111111,
              "#46039f"
             ],
             [
              0.2222222222222222,
              "#7201a8"
             ],
             [
              0.3333333333333333,
              "#9c179e"
             ],
             [
              0.4444444444444444,
              "#bd3786"
             ],
             [
              0.5555555555555556,
              "#d8576b"
             ],
             [
              0.6666666666666666,
              "#ed7953"
             ],
             [
              0.7777777777777778,
              "#fb9f3a"
             ],
             [
              0.8888888888888888,
              "#fdca26"
             ],
             [
              1,
              "#f0f921"
             ]
            ],
            "type": "histogram2dcontour"
           }
          ],
          "mesh3d": [
           {
            "colorbar": {
             "outlinewidth": 0,
             "ticks": ""
            },
            "type": "mesh3d"
           }
          ],
          "parcoords": [
           {
            "line": {
             "colorbar": {
              "outlinewidth": 0,
              "ticks": ""
             }
            },
            "type": "parcoords"
           }
          ],
          "pie": [
           {
            "automargin": true,
            "type": "pie"
           }
          ],
          "scatter": [
           {
            "marker": {
             "colorbar": {
              "outlinewidth": 0,
              "ticks": ""
             }
            },
            "type": "scatter"
           }
          ],
          "scatter3d": [
           {
            "line": {
             "colorbar": {
              "outlinewidth": 0,
              "ticks": ""
             }
            },
            "marker": {
             "colorbar": {
              "outlinewidth": 0,
              "ticks": ""
             }
            },
            "type": "scatter3d"
           }
          ],
          "scattercarpet": [
           {
            "marker": {
             "colorbar": {
              "outlinewidth": 0,
              "ticks": ""
             }
            },
            "type": "scattercarpet"
           }
          ],
          "scattergeo": [
           {
            "marker": {
             "colorbar": {
              "outlinewidth": 0,
              "ticks": ""
             }
            },
            "type": "scattergeo"
           }
          ],
          "scattergl": [
           {
            "marker": {
             "colorbar": {
              "outlinewidth": 0,
              "ticks": ""
             }
            },
            "type": "scattergl"
           }
          ],
          "scattermapbox": [
           {
            "marker": {
             "colorbar": {
              "outlinewidth": 0,
              "ticks": ""
             }
            },
            "type": "scattermapbox"
           }
          ],
          "scatterpolar": [
           {
            "marker": {
             "colorbar": {
              "outlinewidth": 0,
              "ticks": ""
             }
            },
            "type": "scatterpolar"
           }
          ],
          "scatterpolargl": [
           {
            "marker": {
             "colorbar": {
              "outlinewidth": 0,
              "ticks": ""
             }
            },
            "type": "scatterpolargl"
           }
          ],
          "scatterternary": [
           {
            "marker": {
             "colorbar": {
              "outlinewidth": 0,
              "ticks": ""
             }
            },
            "type": "scatterternary"
           }
          ],
          "surface": [
           {
            "colorbar": {
             "outlinewidth": 0,
             "ticks": ""
            },
            "colorscale": [
             [
              0,
              "#0d0887"
             ],
             [
              0.1111111111111111,
              "#46039f"
             ],
             [
              0.2222222222222222,
              "#7201a8"
             ],
             [
              0.3333333333333333,
              "#9c179e"
             ],
             [
              0.4444444444444444,
              "#bd3786"
             ],
             [
              0.5555555555555556,
              "#d8576b"
             ],
             [
              0.6666666666666666,
              "#ed7953"
             ],
             [
              0.7777777777777778,
              "#fb9f3a"
             ],
             [
              0.8888888888888888,
              "#fdca26"
             ],
             [
              1,
              "#f0f921"
             ]
            ],
            "type": "surface"
           }
          ],
          "table": [
           {
            "cells": {
             "fill": {
              "color": "#EBF0F8"
             },
             "line": {
              "color": "white"
             }
            },
            "header": {
             "fill": {
              "color": "#C8D4E3"
             },
             "line": {
              "color": "white"
             }
            },
            "type": "table"
           }
          ]
         },
         "layout": {
          "annotationdefaults": {
           "arrowcolor": "#2a3f5f",
           "arrowhead": 0,
           "arrowwidth": 1
          },
          "coloraxis": {
           "colorbar": {
            "outlinewidth": 0,
            "ticks": ""
           }
          },
          "colorscale": {
           "diverging": [
            [
             0,
             "#8e0152"
            ],
            [
             0.1,
             "#c51b7d"
            ],
            [
             0.2,
             "#de77ae"
            ],
            [
             0.3,
             "#f1b6da"
            ],
            [
             0.4,
             "#fde0ef"
            ],
            [
             0.5,
             "#f7f7f7"
            ],
            [
             0.6,
             "#e6f5d0"
            ],
            [
             0.7,
             "#b8e186"
            ],
            [
             0.8,
             "#7fbc41"
            ],
            [
             0.9,
             "#4d9221"
            ],
            [
             1,
             "#276419"
            ]
           ],
           "sequential": [
            [
             0,
             "#0d0887"
            ],
            [
             0.1111111111111111,
             "#46039f"
            ],
            [
             0.2222222222222222,
             "#7201a8"
            ],
            [
             0.3333333333333333,
             "#9c179e"
            ],
            [
             0.4444444444444444,
             "#bd3786"
            ],
            [
             0.5555555555555556,
             "#d8576b"
            ],
            [
             0.6666666666666666,
             "#ed7953"
            ],
            [
             0.7777777777777778,
             "#fb9f3a"
            ],
            [
             0.8888888888888888,
             "#fdca26"
            ],
            [
             1,
             "#f0f921"
            ]
           ],
           "sequentialminus": [
            [
             0,
             "#0d0887"
            ],
            [
             0.1111111111111111,
             "#46039f"
            ],
            [
             0.2222222222222222,
             "#7201a8"
            ],
            [
             0.3333333333333333,
             "#9c179e"
            ],
            [
             0.4444444444444444,
             "#bd3786"
            ],
            [
             0.5555555555555556,
             "#d8576b"
            ],
            [
             0.6666666666666666,
             "#ed7953"
            ],
            [
             0.7777777777777778,
             "#fb9f3a"
            ],
            [
             0.8888888888888888,
             "#fdca26"
            ],
            [
             1,
             "#f0f921"
            ]
           ]
          },
          "colorway": [
           "#636efa",
           "#EF553B",
           "#00cc96",
           "#ab63fa",
           "#FFA15A",
           "#19d3f3",
           "#FF6692",
           "#B6E880",
           "#FF97FF",
           "#FECB52"
          ],
          "font": {
           "color": "#2a3f5f"
          },
          "geo": {
           "bgcolor": "white",
           "lakecolor": "white",
           "landcolor": "#E5ECF6",
           "showlakes": true,
           "showland": true,
           "subunitcolor": "white"
          },
          "hoverlabel": {
           "align": "left"
          },
          "hovermode": "closest",
          "mapbox": {
           "style": "light"
          },
          "paper_bgcolor": "white",
          "plot_bgcolor": "#E5ECF6",
          "polar": {
           "angularaxis": {
            "gridcolor": "white",
            "linecolor": "white",
            "ticks": ""
           },
           "bgcolor": "#E5ECF6",
           "radialaxis": {
            "gridcolor": "white",
            "linecolor": "white",
            "ticks": ""
           }
          },
          "scene": {
           "xaxis": {
            "backgroundcolor": "#E5ECF6",
            "gridcolor": "white",
            "gridwidth": 2,
            "linecolor": "white",
            "showbackground": true,
            "ticks": "",
            "zerolinecolor": "white"
           },
           "yaxis": {
            "backgroundcolor": "#E5ECF6",
            "gridcolor": "white",
            "gridwidth": 2,
            "linecolor": "white",
            "showbackground": true,
            "ticks": "",
            "zerolinecolor": "white"
           },
           "zaxis": {
            "backgroundcolor": "#E5ECF6",
            "gridcolor": "white",
            "gridwidth": 2,
            "linecolor": "white",
            "showbackground": true,
            "ticks": "",
            "zerolinecolor": "white"
           }
          },
          "shapedefaults": {
           "line": {
            "color": "#2a3f5f"
           }
          },
          "ternary": {
           "aaxis": {
            "gridcolor": "white",
            "linecolor": "white",
            "ticks": ""
           },
           "baxis": {
            "gridcolor": "white",
            "linecolor": "white",
            "ticks": ""
           },
           "bgcolor": "#E5ECF6",
           "caxis": {
            "gridcolor": "white",
            "linecolor": "white",
            "ticks": ""
           }
          },
          "title": {
           "x": 0.05
          },
          "xaxis": {
           "automargin": true,
           "gridcolor": "white",
           "linecolor": "white",
           "ticks": "",
           "title": {
            "standoff": 15
           },
           "zerolinecolor": "white",
           "zerolinewidth": 2
          },
          "yaxis": {
           "automargin": true,
           "gridcolor": "white",
           "linecolor": "white",
           "ticks": "",
           "title": {
            "standoff": 15
           },
           "zerolinecolor": "white",
           "zerolinewidth": 2
          }
         }
        },
        "xaxis": {
         "anchor": "y",
         "domain": [
          0,
          1
         ],
         "title": {
          "text": "Quantity"
         }
        },
        "yaxis": {
         "anchor": "x",
         "domain": [
          0,
          1
         ],
         "title": {
          "text": "Genre"
         }
        }
       }
      },
      "text/html": [
       "<div>                            <div id=\"58b0582a-8d93-4654-8e30-5a8d98e2c505\" class=\"plotly-graph-div\" style=\"height:525px; width:100%;\"></div>            <script type=\"text/javascript\">                require([\"plotly\"], function(Plotly) {                    window.PLOTLYENV=window.PLOTLYENV || {};                                    if (document.getElementById(\"58b0582a-8d93-4654-8e30-5a8d98e2c505\")) {                    Plotly.newPlot(                        \"58b0582a-8d93-4654-8e30-5a8d98e2c505\",                        [{\"alignmentgroup\": \"True\", \"hovertemplate\": \"Quantity=%{x}<br>Genre=%{y}<extra></extra>\", \"legendgroup\": \"\", \"marker\": {\"color\": \"#636efa\"}, \"name\": \"\", \"offsetgroup\": \"\", \"orientation\": \"h\", \"showlegend\": false, \"textposition\": \"auto\", \"type\": \"bar\", \"x\": [40, 56, 2, 30, 13, 32, 17, 4, 13, 8, 18, 25, 2, 4, 7, 4, 5, 2, 5, 1, 2], \"xaxis\": \"x\", \"y\": [\"Comedy\", \"Drama\", \"War\", \"Crime\", \"Mystery\", \"Thriller\", \"Romance\", \"History\", \"Action\", \"Adventure\", \"Sci-Fi\", \"Documentary\", \"Music\", \"Sport\", \"Biography\", \"Horror\", \"Animation\", \"Family\", \"Fantasy\", \"Western\", \"Reality-TV\"], \"yaxis\": \"y\"}],                        {\"barmode\": \"relative\", \"legend\": {\"tracegroupgap\": 0}, \"margin\": {\"t\": 60}, \"template\": {\"data\": {\"bar\": [{\"error_x\": {\"color\": \"#2a3f5f\"}, \"error_y\": {\"color\": \"#2a3f5f\"}, \"marker\": {\"line\": {\"color\": \"#E5ECF6\", \"width\": 0.5}}, \"type\": \"bar\"}], \"barpolar\": [{\"marker\": {\"line\": {\"color\": \"#E5ECF6\", \"width\": 0.5}}, \"type\": \"barpolar\"}], \"carpet\": [{\"aaxis\": {\"endlinecolor\": \"#2a3f5f\", \"gridcolor\": \"white\", \"linecolor\": \"white\", \"minorgridcolor\": \"white\", \"startlinecolor\": \"#2a3f5f\"}, \"baxis\": {\"endlinecolor\": \"#2a3f5f\", \"gridcolor\": \"white\", \"linecolor\": \"white\", \"minorgridcolor\": \"white\", \"startlinecolor\": \"#2a3f5f\"}, \"type\": \"carpet\"}], \"choropleth\": [{\"colorbar\": {\"outlinewidth\": 0, \"ticks\": \"\"}, \"type\": \"choropleth\"}], \"contour\": [{\"colorbar\": {\"outlinewidth\": 0, \"ticks\": \"\"}, \"colorscale\": [[0.0, \"#0d0887\"], [0.1111111111111111, \"#46039f\"], [0.2222222222222222, \"#7201a8\"], [0.3333333333333333, \"#9c179e\"], [0.4444444444444444, \"#bd3786\"], [0.5555555555555556, \"#d8576b\"], [0.6666666666666666, \"#ed7953\"], [0.7777777777777778, \"#fb9f3a\"], [0.8888888888888888, \"#fdca26\"], [1.0, \"#f0f921\"]], \"type\": \"contour\"}], \"contourcarpet\": [{\"colorbar\": {\"outlinewidth\": 0, \"ticks\": \"\"}, \"type\": \"contourcarpet\"}], \"heatmap\": [{\"colorbar\": {\"outlinewidth\": 0, \"ticks\": \"\"}, \"colorscale\": [[0.0, \"#0d0887\"], [0.1111111111111111, \"#46039f\"], [0.2222222222222222, \"#7201a8\"], [0.3333333333333333, \"#9c179e\"], [0.4444444444444444, \"#bd3786\"], [0.5555555555555556, \"#d8576b\"], [0.6666666666666666, \"#ed7953\"], [0.7777777777777778, \"#fb9f3a\"], [0.8888888888888888, \"#fdca26\"], [1.0, \"#f0f921\"]], \"type\": \"heatmap\"}], \"heatmapgl\": [{\"colorbar\": {\"outlinewidth\": 0, \"ticks\": \"\"}, \"colorscale\": [[0.0, \"#0d0887\"], [0.1111111111111111, \"#46039f\"], [0.2222222222222222, \"#7201a8\"], [0.3333333333333333, \"#9c179e\"], [0.4444444444444444, \"#bd3786\"], [0.5555555555555556, \"#d8576b\"], [0.6666666666666666, \"#ed7953\"], [0.7777777777777778, \"#fb9f3a\"], [0.8888888888888888, \"#fdca26\"], [1.0, \"#f0f921\"]], \"type\": \"heatmapgl\"}], \"histogram\": [{\"marker\": {\"colorbar\": {\"outlinewidth\": 0, \"ticks\": \"\"}}, \"type\": \"histogram\"}], \"histogram2d\": [{\"colorbar\": {\"outlinewidth\": 0, \"ticks\": \"\"}, \"colorscale\": [[0.0, \"#0d0887\"], [0.1111111111111111, \"#46039f\"], [0.2222222222222222, \"#7201a8\"], [0.3333333333333333, \"#9c179e\"], [0.4444444444444444, \"#bd3786\"], [0.5555555555555556, \"#d8576b\"], [0.6666666666666666, \"#ed7953\"], [0.7777777777777778, \"#fb9f3a\"], [0.8888888888888888, \"#fdca26\"], [1.0, \"#f0f921\"]], \"type\": \"histogram2d\"}], \"histogram2dcontour\": [{\"colorbar\": {\"outlinewidth\": 0, \"ticks\": \"\"}, \"colorscale\": [[0.0, \"#0d0887\"], [0.1111111111111111, \"#46039f\"], [0.2222222222222222, \"#7201a8\"], [0.3333333333333333, \"#9c179e\"], [0.4444444444444444, \"#bd3786\"], [0.5555555555555556, \"#d8576b\"], [0.6666666666666666, \"#ed7953\"], [0.7777777777777778, \"#fb9f3a\"], [0.8888888888888888, \"#fdca26\"], [1.0, \"#f0f921\"]], \"type\": \"histogram2dcontour\"}], \"mesh3d\": [{\"colorbar\": {\"outlinewidth\": 0, \"ticks\": \"\"}, \"type\": \"mesh3d\"}], \"parcoords\": [{\"line\": {\"colorbar\": {\"outlinewidth\": 0, \"ticks\": \"\"}}, \"type\": \"parcoords\"}], \"pie\": [{\"automargin\": true, \"type\": \"pie\"}], \"scatter\": [{\"marker\": {\"colorbar\": {\"outlinewidth\": 0, \"ticks\": \"\"}}, \"type\": \"scatter\"}], \"scatter3d\": [{\"line\": {\"colorbar\": {\"outlinewidth\": 0, \"ticks\": \"\"}}, \"marker\": {\"colorbar\": {\"outlinewidth\": 0, \"ticks\": \"\"}}, \"type\": \"scatter3d\"}], \"scattercarpet\": [{\"marker\": {\"colorbar\": {\"outlinewidth\": 0, \"ticks\": \"\"}}, \"type\": \"scattercarpet\"}], \"scattergeo\": [{\"marker\": {\"colorbar\": {\"outlinewidth\": 0, \"ticks\": \"\"}}, \"type\": \"scattergeo\"}], \"scattergl\": [{\"marker\": {\"colorbar\": {\"outlinewidth\": 0, \"ticks\": \"\"}}, \"type\": \"scattergl\"}], \"scattermapbox\": [{\"marker\": {\"colorbar\": {\"outlinewidth\": 0, \"ticks\": \"\"}}, \"type\": \"scattermapbox\"}], \"scatterpolar\": [{\"marker\": {\"colorbar\": {\"outlinewidth\": 0, \"ticks\": \"\"}}, \"type\": \"scatterpolar\"}], \"scatterpolargl\": [{\"marker\": {\"colorbar\": {\"outlinewidth\": 0, \"ticks\": \"\"}}, \"type\": \"scatterpolargl\"}], \"scatterternary\": [{\"marker\": {\"colorbar\": {\"outlinewidth\": 0, \"ticks\": \"\"}}, \"type\": \"scatterternary\"}], \"surface\": [{\"colorbar\": {\"outlinewidth\": 0, \"ticks\": \"\"}, \"colorscale\": [[0.0, \"#0d0887\"], [0.1111111111111111, \"#46039f\"], [0.2222222222222222, \"#7201a8\"], [0.3333333333333333, \"#9c179e\"], [0.4444444444444444, \"#bd3786\"], [0.5555555555555556, \"#d8576b\"], [0.6666666666666666, \"#ed7953\"], [0.7777777777777778, \"#fb9f3a\"], [0.8888888888888888, \"#fdca26\"], [1.0, \"#f0f921\"]], \"type\": \"surface\"}], \"table\": [{\"cells\": {\"fill\": {\"color\": \"#EBF0F8\"}, \"line\": {\"color\": \"white\"}}, \"header\": {\"fill\": {\"color\": \"#C8D4E3\"}, \"line\": {\"color\": \"white\"}}, \"type\": \"table\"}]}, \"layout\": {\"annotationdefaults\": {\"arrowcolor\": \"#2a3f5f\", \"arrowhead\": 0, \"arrowwidth\": 1}, \"coloraxis\": {\"colorbar\": {\"outlinewidth\": 0, \"ticks\": \"\"}}, \"colorscale\": {\"diverging\": [[0, \"#8e0152\"], [0.1, \"#c51b7d\"], [0.2, \"#de77ae\"], [0.3, \"#f1b6da\"], [0.4, \"#fde0ef\"], [0.5, \"#f7f7f7\"], [0.6, \"#e6f5d0\"], [0.7, \"#b8e186\"], [0.8, \"#7fbc41\"], [0.9, \"#4d9221\"], [1, \"#276419\"]], \"sequential\": [[0.0, \"#0d0887\"], [0.1111111111111111, \"#46039f\"], [0.2222222222222222, \"#7201a8\"], [0.3333333333333333, \"#9c179e\"], [0.4444444444444444, \"#bd3786\"], [0.5555555555555556, \"#d8576b\"], [0.6666666666666666, \"#ed7953\"], [0.7777777777777778, \"#fb9f3a\"], [0.8888888888888888, \"#fdca26\"], [1.0, \"#f0f921\"]], \"sequentialminus\": [[0.0, \"#0d0887\"], [0.1111111111111111, \"#46039f\"], [0.2222222222222222, \"#7201a8\"], [0.3333333333333333, \"#9c179e\"], [0.4444444444444444, \"#bd3786\"], [0.5555555555555556, \"#d8576b\"], [0.6666666666666666, \"#ed7953\"], [0.7777777777777778, \"#fb9f3a\"], [0.8888888888888888, \"#fdca26\"], [1.0, \"#f0f921\"]]}, \"colorway\": [\"#636efa\", \"#EF553B\", \"#00cc96\", \"#ab63fa\", \"#FFA15A\", \"#19d3f3\", \"#FF6692\", \"#B6E880\", \"#FF97FF\", \"#FECB52\"], \"font\": {\"color\": \"#2a3f5f\"}, \"geo\": {\"bgcolor\": \"white\", \"lakecolor\": \"white\", \"landcolor\": \"#E5ECF6\", \"showlakes\": true, \"showland\": true, \"subunitcolor\": \"white\"}, \"hoverlabel\": {\"align\": \"left\"}, \"hovermode\": \"closest\", \"mapbox\": {\"style\": \"light\"}, \"paper_bgcolor\": \"white\", \"plot_bgcolor\": \"#E5ECF6\", \"polar\": {\"angularaxis\": {\"gridcolor\": \"white\", \"linecolor\": \"white\", \"ticks\": \"\"}, \"bgcolor\": \"#E5ECF6\", \"radialaxis\": {\"gridcolor\": \"white\", \"linecolor\": \"white\", \"ticks\": \"\"}}, \"scene\": {\"xaxis\": {\"backgroundcolor\": \"#E5ECF6\", \"gridcolor\": \"white\", \"gridwidth\": 2, \"linecolor\": \"white\", \"showbackground\": true, \"ticks\": \"\", \"zerolinecolor\": \"white\"}, \"yaxis\": {\"backgroundcolor\": \"#E5ECF6\", \"gridcolor\": \"white\", \"gridwidth\": 2, \"linecolor\": \"white\", \"showbackground\": true, \"ticks\": \"\", \"zerolinecolor\": \"white\"}, \"zaxis\": {\"backgroundcolor\": \"#E5ECF6\", \"gridcolor\": \"white\", \"gridwidth\": 2, \"linecolor\": \"white\", \"showbackground\": true, \"ticks\": \"\", \"zerolinecolor\": \"white\"}}, \"shapedefaults\": {\"line\": {\"color\": \"#2a3f5f\"}}, \"ternary\": {\"aaxis\": {\"gridcolor\": \"white\", \"linecolor\": \"white\", \"ticks\": \"\"}, \"baxis\": {\"gridcolor\": \"white\", \"linecolor\": \"white\", \"ticks\": \"\"}, \"bgcolor\": \"#E5ECF6\", \"caxis\": {\"gridcolor\": \"white\", \"linecolor\": \"white\", \"ticks\": \"\"}}, \"title\": {\"x\": 0.05}, \"xaxis\": {\"automargin\": true, \"gridcolor\": \"white\", \"linecolor\": \"white\", \"ticks\": \"\", \"title\": {\"standoff\": 15}, \"zerolinecolor\": \"white\", \"zerolinewidth\": 2}, \"yaxis\": {\"automargin\": true, \"gridcolor\": \"white\", \"linecolor\": \"white\", \"ticks\": \"\", \"title\": {\"standoff\": 15}, \"zerolinecolor\": \"white\", \"zerolinewidth\": 2}}}, \"xaxis\": {\"anchor\": \"y\", \"domain\": [0.0, 1.0], \"title\": {\"text\": \"Quantity\"}}, \"yaxis\": {\"anchor\": \"x\", \"domain\": [0.0, 1.0], \"title\": {\"text\": \"Genre\"}}},                        {\"responsive\": true}                    ).then(function(){\n",
       "                            \n",
       "var gd = document.getElementById('58b0582a-8d93-4654-8e30-5a8d98e2c505');\n",
       "var x = new MutationObserver(function (mutations, observer) {{\n",
       "        var display = window.getComputedStyle(gd).display;\n",
       "        if (!display || display === 'none') {{\n",
       "            console.log([gd, 'removed!']);\n",
       "            Plotly.purge(gd);\n",
       "            observer.disconnect();\n",
       "        }}\n",
       "}});\n",
       "\n",
       "// Listen for the removal of the full notebook cells\n",
       "var notebookContainer = gd.closest('#notebook-container');\n",
       "if (notebookContainer) {{\n",
       "    x.observe(notebookContainer, {childList: true});\n",
       "}}\n",
       "\n",
       "// Listen for the clearing of the current output cell\n",
       "var outputEl = gd.closest('.output');\n",
       "if (outputEl) {{\n",
       "    x.observe(outputEl, {childList: true});\n",
       "}}\n",
       "\n",
       "                        })                };                });            </script>        </div>"
      ]
     },
     "metadata": {},
     "output_type": "display_data"
    }
   ],
   "source": [
    "fig = px.bar(data_df,x=\"Quantity\", y=\"Genre\", orientation='h')\n",
    "fig.show()"
   ]
  },
  {
   "cell_type": "code",
   "execution_count": 33,
   "metadata": {},
   "outputs": [
    {
     "data": {
      "text/plain": [
       "{'Action': 13,\n",
       " 'Adventure': 8,\n",
       " 'Animation': 5,\n",
       " 'Biography': 7,\n",
       " 'Comedy': 40,\n",
       " 'Crime': 30,\n",
       " 'Documentary': 25,\n",
       " 'Drama': 56,\n",
       " 'Family': 2,\n",
       " 'Fantasy': 5,\n",
       " 'History': 4,\n",
       " 'Horror': 4,\n",
       " 'Music': 2,\n",
       " 'Mystery': 13,\n",
       " 'Reality-TV': 2,\n",
       " 'Romance': 17,\n",
       " 'Sci-Fi': 18,\n",
       " 'Sport': 4,\n",
       " 'Thriller': 32,\n",
       " 'War': 2,\n",
       " 'Western': 1}"
      ]
     },
     "execution_count": 33,
     "metadata": {},
     "output_type": "execute_result"
    }
   ],
   "source": [
    "data"
   ]
  },
  {
   "cell_type": "code",
   "execution_count": 29,
   "metadata": {},
   "outputs": [
    {
     "data": {
      "text/html": [
       "<div>\n",
       "<style>\n",
       "    .dataframe thead tr:only-child th {\n",
       "        text-align: right;\n",
       "    }\n",
       "\n",
       "    .dataframe thead th {\n",
       "        text-align: left;\n",
       "    }\n",
       "\n",
       "    .dataframe tbody tr th {\n",
       "        vertical-align: top;\n",
       "    }\n",
       "</style>\n",
       "<table border=\"1\" class=\"dataframe\">\n",
       "  <thead>\n",
       "    <tr style=\"text-align: right;\">\n",
       "      <th></th>\n",
       "      <th>0</th>\n",
       "      <th>1</th>\n",
       "      <th>2</th>\n",
       "      <th>3</th>\n",
       "      <th>4</th>\n",
       "      <th>5</th>\n",
       "      <th>6</th>\n",
       "      <th>7</th>\n",
       "      <th>8</th>\n",
       "      <th>9</th>\n",
       "      <th>...</th>\n",
       "      <th>11</th>\n",
       "      <th>12</th>\n",
       "      <th>13</th>\n",
       "      <th>14</th>\n",
       "      <th>15</th>\n",
       "      <th>16</th>\n",
       "      <th>17</th>\n",
       "      <th>18</th>\n",
       "      <th>19</th>\n",
       "      <th>20</th>\n",
       "    </tr>\n",
       "  </thead>\n",
       "  <tbody>\n",
       "    <tr>\n",
       "      <th>0</th>\n",
       "      <td>Comedy</td>\n",
       "      <td>Drama</td>\n",
       "      <td>War</td>\n",
       "      <td>Crime</td>\n",
       "      <td>Mystery</td>\n",
       "      <td>Thriller</td>\n",
       "      <td>Romance</td>\n",
       "      <td>History</td>\n",
       "      <td>Action</td>\n",
       "      <td>Adventure</td>\n",
       "      <td>...</td>\n",
       "      <td>Documentary</td>\n",
       "      <td>Music</td>\n",
       "      <td>Sport</td>\n",
       "      <td>Biography</td>\n",
       "      <td>Horror</td>\n",
       "      <td>Animation</td>\n",
       "      <td>Family</td>\n",
       "      <td>Fantasy</td>\n",
       "      <td>Western</td>\n",
       "      <td>Reality-TV</td>\n",
       "    </tr>\n",
       "    <tr>\n",
       "      <th>1</th>\n",
       "      <td>40</td>\n",
       "      <td>56</td>\n",
       "      <td>2</td>\n",
       "      <td>30</td>\n",
       "      <td>13</td>\n",
       "      <td>32</td>\n",
       "      <td>17</td>\n",
       "      <td>4</td>\n",
       "      <td>13</td>\n",
       "      <td>8</td>\n",
       "      <td>...</td>\n",
       "      <td>25</td>\n",
       "      <td>2</td>\n",
       "      <td>4</td>\n",
       "      <td>7</td>\n",
       "      <td>4</td>\n",
       "      <td>5</td>\n",
       "      <td>2</td>\n",
       "      <td>5</td>\n",
       "      <td>1</td>\n",
       "      <td>2</td>\n",
       "    </tr>\n",
       "  </tbody>\n",
       "</table>\n",
       "<p>2 rows × 21 columns</p>\n",
       "</div>"
      ],
      "text/plain": [
       "       0      1    2      3        4         5        6        7       8   \\\n",
       "0  Comedy  Drama  War  Crime  Mystery  Thriller  Romance  History  Action   \n",
       "1      40     56    2     30       13        32       17        4      13   \n",
       "\n",
       "          9      ...               11     12     13         14      15  \\\n",
       "0  Adventure     ...      Documentary  Music  Sport  Biography  Horror   \n",
       "1          8     ...               25      2      4          7       4   \n",
       "\n",
       "          16      17       18       19          20  \n",
       "0  Animation  Family  Fantasy  Western  Reality-TV  \n",
       "1          5       2        5        1           2  \n",
       "\n",
       "[2 rows x 21 columns]"
      ]
     },
     "execution_count": 29,
     "metadata": {},
     "output_type": "execute_result"
    }
   ],
   "source": [
    "genres_df"
   ]
  },
  {
   "cell_type": "code",
   "execution_count": null,
   "metadata": {},
   "outputs": [],
   "source": [
    "movies_2019 = df_2019[df_2019['seriesTitle'].isnull()]\n",
    "len(movies_2019)"
   ]
  },
  {
   "cell_type": "code",
   "execution_count": null,
   "metadata": {},
   "outputs": [],
   "source": [
    "len(tv_series_2020['seriesTitle'].unique())"
   ]
  },
  {
   "cell_type": "code",
   "execution_count": null,
   "metadata": {},
   "outputs": [],
   "source": [
    "len(tv_series_2019['seriesTitle'].unique())"
   ]
  },
  {
   "cell_type": "code",
   "execution_count": null,
   "metadata": {},
   "outputs": [],
   "source": [
    "df['weekDay'] = df['dateStr'].apply(lambda x: x.weekday_name)\n",
    "df['weekDayCount'] = df['dateStr'].apply(lambda x: x.weekday())"
   ]
  },
  {
   "cell_type": "code",
   "execution_count": null,
   "metadata": {
    "collapsed": true
   },
   "outputs": [],
   "source": [
    "df['durationM'] = df['duration'].apply(lambda x: x/60)"
   ]
  },
  {
   "cell_type": "code",
   "execution_count": null,
   "metadata": {},
   "outputs": [],
   "source": [
    "df['durationM']"
   ]
  },
  {
   "cell_type": "code",
   "execution_count": null,
   "metadata": {},
   "outputs": [],
   "source": [
    "weekday = df[['durationM', 'weekDay', 'weekDayCount']].groupby('weekDay').mean().reset_index().sort_values('weekDayCount')\n",
    "# weekday['mean_dur'] = weekday['durationM'].mean()\n",
    "# fig = px.bar(weekday, x=\"weekDay\", y=\"durationM\", color=\"weekDay\", barmode=\"group\")\n",
    "# fig.show()"
   ]
  },
  {
   "cell_type": "code",
   "execution_count": null,
   "metadata": {},
   "outputs": [],
   "source": [
    "weekday['isWeekend'] = weekday['weekDay'].apply(lambda x: 'yes' if x =='Saturday' or x == 'Sunday' else 'no')\n",
    "weekday"
   ]
  },
  {
   "cell_type": "code",
   "execution_count": null,
   "metadata": {},
   "outputs": [],
   "source": [
    "df['month'] = df['dateStr'].apply(lambda x: x.month)\n",
    "df"
   ]
  },
  {
   "cell_type": "code",
   "execution_count": null,
   "metadata": {},
   "outputs": [],
   "source": [
    "month = df[['durationH', 'month']].groupby('month').sum().reset_index().sort_values('month')\n",
    "month"
   ]
  },
  {
   "cell_type": "code",
   "execution_count": null,
   "metadata": {},
   "outputs": [],
   "source": [
    "px.line(month, x=\"month\", y=\"durationH\", title='Total number of hours per month')"
   ]
  },
  {
   "cell_type": "code",
   "execution_count": null,
   "metadata": {
    "collapsed": true
   },
   "outputs": [],
   "source": []
  }
 ],
 "metadata": {
  "kernelspec": {
   "display_name": "Python 3",
   "language": "python",
   "name": "python3"
  },
  "language_info": {
   "codemirror_mode": {
    "name": "ipython",
    "version": 3
   },
   "file_extension": ".py",
   "mimetype": "text/x-python",
   "name": "python",
   "nbconvert_exporter": "python",
   "pygments_lexer": "ipython3",
   "version": "3.6.3"
  }
 },
 "nbformat": 4,
 "nbformat_minor": 2
}
